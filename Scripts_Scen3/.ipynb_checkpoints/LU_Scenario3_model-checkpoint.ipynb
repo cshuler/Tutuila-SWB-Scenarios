{
 "cells": [
  {
   "cell_type": "markdown",
   "metadata": {
    "collapsed": true
   },
   "source": [
    "THings to manifest\n",
    "\n",
    "- All intact lowland rainorest is preserved   (use Original_LU2_1600.shp)     DONE\n",
    "\n",
    "\n",
    "- Special management polygons are created     (use Special_mangmet_ares_wetland.shp)  Done \n",
    "   - MMI, \n",
    "   - buffer around wetlands\n",
    "   - Tafuna Rainforest area\n",
    "    - aasu forest preserve\n",
    "\n",
    "- Coastal development reduced and a natural buffer of mangrove forest is created around coastal areas at a 6 ft rise level   Done \n",
    "   - do the existing mangrove buffer, but also add in one that pereserves coastal forest or rock araes\n",
    "    \n",
    "- increase and consolidataion of agroforest areas   (do with  their location in the expansion model )\n",
    "\n",
    "- do the stream flood area thing too make it bigger    (Using a 5 m buffer on either side of stream)    Done\n"
   ]
  },
  {
   "cell_type": "code",
   "execution_count": 25,
   "metadata": {},
   "outputs": [
    {
     "data": {
      "text/html": [
       " <style>\n",
       "    div#notebook-container    { width: 95%; }\n",
       "    div#menubar-container     { width: 85%; }\n",
       "    div#maintoolbar-container { width: 99%; } </style> "
      ],
      "text/plain": [
       "<IPython.core.display.HTML object>"
      ]
     },
     "metadata": {},
     "output_type": "display_data"
    }
   ],
   "source": [
    "# make the screen bigger!\n",
    "from IPython.display import display, HTML\n",
    "display(HTML(data=\"\"\" <style>\n",
    "    div#notebook-container    { width: 95%; }\n",
    "    div#menubar-container     { width: 85%; }\n",
    "    div#maintoolbar-container { width: 99%; } </style> \"\"\"))\n",
    "\n",
    "import numpy as np\n",
    "import arcpy\n",
    "import os\n",
    "from arcpy.sa import *\n",
    "import pandas as pd\n",
    "#import gdal\n",
    "from arcpy import env\n",
    "\n",
    "arcpy.env.overwriteOutput = True # make sure overwrite files is on\n",
    "\n",
    "cel_size = 5     # in m   Note that a cell size any smaller than 5 is going to push the files over the 100 mb limit on Github\n",
    "# projection definition \n",
    "sr_project = arcpy.SpatialReference(32702)   # Project dataset into WGS84\n",
    "\n",
    "# LU Dictionary for later\n",
    "\n",
    "Lukeys = {400:'Cultivated_Land', \n",
    "500:'Agroforest', \n",
    "700:'Open_Space', \n",
    "800:'Developed_Woodlands', \n",
    "1000:'Buildings', \n",
    "1000:'Impervious_Surfaces', \n",
    "1200:'Mangroves', \n",
    "1300:'Exposed_Rock', \n",
    "1400:'Grassland', \n",
    "1500:'Upland_Scrub', \n",
    "1600:'Lowland_Rainforest', \n",
    "1700:'Successional_Scrub', \n",
    "2100:'Montane_Rainforest', \n",
    "-999:\"no Data\",0:\"no Data\"}"
   ]
  },
  {
   "cell_type": "code",
   "execution_count": 26,
   "metadata": {
    "collapsed": true
   },
   "outputs": [],
   "source": [
    "GIS_FOLDER = os.path.join('..', 'Raw_GIS_Data')\n",
    "\n",
    "# path to the grid bound\n",
    "Grid_shp = os.path.join(GIS_FOLDER, 'grid_bound.shp')\n",
    "\n",
    "if not os.path.exists(os.path.join('.', 'output//')):\n",
    "    os.makedirs(os.path.join('.', 'output//'))\n",
    "                        \n",
    "if not os.path.exists(os.path.join('.', 'output//Figures//')):\n",
    "    os.makedirs(os.path.join('.', 'output//Figures//'))\n",
    "fig_path =  (os.path.join('.', 'output//Figures//'))\n",
    "\n",
    "if not os.path.exists(os.path.join('.', \"WorkSpaces\")):\n",
    "    os.makedirs(os.path.join('.', \"WorkSpaces\"))\n",
    "workspace =  os.path.join('.', \"WorkSpaces\")\n",
    "\n",
    "# define where the land is too steep to build\n",
    "steep_land = os.path.join(GIS_FOLDER, 'Slopes', 'steep_land_25deg.shp')\n",
    "\n",
    "# define where the original low rainforest is to protect \n",
    "\n",
    "Forest_preserve_land = os.path.join(GIS_FOLDER, 'LU_Scenarios', 'Original_LU2_1600.shp')"
   ]
  },
  {
   "cell_type": "code",
   "execution_count": 29,
   "metadata": {
    "collapsed": true
   },
   "outputs": [],
   "source": [
    "\"\"\" This is the function that selects a land use, then bufferes it, then adds it back to the map. It will be repeated below for multiple nested land uses\n",
    "\n",
    "    maptoclip is the working version of the land use map, on iteration 1 its the original map, then its the ones that have the buffered areas added in incrementally\n",
    "    orig_map_to_buffer is the original unadulterated map\n",
    "    LU_type is the land use getting worked on each iteration\n",
    "    buffer_dist_m isthe distance of buffering to change, main parameter to modify\n",
    "\"\"\"\n",
    "\n",
    "def clip_da_use(maptoclip, orig_map_to_buffer, LU_type, buffer_dist_m, steep_land, Forest_preserve_land,  iteration_num):\n",
    "    \n",
    "    tempselect = os.path.join(workspace, \"temp.shp\") \n",
    "    tempbuffer = os.path.join(workspace, \"temp_buffer.shp\")\n",
    "    buffer_clipped_slopes = os.path.join(workspace, \"temp_buffer_clipped.shp\")\n",
    "    buffer_clipped_slopes_forest = os.path.join(workspace, \"temp_buffer_clipped_forest.shp\")\n",
    "    clipped_Map = os.path.join(workspace, \"LU_shp_erased.shp\")\n",
    "    output_file = os.path.join(workspace, \"intermediate_LU_new_{}.shp\".format(iteration_num))\n",
    "    \n",
    "    # Buffer the features of interest\n",
    "    arcpy.Select_analysis(orig_map_to_buffer, tempselect, \"LBLCLASS = '{}'\".format(LU_type))     # select just the LU type desired save as tempselect.shp\n",
    "    arcpy.Buffer_analysis(tempselect, tempbuffer, buffer_dist_m, dissolve_option=\"NONE\")         # Make a tenporary buffer file of that land use bit \n",
    "    arcpy.RepairGeometry_management(tempbuffer)                                                  # fix broken things\n",
    "    \n",
    "    # erase out areas where there are large slopes\n",
    "    arcpy.Erase_analysis(tempbuffer, steep_land,  buffer_clipped_slopes)     \n",
    "    \n",
    "    # erase out areas where we are protecting forest\n",
    "    arcpy.Erase_analysis(buffer_clipped_slopes, Forest_preserve_land,  buffer_clipped_slopes_forest)           \n",
    "    \n",
    "    # erase out the new bufferd land area zones\n",
    "    arcpy.Erase_analysis(maptoclip, buffer_clipped_slopes_forest, clipped_Map)    \n",
    "    \n",
    "    # add the new land use type back to the big LU map \n",
    "    arcpy.Merge_management([buffer_clipped_slopes_forest, clipped_Map], output_file)"
   ]
  },
  {
   "cell_type": "markdown",
   "metadata": {
    "collapsed": true
   },
   "source": []
  },
  {
   "cell_type": "code",
   "execution_count": 62,
   "metadata": {
    "collapsed": true
   },
   "outputs": [],
   "source": [
    "# hyperparameters\n",
    "Agroforest_buffer = 10\n",
    "Cultivated_Land_buffer = 7\n",
    "Developed_Woodlands_buffer = 2\n",
    "Open_Space_buffer = 3.5\n",
    "Impervious_Surfaces_buffer = 4\n",
    "Buildings_buffer = 5\n",
    "\n",
    "LU_list =         [ 'Cultivated_Land',  'Agroforest',   'Developed_Woodlands',      'Open_Space',      'Impervious_Surfaces',      'Buildings']\n",
    "bufferdist_list = [ Cultivated_Land_buffer, Agroforest_buffer,   Developed_Woodlands_buffer, Open_Space_buffer, Impervious_Surfaces_buffer, Buildings_buffer]"
   ]
  },
  {
   "cell_type": "code",
   "execution_count": 63,
   "metadata": {
    "scrolled": true
   },
   "outputs": [
    {
     "name": "stdout",
     "output_type": "stream",
     "text": [
      "Working on shed No. 0..................................................\n",
      "now buffering Cultivated_Land\n",
      "now buffering Agroforest\n",
      "now buffering Developed_Woodlands\n",
      "now buffering Open_Space\n",
      "now buffering Impervious_Surfaces\n",
      "now buffering Buildings\n",
      "Working on shed No. 1..................................................\n",
      "now buffering Cultivated_Land\n",
      "now buffering Agroforest\n",
      "now buffering Developed_Woodlands\n",
      "now buffering Open_Space\n",
      "now buffering Impervious_Surfaces\n",
      "now buffering Buildings\n",
      "Working on shed No. 2..................................................\n",
      "now buffering Cultivated_Land\n",
      "now buffering Agroforest\n",
      "now buffering Developed_Woodlands\n",
      "now buffering Open_Space\n",
      "now buffering Impervious_Surfaces\n",
      "now buffering Buildings\n",
      "Working on shed No. 3..................................................\n",
      "now buffering Cultivated_Land\n",
      "now buffering Agroforest\n",
      "now buffering Developed_Woodlands\n",
      "now buffering Open_Space\n",
      "now buffering Impervious_Surfaces\n",
      "now buffering Buildings\n",
      "Working on shed No. 4..................................................\n",
      "now buffering Cultivated_Land\n",
      "now buffering Agroforest\n",
      "now buffering Developed_Woodlands\n",
      "now buffering Open_Space\n",
      "now buffering Impervious_Surfaces\n",
      "now buffering Buildings\n",
      "Working on shed No. 5..................................................\n",
      "now buffering Cultivated_Land\n",
      "now buffering Agroforest\n",
      "now buffering Developed_Woodlands\n",
      "now buffering Open_Space\n",
      "now buffering Impervious_Surfaces\n",
      "now buffering Buildings\n",
      "Working on shed No. 6..................................................\n",
      "now buffering Cultivated_Land\n",
      "now buffering Agroforest\n",
      "now buffering Developed_Woodlands\n",
      "now buffering Open_Space\n",
      "now buffering Impervious_Surfaces\n",
      "now buffering Buildings\n",
      "Working on shed No. 7..................................................\n",
      "now buffering Cultivated_Land\n",
      "now buffering Agroforest\n",
      "now buffering Developed_Woodlands\n",
      "now buffering Open_Space\n",
      "now buffering Impervious_Surfaces\n",
      "now buffering Buildings\n",
      "Working on shed No. 8..................................................\n",
      "now buffering Cultivated_Land\n",
      "now buffering Agroforest\n",
      "now buffering Developed_Woodlands\n",
      "now buffering Open_Space\n",
      "now buffering Impervious_Surfaces\n",
      "now buffering Buildings\n",
      "Working on shed No. 9..................................................\n",
      "now buffering Cultivated_Land\n",
      "now buffering Agroforest\n",
      "now buffering Developed_Woodlands\n",
      "now buffering Open_Space\n",
      "now buffering Impervious_Surfaces\n",
      "now buffering Buildings\n",
      "Working on shed No. 10..................................................\n",
      "now buffering Cultivated_Land\n",
      "now buffering Agroforest\n",
      "now buffering Developed_Woodlands\n",
      "now buffering Open_Space\n",
      "now buffering Impervious_Surfaces\n",
      "now buffering Buildings\n",
      "Working on shed No. 11..................................................\n",
      "now buffering Cultivated_Land\n",
      "now buffering Agroforest\n",
      "now buffering Developed_Woodlands\n",
      "now buffering Open_Space\n",
      "now buffering Impervious_Surfaces\n",
      "now buffering Buildings\n",
      "Working on shed No. 12..................................................\n",
      "now buffering Cultivated_Land\n",
      "now buffering Agroforest\n",
      "now buffering Developed_Woodlands\n",
      "now buffering Open_Space\n",
      "now buffering Impervious_Surfaces\n",
      "now buffering Buildings\n",
      "Working on shed No. 13..................................................\n",
      "now buffering Cultivated_Land\n",
      "now buffering Agroforest\n",
      "now buffering Developed_Woodlands\n",
      "now buffering Open_Space\n",
      "now buffering Impervious_Surfaces\n",
      "now buffering Buildings\n",
      "Working on shed No. 14..................................................\n",
      "now buffering Cultivated_Land\n",
      "now buffering Agroforest\n",
      "now buffering Developed_Woodlands\n",
      "now buffering Open_Space\n",
      "now buffering Impervious_Surfaces\n",
      "now buffering Buildings\n",
      "Working on shed No. 15..................................................\n",
      "now buffering Cultivated_Land\n",
      "now buffering Agroforest\n",
      "now buffering Developed_Woodlands\n",
      "now buffering Open_Space\n",
      "now buffering Impervious_Surfaces\n",
      "now buffering Buildings\n",
      "Working on shed No. 16..................................................\n",
      "now buffering Cultivated_Land\n",
      "now buffering Agroforest\n",
      "now buffering Developed_Woodlands\n",
      "now buffering Open_Space\n",
      "now buffering Impervious_Surfaces\n",
      "now buffering Buildings\n",
      "Working on shed No. 17..................................................\n",
      "now buffering Cultivated_Land\n",
      "now buffering Agroforest\n",
      "now buffering Developed_Woodlands\n",
      "now buffering Open_Space\n",
      "now buffering Impervious_Surfaces\n",
      "now buffering Buildings\n",
      "Working on shed No. 18..................................................\n",
      "now buffering Cultivated_Land\n",
      "now buffering Agroforest\n",
      "now buffering Developed_Woodlands\n",
      "now buffering Open_Space\n",
      "now buffering Impervious_Surfaces\n",
      "now buffering Buildings\n",
      "Working on shed No. 19..................................................\n",
      "now buffering Cultivated_Land\n",
      "now buffering Agroforest\n",
      "now buffering Developed_Woodlands\n",
      "now buffering Open_Space\n",
      "now buffering Impervious_Surfaces\n",
      "now buffering Buildings\n",
      "Working on shed No. 20..................................................\n",
      "now buffering Cultivated_Land\n",
      "now buffering Agroforest\n",
      "now buffering Developed_Woodlands\n",
      "now buffering Open_Space\n",
      "now buffering Impervious_Surfaces\n",
      "now buffering Buildings\n",
      "Working on shed No. 21..................................................\n",
      "now buffering Cultivated_Land\n",
      "now buffering Agroforest\n",
      "now buffering Developed_Woodlands\n",
      "now buffering Open_Space\n",
      "now buffering Impervious_Surfaces\n",
      "now buffering Buildings\n",
      "Working on shed No. 22..................................................\n",
      "now buffering Cultivated_Land\n",
      "now buffering Agroforest\n",
      "now buffering Developed_Woodlands\n",
      "now buffering Open_Space\n",
      "now buffering Impervious_Surfaces\n",
      "now buffering Buildings\n",
      "Working on shed No. 23..................................................\n",
      "now buffering Cultivated_Land\n",
      "now buffering Agroforest\n",
      "now buffering Developed_Woodlands\n",
      "now buffering Open_Space\n",
      "now buffering Impervious_Surfaces\n",
      "now buffering Buildings\n",
      "Working on shed No. 24..................................................\n",
      "now buffering Cultivated_Land\n",
      "now buffering Agroforest\n",
      "now buffering Developed_Woodlands\n",
      "now buffering Open_Space\n",
      "now buffering Impervious_Surfaces\n",
      "now buffering Buildings\n",
      "Working on shed No. 25..................................................\n",
      "now buffering Cultivated_Land\n",
      "now buffering Agroforest\n",
      "now buffering Developed_Woodlands\n",
      "now buffering Open_Space\n",
      "now buffering Impervious_Surfaces\n",
      "now buffering Buildings\n",
      "Working on shed No. 26..................................................\n",
      "now buffering Cultivated_Land\n",
      "now buffering Agroforest\n",
      "now buffering Developed_Woodlands\n",
      "now buffering Open_Space\n",
      "now buffering Impervious_Surfaces\n",
      "now buffering Buildings\n",
      "Working on shed No. 27..................................................\n",
      "now buffering Cultivated_Land\n",
      "now buffering Agroforest\n",
      "now buffering Developed_Woodlands\n",
      "now buffering Open_Space\n",
      "now buffering Impervious_Surfaces\n",
      "now buffering Buildings\n",
      "Working on shed No. 28..................................................\n",
      "now buffering Cultivated_Land\n",
      "now buffering Agroforest\n",
      "now buffering Developed_Woodlands\n",
      "now buffering Open_Space\n",
      "now buffering Impervious_Surfaces\n",
      "now buffering Buildings\n",
      "Working on shed No. 29..................................................\n",
      "now buffering Cultivated_Land\n",
      "now buffering Agroforest\n",
      "now buffering Developed_Woodlands\n",
      "now buffering Open_Space\n",
      "now buffering Impervious_Surfaces\n",
      "now buffering Buildings\n",
      "Working on shed No. 30..................................................\n",
      "now buffering Cultivated_Land\n",
      "now buffering Agroforest\n",
      "now buffering Developed_Woodlands\n",
      "now buffering Open_Space\n",
      "now buffering Impervious_Surfaces\n",
      "now buffering Buildings\n",
      "Working on shed No. 31..................................................\n",
      "now buffering Cultivated_Land\n",
      "now buffering Agroforest\n",
      "now buffering Developed_Woodlands\n",
      "now buffering Open_Space\n",
      "now buffering Impervious_Surfaces\n",
      "now buffering Buildings\n",
      "Working on shed No. 32..................................................\n",
      "now buffering Cultivated_Land\n",
      "now buffering Agroforest\n",
      "now buffering Developed_Woodlands\n",
      "now buffering Open_Space\n",
      "now buffering Impervious_Surfaces\n",
      "now buffering Buildings\n"
     ]
    }
   ],
   "source": [
    "# Buffer each land use to expand it respective to the hyperparameters in the cells above\n",
    "\n",
    "for shed in range(0,33):                          # for each of the watershed clips\n",
    "    print(\"Working on shed No. {}..................................................\".format(shed))\n",
    "    \n",
    "    # Reset the starting map to the new watershed \n",
    "    arcpy.CopyFeatures_management(os.path.join(GIS_FOLDER, \"Land_use\", \"Split_into_watersheds\", 'Shed_fragments', 'LU_simp3_clipped_{}.shp'.format(shed)), os.path.join(workspace, \"intermediate_LU_new_0.shp\"))\n",
    "\n",
    "    Original_Map = os.path.join(workspace, 'intermediate_LU_new_0.shp')    # this is just for shorter syntax on calling the original map\n",
    "\n",
    "    for iteration_num in range(1,7):        # for each of the land use classes we want to buffer on  (references the lists above)\n",
    "        maptoclip          = os.path.join(workspace, \"intermediate_LU_new_{}.shp\".format(iteration_num-1))  # this is where you put in the map from the last iteration\n",
    "        orig_map_to_buffer = Original_Map\n",
    "        LU_type            = LU_list[iteration_num-1]\n",
    "        buffer_dist_m      = bufferdist_list[iteration_num-1]\n",
    "        print(\"now buffering {}\".format(LU_type))\n",
    "\n",
    "        clip_da_use(maptoclip, orig_map_to_buffer, LU_type, buffer_dist_m, steep_land, Forest_preserve_land, iteration_num)   # run the clip buffer erase merge function\n",
    "\n",
    "    # trim off any excess that has spilled out of the watershed\n",
    "    arcpy.Clip_analysis(os.path.join(workspace, \"intermediate_LU_new_6.shp\"), Original_Map, os.path.join(workspace, \"Finished_LU_{}.shp\".format(shed)))\n",
    "\n",
    "# Merge all the litte buffered watershed ones together\n",
    "# Create 99, the final merged set\n",
    "arcpy.CopyFeatures_management(os.path.join(workspace, 'Finished_LU_0.shp'), os.path.join(workspace, \"Finished_LU_99.shp\"))\n",
    "for p in range(1,33):\n",
    "    arcpy.Append_management(os.path.join(workspace, 'Finished_LU_{}.shp'.format(p)), os.path.join(workspace, \"Finished_LU_99.shp\"))  #agregate function"
   ]
  },
  {
   "cell_type": "markdown",
   "metadata": {},
   "source": [
    "##  Here use  take the SMAS and turn them into forest or wetland based on what they are coded as "
   ]
  },
  {
   "cell_type": "code",
   "execution_count": 64,
   "metadata": {},
   "outputs": [
    {
     "data": {
      "text/plain": [
       "<Result '.\\\\WorkSpaces\\\\Finished_LU_99.shp'>"
      ]
     },
     "execution_count": 64,
     "metadata": {},
     "output_type": "execute_result"
    }
   ],
   "source": [
    "# clip out the SMAs\n",
    "arcpy.Erase_analysis(os.path.join(workspace, \"Finished_LU_99.shp\"), os.path.join(GIS_FOLDER, \"LU_Scenarios\", \"Special_mangmet_ares_wetland.shp\"), os.path.join(workspace, \"tempSMAspuka.shp\"))\n",
    "\n",
    "# add the SMA areas back to the big LU map \n",
    "arcpy.Merge_management([os.path.join(workspace, \"tempSMAspuka.shp\"),os.path.join(GIS_FOLDER, \"LU_Scenarios\", \"Special_mangmet_ares_wetland.shp\")], os.path.join(workspace, \"Finished_LU_99.shp\"))"
   ]
  },
  {
   "cell_type": "markdown",
   "metadata": {},
   "source": [
    "## Effects of stream flooding to open space"
   ]
  },
  {
   "cell_type": "code",
   "execution_count": 65,
   "metadata": {},
   "outputs": [
    {
     "data": {
      "text/plain": [
       "<Result '.\\\\WorkSpaces\\\\Finished_LU_99.shp'>"
      ]
     },
     "execution_count": 65,
     "metadata": {},
     "output_type": "execute_result"
    }
   ],
   "source": [
    "### This block takes anything impervious from within 5 m of a stream and turns it to open space\n",
    "\n",
    "# select the impervious and buildings areas from the orignal LU map make a temp shapefile\n",
    "arcpy.Select_analysis(os.path.join(GIS_FOLDER, 'Land_use',  'LU_Big_simp_3.shp'), \n",
    "                      os.path.join(workspace, \"temp205.shp\"), '\"LBLCLASS\" = \\'Buildings\\' OR \"LBLCLASS\" = \\'Impervious_Surfaces\\'')\n",
    "\n",
    "# find  where these buildings/imp surfaces intersect the stream buffer \n",
    "arcpy.Intersect_analysis([os.path.join(workspace, \"temp205.shp\"), os.path.join(GIS_FOLDER,'Streams', 'Streams_5mBuffer.shp') ], os.path.join(workspace, \"temp_Bldg2flood205.shp\"), \"ALL\")\n",
    "\n",
    "# change the Loclass to open space\n",
    "with arcpy.da.UpdateCursor(os.path.join(workspace, \"temp_Bldg2flood205.shp\"), \"LBLCLASS\") as cursor:\n",
    "    for row in cursor:\n",
    "        row[0] = \"Open_Space\"\n",
    "        cursor.updateRow(row)\n",
    "        \n",
    "# change the Lucode to open space\n",
    "with arcpy.da.UpdateCursor(os.path.join(workspace, \"temp_Bldg2flood205.shp\"), \"LU2\") as cursor:\n",
    "    for row in cursor:\n",
    "        row[0] = 700\n",
    "        cursor.updateRow(row)\n",
    "\n",
    "# erase areas where the new open space will be        \n",
    "arcpy.Erase_analysis(os.path.join(workspace, \"Finished_LU_99.shp\"), os.path.join(workspace, \"temp_Bldg2flood205.shp\"), os.path.join(workspace, \"temp205_puka.shp\"))\n",
    "\n",
    "# merge the new open space areas back into the big map\n",
    "arcpy.Merge_management([os.path.join(workspace, \"temp205_puka.shp\"), os.path.join(workspace, \"temp_Bldg2flood205.shp\")], os.path.join(workspace, \"Finished_LU_99.shp\"))\n"
   ]
  },
  {
   "cell_type": "markdown",
   "metadata": {},
   "source": [
    "## Effects of sea level rise on coasts "
   ]
  },
  {
   "cell_type": "code",
   "execution_count": 66,
   "metadata": {},
   "outputs": [
    {
     "data": {
      "text/plain": [
       "<Result '.\\\\WorkSpaces\\\\Finished_LU_99.shp'>"
      ]
     },
     "execution_count": 66,
     "metadata": {},
     "output_type": "execute_result"
    }
   ],
   "source": [
    "# add in efects of sea level rise based on 6 ft scenario (see references folder in github)   (from https://coast.noaa.gov/slrdata/)\n",
    "# in short this finds ares affected by 6ft SLR then turns them from other land uses to mangroves except if they were originally coastal bare rock, in which case it turns them back to bare rock\n",
    "\n",
    "  \n",
    "# THis just creates a shapefile of wherer there is unconsolidated shore and removes out the upland exposed rock featuers \n",
    "# buffer the coastline by 250 m\n",
    "arcpy.Buffer_analysis(os.path.join(GIS_FOLDER, \"SLR\", \"Present_day_coastline.shp\"), os.path.join(workspace, \"temp_buffer2.shp\"), 250, dissolve_option=\"ALL\") \n",
    "# select the rocky areas from the orignal LU map\n",
    "arcpy.Select_analysis(os.path.join(GIS_FOLDER, 'Land_use', 'LU_Big_simp_3.shp'), os.path.join(workspace, \"temp2.shp\"), '\"LBLCLASS\" = \\'Exposed_Rock\\'')\n",
    "# get only the rock coastal areas \n",
    "arcpy.Intersect_analysis([os.path.join(workspace, \"temp2.shp\"), os.path.join(workspace, \"temp_buffer2.shp\")], os.path.join(workspace, \"temp_Coastal_ROck.shp\"), \"ALL\")\n",
    "\n",
    "# Now take the final result from the big LU buffering process and clip out  ALLL areas where SLR will impact and turn them into mangroves\n",
    "\n",
    "# \"AS_Tutuila_SLR_3ft_man_Dissolve.shp\"   is simply an intersect of the  'LU_Big_simp_3.shp' and the 6 ft SLR polygons. Then the LU2 is changed to a mangrove code manually. \n",
    "arcpy.Erase_analysis(os.path.join(workspace, \"Finished_LU_99.shp\"), os.path.join(GIS_FOLDER, 'SLR', \"AS_Tutuila_SLR_6ft_man_Dissolve.shp\"), os.path.join(workspace, \"tempSLR.shp\"))\n",
    "# add the new mangrove areas back to the big LU map \n",
    "arcpy.Merge_management([os.path.join(workspace, \"tempSLR.shp\"), os.path.join(GIS_FOLDER, 'SLR', \"AS_Tutuila_SLR_6ft_man_Dissolve.shp\")], os.path.join(workspace, \"Finished_LU_99.shp\"))\n",
    "\n",
    "# Finally clip out the new mangrove areas that were on top of coastal rock and make them coasta rock once again.\n",
    "arcpy.Erase_analysis(os.path.join(workspace, \"Finished_LU_99.shp\"), os.path.join(workspace, \"temp_Coastal_ROck.shp\"), os.path.join(workspace, \"tempRock2wholeI.shp\"))\n",
    "# add the new mangrove areas back to the big LU map \n",
    "arcpy.Merge_management([os.path.join(workspace, \"tempRock2wholeI.shp\"), os.path.join(workspace, \"temp_Coastal_ROck.shp\")], os.path.join(workspace, \"Finished_LU_99.shp\"))"
   ]
  },
  {
   "cell_type": "code",
   "execution_count": 78,
   "metadata": {},
   "outputs": [
    {
     "name": "stdout",
     "output_type": "stream",
     "text": [
      "LU -999 does not exist in one coverage\n",
      "LU type_0, no Data, is 0.02% different from 563.68 km2 to 563.80 km2\n",
      "LU type_400, Cultivated_Land, is -52.82% different from 10.97 km2 to 5.18 km2\n",
      "LU type_500, Agroforest, is 52.49% different from 8.17 km2 to 12.46 km2\n",
      "LU type_700, Open_Space, is -20.17% different from 6.87 km2 to 5.49 km2\n",
      "LU type_800, Developed_Woodlands, is -64.72% different from 5.26 km2 to 1.85 km2\n",
      "LU type_1000, Impervious_Surfaces, is 64.08% different from 8.33 km2 to 13.67 km2\n",
      "LU type_1200, Mangroves, is 891.31% different from 0.35 km2 to 3.49 km2\n",
      "LU type_1300, Exposed_Rock, is -29.33% different from 2.13 km2 to 1.50 km2\n",
      "LU type_1400, Grassland, is -34.06% different from 1.79 km2 to 1.18 km2\n",
      "LU type_1500, Upland_Scrub, is -6.93% different from 1.41 km2 to 1.32 km2\n",
      "LU type_1600, Lowland_Rainforest, is 0.37% different from 85.86 km2 to 86.18 km2\n",
      "LU type_1700, Successional_Scrub, is -26.59% different from 4.83 km2 to 3.55 km2\n",
      "LU type_2100, Montane_Rainforest, is -1.29% different from 0.34 km2 to 0.34 km2\n"
     ]
    }
   ],
   "source": [
    "# Ultimately this should be run on the re-merged together shapefile of all watersheds\n",
    "\n",
    "# This converts the original and the new coverage to rasters to run the percentage calculation stats\n",
    "\n",
    "# just give a link to the shapefile of major watersheds\n",
    "Origlandusefile = os.path.join(GIS_FOLDER, 'Land_use',  'LU_Big_simp_3.shp')\n",
    "#  Merge in the grid boundary into the finished shapefile to create accurate grid coverage \n",
    "arcpy.Erase_analysis(Grid_shp, os.path.join(workspace, \"Finished_LU_99.shp\"),  os.path.join(workspace, 'LU_shp_bound.shp'))\n",
    "arcpy.Merge_management([os.path.join(workspace, 'LU_shp_bound.shp'), os.path.join(workspace, \"Finished_LU_99.shp\")], os.path.join(workspace, 'LU_shp_ready.shp'))\n",
    "\n",
    "# convert to raster.asc\n",
    "arcpy.PolygonToRaster_conversion(os.path.join(workspace, 'LU_shp_ready.shp'), \"LU2\", os.path.join(workspace, \"LU_raster\"), cell_assignment=\"MAXIMUM_AREA\",  cellsize=cel_size)\n",
    "arcpy.RasterToASCII_conversion(os.path.join(workspace, \"LU_raster\"), os.path.join(workspace, \"new_LU_grid.asc\"))\n",
    "\n",
    "# this deos the same with the original one for comparison\n",
    "#  Merge in the grid bound into the shapefile to create accurate grid coverage \n",
    "arcpy.Erase_analysis(Grid_shp, Origlandusefile,  os.path.join(workspace, 'LU_shp_bound.shp'))\n",
    "arcpy.Merge_management([os.path.join(workspace, 'LU_shp_bound.shp'), Origlandusefile], os.path.join(workspace, 'LU_shp_ready.shp'))\n",
    "\n",
    "# convert to raster.asc\n",
    "arcpy.PolygonToRaster_conversion(os.path.join(workspace, 'LU_shp_ready.shp'), \"LU2\", os.path.join(workspace, \"LU_raster\"), cell_assignment=\"MAXIMUM_AREA\",  cellsize=cel_size)\n",
    "arcpy.RasterToASCII_conversion(os.path.join(workspace, \"LU_raster\"), os.path.join(workspace, \"original_LU_grid.asc\"))\n",
    "\n",
    "arr = arcpy.RasterToNumPyArray(os.path.join(workspace, \"original_LU_grid.asc\"),  nodata_to_value=-999)\n",
    "unique, counts = np.unique(arr, return_counts=True)\n",
    "arr_stats_original = np.asarray((unique, counts)).T\n",
    "\n",
    "arr = arcpy.RasterToNumPyArray(os.path.join(workspace, \"new_LU_grid.asc\"),  nodata_to_value=-999)\n",
    "unique, counts = np.unique(arr, return_counts=True)\n",
    "arr_stats_new = np.asarray((unique, counts)).T\n",
    "\n",
    "# this takes the cell counts for each land use type in the new and old rasters and compares them percentage-wise\n",
    "new_dic = {}; old_dic = {}\n",
    "for i in arr_stats_new: \n",
    "    new_dic[i[0]] = i[1]\n",
    "for i in arr_stats_original: \n",
    "    old_dic[i[0]] = i[1]\n",
    "    \n",
    "for i in old_dic:\n",
    "    try:     \n",
    "        oabs = old_dic[i]\n",
    "        nabs = new_dic[i]\n",
    "        pctchange = ((nabs/oabs)-1)*100\n",
    "        oldarea = oabs*25*0.000001\n",
    "        newarea = nabs*25*0.000001\n",
    "        print(\"LU type_{:.0f}, {}, is {:.2f}% different from {:.2f} km2 to {:.2f} km2\".format(i, Lukeys[i], pctchange, oldarea, newarea))\n",
    "    except:\n",
    "        print(\"LU {} does not exist in one coverage\".format(i))"
   ]
  },
  {
   "cell_type": "code",
   "execution_count": 76,
   "metadata": {},
   "outputs": [
    {
     "data": {
      "text/plain": [
       "136321075"
      ]
     },
     "execution_count": 76,
     "metadata": {},
     "output_type": "execute_result"
    }
   ],
   "source": [
    "(sum(old_dic.values())-22547157)*25\n"
   ]
  },
  {
   "cell_type": "code",
   "execution_count": 75,
   "metadata": {},
   "outputs": [
    {
     "data": {
      "text/plain": [
       "{-999: 1,\n",
       " 0: 22547157,\n",
       " 400: 438986,\n",
       " 500: 326775,\n",
       " 700: 274950,\n",
       " 800: 210244,\n",
       " 1000: 333346,\n",
       " 1200: 14064,\n",
       " 1300: 85041,\n",
       " 1400: 71461,\n",
       " 1500: 56553,\n",
       " 1600: 3434404,\n",
       " 1700: 193289,\n",
       " 2100: 13729}"
      ]
     },
     "execution_count": 75,
     "metadata": {},
     "output_type": "execute_result"
    }
   ],
   "source": [
    "old_dic"
   ]
  },
  {
   "cell_type": "code",
   "execution_count": null,
   "metadata": {
    "collapsed": true
   },
   "outputs": [],
   "source": []
  },
  {
   "cell_type": "code",
   "execution_count": 36,
   "metadata": {},
   "outputs": [],
   "source": [
    "# IMPORTANT! \n",
    "### When pushing to github uncoment and run this cell, this file is over 100 mb\n",
    "\n",
    "    \n",
    "# delete the Aggregated shapefile to push to GitHub (>100 mb) uncheck this to get the shapefile back\n",
    "\n",
    "#arcpy.Delete_management(os.path.join(workspace, \"Finished_LU_99.shp\"))"
   ]
  },
  {
   "cell_type": "code",
   "execution_count": 12,
   "metadata": {
    "collapsed": true
   },
   "outputs": [],
   "source": [
    "Scn3 Log \n",
    "\n",
    "# hyperparameters\n",
    "Agroforest_buffer = 14\n",
    "Cultivated_Land_buffer = 4\n",
    "Developed_Woodlands_buffer = 2\n",
    "Open_Space_buffer = 4\n",
    "Impervious_Surfaces_buffer = 4\n",
    "Buildings_buffer = 5\n",
    "\n",
    "LU -999 does not exist in one coverage\n",
    "LU type_0, no Data, is 0.02% different\n",
    "LU type_400, Cultivated_Land, is -60.65% different\n",
    "LU type_500, Agroforest, is 62.76% different\n",
    "LU type_700, Open_Space, is -16.67% different\n",
    "LU type_800, Developed_Woodlands, is -67.13% different\n",
    "LU type_1000, Impervious_Surfaces, is 64.02% different\n",
    "LU type_1200, Mangroves, is 891.28% different\n",
    "LU type_1300, Exposed_Rock, is -29.50% different\n",
    "LU type_1400, Grassland, is -35.48% different\n",
    "LU type_1500, Upland_Scrub, is -7.34% different\n",
    "LU type_1600, Lowland_Rainforest, is 0.36% different\n",
    "LU type_1700, Successional_Scrub, is -27.44% different\n",
    "LU type_2100, Montane_Rainforest, is -1.30% different\n",
    "\n",
    "\n",
    "\n",
    "\n",
    "Agroforest_buffer = 20\n",
    "Cultivated_Land_buffer = 4\n",
    "Developed_Woodlands_buffer = 2\n",
    "Open_Space_buffer = 4\n",
    "Impervious_Surfaces_buffer = 4\n",
    "Buildings_buffer = 5\n",
    "\n",
    "LU -999 does not exist in one coverage\n",
    "LU type_0, no Data, is 0.02% different\n",
    "LU type_400, Cultivated_Land, is -67.24% different\n",
    "LU type_500, Agroforest, is 74.17% different\n",
    "LU type_700, Open_Space, is -16.68% different\n",
    "LU type_800, Developed_Woodlands, is -67.14% different\n",
    "LU type_1000, Impervious_Surfaces, is 63.99% different\n",
    "LU type_1200, Mangroves, is 891.29% different\n",
    "LU type_1300, Exposed_Rock, is -29.84% different\n",
    "LU type_1400, Grassland, is -39.09% different\n",
    "LU type_1500, Upland_Scrub, is -7.89% different\n",
    "LU type_1600, Lowland_Rainforest, is 0.34% different\n",
    "LU type_1700, Successional_Scrub, is -29.63% different\n",
    "LU type_2100, Montane_Rainforest, is -1.30% different\n",
    "\n",
    "\n",
    "# hyperparameters\n",
    "Agroforest_buffer = 10\n",
    "Cultivated_Land_buffer = 10\n",
    "Developed_Woodlands_buffer = 2\n",
    "Open_Space_buffer = 2\n",
    "Impervious_Surfaces_buffer = 6\n",
    "Buildings_buffer = 6\n",
    "\n",
    "LU -999 does not exist in one coverage\n",
    "LU type_0, no Data, is 0.02% different\n",
    "LU type_400, Cultivated_Land, is -3.91% different\n",
    "LU type_500, Agroforest, is -8.11% different\n",
    "LU type_700, Open_Space, is -42.63% different\n",
    "LU type_800, Developed_Woodlands, is -64.49% different\n",
    "LU type_1000, Impervious_Surfaces, is 83.88% different\n",
    "LU type_1200, Mangroves, is 890.96% different\n",
    "LU type_1300, Exposed_Rock, is -30.49% different\n",
    "LU type_1400, Grassland, is -43.11% different\n",
    "LU type_1500, Upland_Scrub, is -8.98% different\n",
    "LU type_1600, Lowland_Rainforest, is 0.30% different\n",
    "LU type_1700, Successional_Scrub, is -31.88% different\n",
    "LU type_2100, Montane_Rainforest, is -1.31% different\n",
    "\n",
    "\n",
    "# hyperparameters\n",
    "Agroforest_buffer = 15\n",
    "Cultivated_Land_buffer = 3\n",
    "Developed_Woodlands_buffer = 2\n",
    "Open_Space_buffer = 2\n",
    "Impervious_Surfaces_buffer = 5\n",
    "Buildings_buffer = 5\n",
    "\n",
    "\n",
    "LU -999 does not exist in one coverage\n",
    "LU type_0, no Data, is 0.02% different\n",
    "LU type_400, Cultivated_Land, is 3.07% different\n",
    "LU type_500, Agroforest, is -19.44% different\n",
    "LU type_700, Open_Space, is -35.62% different\n",
    "LU type_800, Developed_Woodlands, is -59.28% different\n",
    "LU type_1000, Impervious_Surfaces, is 71.20% different\n",
    "LU type_1200, Mangroves, is 891.16% different\n",
    "LU type_1300, Exposed_Rock, is -29.32% different\n",
    "LU type_1400, Grassland, is -35.33% different\n",
    "LU type_1500, Upland_Scrub, is -7.37% different\n",
    "LU type_1600, Lowland_Rainforest, is 0.35% different\n",
    "LU type_1700, Successional_Scrub, is -27.18% different\n",
    "LU type_2100, Montane_Rainforest, is -1.30% different\n"
   ]
  },
  {
   "cell_type": "code",
   "execution_count": null,
   "metadata": {
    "collapsed": true
   },
   "outputs": [],
   "source": []
  },
  {
   "cell_type": "code",
   "execution_count": null,
   "metadata": {
    "collapsed": true
   },
   "outputs": [],
   "source": [
    "# Scenario 1\n",
    "Agroforest_buffer = 50\n",
    "Cultivated_Land_buffer = 3\n",
    "Developed_Woodlands_buffer = 5\n",
    "Open_Space_buffer = 5\n",
    "Impervious_Surfaces_buffer = 6 \n",
    "Buildings_buffer = 5\n",
    "\n",
    "LU -999 does not exist in one coverage\n",
    "LU type_0, no Data, is 0.14% different\n",
    "LU type_400, Cultivated_Land, is 7.12% different\n",
    "LU type_500, Agroforest, is 39.27% different\n",
    "LU type_700, Open_Space, is -12.84% different\n",
    "LU type_800, Developed_Woodlands, is -62.74% different\n",
    "LU type_1000, Impervious_Surfaces, is 96.47% different\n",
    "LU type_1200, Mangroves, is 287.43% different\n",
    "LU type_1300, Exposed_Rock, is -60.66% different\n",
    "LU type_1400, Grassland, is -45.35% different\n",
    "LU type_1500, Upland_Scrub, is -9.57% different\n",
    "LU type_1600, Lowland_Rainforest, is -6.76% different\n",
    "LU type_1700, Successional_Scrub, is -33.11% different\n",
    "LU type_2100, Montane_Rainforest, is -0.63% different"
   ]
  },
  {
   "cell_type": "code",
   "execution_count": null,
   "metadata": {
    "collapsed": true
   },
   "outputs": [],
   "source": [
    "LOG scen3\n",
    "\n",
    "\n",
    "\n"
   ]
  },
  {
   "cell_type": "code",
   "execution_count": null,
   "metadata": {
    "collapsed": true
   },
   "outputs": [],
   "source": []
  },
  {
   "cell_type": "code",
   "execution_count": null,
   "metadata": {
    "collapsed": true
   },
   "outputs": [],
   "source": []
  },
  {
   "cell_type": "code",
   "execution_count": null,
   "metadata": {
    "collapsed": true
   },
   "outputs": [],
   "source": []
  },
  {
   "cell_type": "code",
   "execution_count": null,
   "metadata": {
    "collapsed": true
   },
   "outputs": [],
   "source": []
  },
  {
   "cell_type": "code",
   "execution_count": null,
   "metadata": {
    "collapsed": true
   },
   "outputs": [],
   "source": []
  },
  {
   "cell_type": "code",
   "execution_count": null,
   "metadata": {
    "collapsed": true
   },
   "outputs": [],
   "source": []
  }
 ],
 "metadata": {
  "kernelspec": {
   "display_name": "Python 3",
   "language": "python",
   "name": "python3"
  },
  "language_info": {
   "codemirror_mode": {
    "name": "ipython",
    "version": 3
   },
   "file_extension": ".py",
   "mimetype": "text/x-python",
   "name": "python",
   "nbconvert_exporter": "python",
   "pygments_lexer": "ipython3",
   "version": "3.6.2"
  }
 },
 "nbformat": 4,
 "nbformat_minor": 2
}
