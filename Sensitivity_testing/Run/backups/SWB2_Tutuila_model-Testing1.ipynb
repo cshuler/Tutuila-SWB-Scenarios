{
 "cells": [
  {
   "cell_type": "code",
   "execution_count": 6,
   "metadata": {},
   "outputs": [
    {
     "data": {
      "text/html": [
       " <style>\n",
       "    div#notebook-container    { width: 95%; }\n",
       "    div#menubar-container     { width: 85%; }\n",
       "    div#maintoolbar-container { width: 99%; } </style> "
      ],
      "text/plain": [
       "<IPython.core.display.HTML object>"
      ]
     },
     "metadata": {},
     "output_type": "display_data"
    },
    {
     "data": {
      "text/plain": [
       "<Result '..\\\\input\\\\General\\\\Grid_rast1'>"
      ]
     },
     "execution_count": 6,
     "metadata": {},
     "output_type": "execute_result"
    }
   ],
   "source": [
    "#### import modules\n",
    "\n",
    "# make the screen bigger!\n",
    "from IPython.display import display, HTML\n",
    "display(HTML(data=\"\"\" <style>\n",
    "    div#notebook-container    { width: 95%; }\n",
    "    div#menubar-container     { width: 85%; }\n",
    "    div#maintoolbar-container { width: 99%; } </style> \"\"\"))\n",
    "\n",
    "import numpy as np\n",
    "import arcpy\n",
    "import os\n",
    "import sys\n",
    "from arcpy.sa import *\n",
    "import pandas as pd\n",
    "#import gdal\n",
    "from arcpy import env\n",
    "import shutil\n",
    "import numpy.ma as ma\n",
    "import netCDF4 as nc\n",
    "import subprocess\n",
    "import re\n",
    "%matplotlib notebook\n",
    "# this is a list of additional functions to load up, as to not clutter the script\n",
    "%run ../../Std_input/COMMON/plot_and_table_functions\n",
    "\n",
    "# set properties\n",
    "arcpy.env.overwriteOutput = True # make sure overwrite files is on\n",
    "# projection definition \n",
    "sr_project = arcpy.SpatialReference(32702)   # Project dataset into WGS84\n",
    "cel_size = 100     # in m \n",
    "Control_File_Name = 'Tutuila200_controlFile.ctl'\n",
    "\n",
    "\n",
    "#### General coverages and paths. More, basic model setup.\n",
    "GIS_FOLDER = os.path.join('..', '..', 'Raw_GIS_Data')\n",
    "STD_INPUT_FOLDER = os.path.join('..', '..', 'Std_input')\n",
    "# path to the grid bound\n",
    "Grid_shp = os.path.join(GIS_FOLDER, 'grid_bound.shp')\n",
    "\n",
    "if not os.path.exists(os.path.join('..', 'output//')):\n",
    "    os.makedirs(os.path.join('..', 'output//'))\n",
    "                        \n",
    "if not os.path.exists(os.path.join('..', 'output//Figures//')):\n",
    "    os.makedirs(os.path.join('..', 'output//Figures//'))\n",
    "fig_path =  (os.path.join('..', 'output//Figures//'))\n",
    "\n",
    "# set/create GENeral workspace\n",
    "workspace = os.path.join('..', 'input/General')\n",
    "if not os.path.exists(workspace):\n",
    "    os.makedirs(workspace)\n",
    "\n",
    "# this makes a domain grid of zeros of with cell size\n",
    "Grid_rast0 =os.path.join(workspace, 'Grid_rast0')\n",
    "arcpy.PolygonToRaster_conversion(os.path.join(GIS_FOLDER, 'grid_bound.shp'), \"zero\", Grid_rast0, cell_assignment=\"MAXIMUM_AREA\",  cellsize=cel_size )\n",
    "\n",
    "# this makes a domain grid of ones of with cell size\n",
    "Grid_rast1 =os.path.join(workspace, 'Grid_rast1')\n",
    "arcpy.PolygonToRaster_conversion(os.path.join(GIS_FOLDER, 'grid_bound.shp'), \"one\", Grid_rast1, cell_assignment=\"MAXIMUM_AREA\",  cellsize=cel_size )\n"
   ]
  },
  {
   "cell_type": "code",
   "execution_count": 7,
   "metadata": {},
   "outputs": [
    {
     "data": {
      "text/plain": [
       "<Result 'true'>"
      ]
     },
     "execution_count": 7,
     "metadata": {},
     "output_type": "execute_result"
    }
   ],
   "source": [
    "\n",
    "# The next code blocks process shapefile based (vector) input data\n",
    "### Land use data: incluing canopy coverage and % impervious surfaces \n",
    "# set/create workspace\n",
    "workspace = os.path.join('..', 'input/Land_use_Soils_data')\n",
    "if not os.path.exists(workspace):\n",
    "    os.makedirs(workspace)\n",
    "\n",
    "# project file using the simplified 3 m version LU_Big_simp_3\n",
    "arcpy.Project_management(os.path.join(GIS_FOLDER, \"Land_use\\\\LU_Big_simp_3.shp\"), os.path.join(workspace, 'LU_shp_projected.shp'), sr_project)\n",
    "\n",
    "#  Merge in the grid bound into the shapefile to create accurate grid coverage \n",
    "arcpy.Erase_analysis(Grid_shp ,os.path.join(workspace, 'LU_shp_projected.shp'),  os.path.join(workspace, 'LU_shp_bound.shp'))\n",
    "arcpy.Merge_management([os.path.join(workspace, 'LU_shp_bound.shp'), os.path.join(workspace, 'LU_shp_projected.shp')], os.path.join(workspace, 'LU_shp_ready.shp'))\n",
    "\n",
    "# convert to raster.asc\n",
    "arcpy.PolygonToRaster_conversion(os.path.join(workspace, 'LU_shp_ready.shp'), \"LU2\", os.path.join(workspace, \"LU_raster\"), cell_assignment=\"MAXIMUM_AREA\",  cellsize=cel_size)\n",
    "arcpy.RasterToASCII_conversion(os.path.join(workspace, \"LU_raster\"), os.path.join(workspace, \"LU_grid.asc\"))\n",
    "\n",
    "# canopy cover %ages with landuse map\n",
    "arcpy.PolygonToRaster_conversion(os.path.join(workspace, 'LU_shp_ready.shp'), \"fracCanCov\", os.path.join(workspace, \"CanCovRas\"), cell_assignment=\"MAXIMUM_AREA\",  cellsize=cel_size)\n",
    "arcpy.RasterToASCII_conversion(os.path.join(workspace, \"CanCovRas\"), os.path.join(workspace, \"CanCovRas.asc\"))\n",
    "\n",
    "# % impervious raster from landuse map\n",
    "arcpy.PolygonToRaster_conversion(os.path.join(workspace, 'LU_shp_ready.shp'), \"pct_Impv\", os.path.join(workspace, \"pImpvRas\"), cell_assignment=\"MAXIMUM_AREA\",  cellsize=cel_size )\n",
    "arcpy.RasterToASCII_conversion(os.path.join(workspace, \"pImpvRas\"), os.path.join(workspace, \"pImpvRas.asc\"))\n",
    "\n",
    "# % pervious raster from landuse map\n",
    "arcpy.PolygonToRaster_conversion(os.path.join(workspace, 'LU_shp_ready.shp'), \"pct_Perv\", os.path.join(workspace, \"pPERVRas\"), cell_assignment=\"MAXIMUM_COMBINED_AREA\",  cellsize=cel_size )\n",
    "arcpy.RasterToASCII_conversion(os.path.join(workspace, \"pPERVRas\"), os.path.join(workspace, \"pPERVRas.asc\"))\n",
    "\n",
    "# clean up workspace\n",
    "arcpy.Delete_management(os.path.join(workspace, 'LU_shp_projected.shp'))\n",
    "arcpy.Delete_management(os.path.join(workspace, 'LU_shp_bound.shp'))\n",
    "arcpy.Delete_management(os.path.join(workspace, 'LU_shp_ready.shp'))\n",
    "arcpy.Delete_management(os.path.join(workspace, 'LU_raster'))\n",
    "arcpy.Delete_management(os.path.join(workspace, 'CanCovRas'))\n",
    "arcpy.Delete_management(os.path.join(workspace, 'pImpvRas'))\n",
    "arcpy.Delete_management(os.path.join(workspace, 'pPERVRas'))\n"
   ]
  },
  {
   "cell_type": "code",
   "execution_count": 8,
   "metadata": {},
   "outputs": [
    {
     "data": {
      "text/plain": [
       "<Result 'true'>"
      ]
     },
     "execution_count": 8,
     "metadata": {},
     "output_type": "execute_result"
    }
   ],
   "source": [
    "\n",
    "### Same with soil shapefile into WGS84 and then resterize to make soil moisture and h2o group rasters\n",
    "# set/create workspace\n",
    "workspace = os.path.join('..', 'input/Land_use_Soils_data')\n",
    "if not os.path.exists(workspace):\n",
    "    os.makedirs(workspace)\n",
    "\n",
    "# Project dataset into WGS84\n",
    "arcpy.Project_management(os.path.join(GIS_FOLDER, 'Soils\\\\Tut_Soil_clip2.shp'), os.path.join(workspace, 'soils_shp_projected.shp'), sr_project) \n",
    "\n",
    "arcpy.Erase_analysis(Grid_shp, os.path.join(workspace, 'soils_shp_projected.shp'),  os.path.join(workspace, 'soils_shp_bound.shp'))\n",
    "arcpy.Merge_management([os.path.join(workspace, 'soils_shp_bound.shp'), os.path.join(workspace, 'soils_shp_projected.shp')], os.path.join(workspace, 'soils_shp_ready.shp'))\n",
    "\n",
    "# convert to raster\n",
    "arcpy.PolygonToRaster_conversion(os.path.join(workspace, 'soils_shp_ready.shp'),  \"H2O_grp\", os.path.join(workspace, \"H2Ogp_rst\"), cell_assignment=\"MAXIMUM_AREA\",  cellsize=cel_size)\n",
    "arcpy.PolygonToRaster_conversion(os.path.join(workspace, 'soils_shp_ready.shp'),  \"SM_INpFT\", os.path.join(workspace, \"SMC_rst\"), cell_assignment=\"MAXIMUM_AREA\",  cellsize=cel_size)\n",
    "\n",
    "arcpy.RasterToASCII_conversion(os.path.join(workspace, \"SMC_rst\"), os.path.join(workspace, \"soil_moist_cap_grid.asc\"))\n",
    "arcpy.RasterToASCII_conversion(os.path.join(workspace, \"H2Ogp_rst\"), os.path.join(workspace, \"H2Ogp_grid.asc\"))\n",
    "\n",
    "# clean up workspace\n",
    "arcpy.Delete_management(os.path.join(workspace, 'soils_shp_projected.shp'))\n",
    "arcpy.Delete_management(os.path.join(workspace, 'soils_shp_bound.shp'))\n",
    "arcpy.Delete_management(os.path.join(workspace, 'soils_shp_ready.shp'))\n",
    "arcpy.Delete_management(os.path.join(workspace, 'SMC_rst'))\n",
    "arcpy.Delete_management(os.path.join(workspace, 'H2Ogp_rst'))\n"
   ]
  },
  {
   "cell_type": "code",
   "execution_count": 9,
   "metadata": {},
   "outputs": [
    {
     "data": {
      "text/plain": [
       "<Result 'true'>"
      ]
     },
     "execution_count": 9,
     "metadata": {},
     "output_type": "execute_result"
    }
   ],
   "source": [
    "\n",
    "\n",
    "### Rasterize the rainfall station zones\n",
    "workspace = os.path.join('..', 'input/Rain_stations')\n",
    "if not os.path.exists(workspace):\n",
    "    os.makedirs(workspace)\n",
    "\n",
    "# project file \n",
    "arcpy.Project_management(os.path.join(GIS_FOLDER, 'Stations\\\\Thissen_poly_rain_clip_modified2.shp'), os.path.join(workspace, 'Thissen_poly_projected.shp'), sr_project)\n",
    "\n",
    "#  Merge in the grid bound into the shapefile to create accurate grid coverage \n",
    "arcpy.Erase_analysis(Grid_shp ,os.path.join(workspace, 'Thissen_poly_projected.shp'),  os.path.join(workspace, 'Thissen_poly_bound.shp'))\n",
    "arcpy.Merge_management([os.path.join(workspace, 'Thissen_poly_bound.shp'), os.path.join(workspace, 'Thissen_poly_projected.shp')], os.path.join(workspace, 'Thissen_poly_ready.shp'))\n",
    "\n",
    "# convert to raster.asc\n",
    "arcpy.PolygonToRaster_conversion(os.path.join(workspace, 'Thissen_poly_ready.shp'), \"Gage_ID\", os.path.join(workspace, \"TP_raster\"), cell_assignment=\"MAXIMUM_AREA\",  cellsize=cel_size)\n",
    "arcpy.RasterToASCII_conversion(os.path.join(workspace, \"TP_raster\"), os.path.join(workspace, \"TP_grid.asc\"))\n",
    "\n",
    "# clean up workspace\n",
    "arcpy.Delete_management(os.path.join(workspace, 'Thissen_poly_projected.shp'))\n",
    "arcpy.Delete_management(os.path.join(workspace, 'Thissen_poly_bound.shp'))\n",
    "arcpy.Delete_management(os.path.join(workspace, 'Thissen_poly_ready.shp'))\n",
    "arcpy.Delete_management(os.path.join(workspace, 'TP_raster'))\n"
   ]
  },
  {
   "cell_type": "code",
   "execution_count": 10,
   "metadata": {},
   "outputs": [
    {
     "data": {
      "text/plain": [
       "<Result 'true'>"
      ]
     },
     "execution_count": 10,
     "metadata": {},
     "output_type": "execute_result"
    }
   ],
   "source": [
    "### Rasterise the runoff zones (runoff to rainfall watersheds)\n",
    "workspace = os.path.join('..', 'input/Runoff_zones_WS')\n",
    "if not os.path.exists(workspace):\n",
    "    os.makedirs(workspace)\n",
    "    \n",
    "# project file \n",
    "arcpy.Project_management(os.path.join(GIS_FOLDER, 'Runofftorainfall2\\\\All_major_WS_modified3.shp'), os.path.join(workspace, 'RO_projected.shp'), sr_project)\n",
    "arcpy.Erase_analysis(Grid_shp ,os.path.join(workspace, 'RO_projected.shp'),  os.path.join(workspace, 'RO_bound.shp'))\n",
    "arcpy.Merge_management([os.path.join(workspace, 'RO_bound.shp'), os.path.join(workspace, 'RO_projected.shp')], os.path.join(workspace, 'RO_ready.shp'))\n",
    "\n",
    "arcpy.PolygonToRaster_conversion(os.path.join(workspace, 'RO_ready.shp'), \"Zone_ID\", os.path.join(workspace, \"Ro_Rast\"), cell_assignment=\"MAXIMUM_AREA\",  cellsize=cel_size)\n",
    "arcpy.RasterToASCII_conversion(os.path.join(workspace, \"Ro_Rast\"), os.path.join(workspace, \"Ro_Rast.asc\"))\n",
    "\n",
    "# clean up workspace\n",
    "arcpy.Delete_management(os.path.join(workspace, 'RO_projected.shp'))\n",
    "arcpy.Delete_management(os.path.join(workspace, 'RO_bound.shp'))\n",
    "arcpy.Delete_management(os.path.join(workspace, 'RO_ready.shp'))\n",
    "arcpy.Delete_management(os.path.join(workspace, 'Ro_Rast'))\n",
    "\n",
    "\n",
    "\n",
    "\n",
    "\"\"\"  note that the UH-ASPA data value of 0.4115 for Fagaalu was replaced by the Olkeba-Alex value of 0.285015 because the Falu stream gauge was out of the water a good bit\"\"\"\n",
    "\n"
   ]
  },
  {
   "cell_type": "code",
   "execution_count": 11,
   "metadata": {},
   "outputs": [
    {
     "data": {
      "text/plain": [
       "<Result 'true'>"
      ]
     },
     "execution_count": 11,
     "metadata": {},
     "output_type": "execute_result"
    }
   ],
   "source": [
    "\n",
    "### Rasterize the water lines to calculate direct infiltration from leaking lines\n",
    "workspace = os.path.join('..', 'input/Direct_infiltration')\n",
    "if not os.path.exists(workspace):\n",
    "    os.makedirs(workspace)\n",
    "    \n",
    "# Calculate in the amount of NRW water equally distributed over the area of the water lines \n",
    "# note total ASPA 5 year production average = 12,740,000 and the Non-Rev water ave = 7,940,000 Gal/day   (264.172 gal per m3 of water) \n",
    "# conversions 5 year production average in m3/day = 48226.1557 and the Non-Rev water ave = 30056.175522 m3/day    \n",
    "    \n",
    "# create appropriately sized buffers of 1/2 the cell size\n",
    "arcpy.Buffer_analysis(os.path.join(GIS_FOLDER, 'Direct_infiltration\\\\Transmission_water_mains.shp'), os.path.join(workspace, 'Water_lines_Buffer.shp'), \"{} meters\".format(cel_size/2), \"FULL\", \"ROUND\", \"ALL\")\n",
    "# calculate area of water line polygons in m2\n",
    "arcpy.AddField_management(os.path.join(workspace, 'Water_lines_Buffer.shp'), \"Infl_inch\", \"DOUBLE\")    # add Active cell unit field\n",
    "arcpy.AddGeometryAttributes_management(os.path.join(workspace, 'Water_lines_Buffer.shp'), \"AREA\")    # calculate the area of the buffer zone\n",
    "Area_list= [row[0] for row in arcpy.da.SearchCursor(os.path.join(workspace, 'Water_lines_Buffer.shp'), \"POLY_AREA\")]  # make a list of the area number\n",
    "arcpy.CalculateField_management(os.path.join(workspace, 'Water_lines_Buffer.shp'), \"Infl_inch\", \"!Id! + 30056.1755/Area_list[0]*39.3701\", \"PYTHON3\") # calculate the appropriate amount of infitration in inches to equal 7.94 MGD as spread over the whole water line influence area\n",
    "\n",
    "    \n",
    "# Project dataset into WGS84\n",
    "arcpy.Project_management(os.path.join(workspace, 'Water_lines_Buffer.shp'), os.path.join(workspace, 'Water_lines_Buffer_shp_projected.shp'), sr_project) \n",
    "arcpy.Erase_analysis(Grid_shp, os.path.join(workspace, 'Water_lines_Buffer_shp_projected.shp'),  os.path.join(workspace, 'Water_lines_Buffer_shp_bound.shp'))\n",
    "arcpy.Merge_management([os.path.join(workspace, 'Water_lines_Buffer_shp_bound.shp'), os.path.join(workspace, 'Water_lines_Buffer_shp_projected.shp')], os.path.join(workspace, 'Water_lines_Buffer_shp_ready.shp'))\n",
    "\n",
    "arcpy.PolygonToRaster_conversion(os.path.join(workspace, 'Water_lines_Buffer_shp_ready.shp'), \"Infl_inch\", os.path.join(workspace, \"A_WL_Rast\"), cell_assignment=\"MAXIMUM_AREA\",  cellsize=cel_size)\n",
    "arcpy.RasterToASCII_conversion(os.path.join(workspace, \"A_WL_Rast\"), os.path.join(workspace, \"A_WL_Rast.asc\"))\n",
    "\n",
    "# clean up workspace\n",
    "arcpy.Delete_management(os.path.join(workspace, 'Water_lines_Buffer.shp'))\n",
    "arcpy.Delete_management(os.path.join(workspace, 'Water_lines_Buffer_shp_projected.shp'))\n",
    "arcpy.Delete_management(os.path.join(workspace, 'Water_lines_Buffer_shp_bound.shp'))\n",
    "arcpy.Delete_management(os.path.join(workspace, 'Water_lines_Buffer_shp_ready.shp'))\n",
    "arcpy.Delete_management(os.path.join(workspace, 'A_WL_Rast'))\n",
    "\n"
   ]
  },
  {
   "cell_type": "code",
   "execution_count": 14,
   "metadata": {},
   "outputs": [
    {
     "data": {
      "text/plain": [
       "<Result 'true'>"
      ]
     },
     "execution_count": 14,
     "metadata": {},
     "output_type": "execute_result"
    }
   ],
   "source": [
    "### Rasterize OSDS location infiltration\n",
    "# FROM Shuler et al 2017   OSDS flow = 1.454203 m3/unit/Day\n",
    "workspace = os.path.join('..', 'input/Direct_infiltration')\n",
    "if not os.path.exists(workspace):\n",
    "    os.makedirs(workspace)\n",
    "    \n",
    "arcpy.env.extent = os.path.join('..', 'input/General/Grid_rast1')  # set processing extent to our desired model boundary\n",
    "    \n",
    "pdensOut = arcpy.sa.PointDensity(os.path.join(GIS_FOLDER, 'Direct_infiltration\\\\OSDS_units_pts.shp'),\"NONE\", cel_size, NbrCircle(1, \"CELL\"), \"SQUARE_METERS\" )\n",
    "pdensOut.save(os.path.join(workspace, 'temp_dens'))   # calculate the OSDS density per m2\n",
    "\n",
    "arcpy.Times_3d(os.path.join(workspace, 'temp_dens'), cel_size**2, os.path.join(workspace, 'OSDS_dens'))  # make the OSDS density in OSDS units, meaning number of units per cell\n",
    "\n",
    "infiltration_in_inches_per_day_per_OSDS = (1.454203/cel_size**2)*39.3701\n",
    "\n",
    "arcpy.Times_3d(os.path.join(workspace, 'OSDS_dens'), infiltration_in_inches_per_day_per_OSDS, os.path.join(workspace, 'OSDS_inlf_in'))  # calculate amount of water infiltrated in each cell in inches\n",
    "\n",
    "arcpy.RasterToASCII_conversion(os.path.join(workspace, 'OSDS_inlf_in'), os.path.join(workspace, \"OSDS_inlf_in.asc\"))\n",
    "\n",
    "arcpy.Delete_management(os.path.join(workspace, 'temp_dens'))   # clean up workspace\n",
    "arcpy.Delete_management(os.path.join(workspace, 'OSDS_inlf_in'))   # clean up workspace\n",
    "arcpy.Delete_management(os.path.join(workspace, 'OSDS_inlf_in'))   # clean up workspace\n",
    "arcpy.Delete_management(os.path.join(workspace, 'OSDS_dens'))   # clean up workspace\n"
   ]
  },
  {
   "cell_type": "code",
   "execution_count": 15,
   "metadata": {},
   "outputs": [
    {
     "data": {
      "text/plain": [
       "<Result '..\\\\input\\\\Direct_infiltration\\\\Total_inlf_in.asc'>"
      ]
     },
     "execution_count": 15,
     "metadata": {},
     "output_type": "execute_result"
    }
   ],
   "source": [
    "#### add all the direct infiltration into one raster because apparently the control file wont take multiples???\n",
    "arcpy.Plus_3d(os.path.join('..', 'input/Direct_infiltration',  \"A_WL_Rast.asc\"), os.path.join('..', 'input/Direct_infiltration', \"OSDS_inlf_in.asc\"), os.path.join('..', 'input/Direct_infiltration', \"WLOSDrast\"))\n",
    "arcpy.RasterToASCII_conversion(os.path.join('..', 'input/Direct_infiltration', \"WLOSDrast\"), os.path.join('..', 'input/Direct_infiltration', \"Total_inlf_in.asc\"))\n"
   ]
  },
  {
   "cell_type": "code",
   "execution_count": 16,
   "metadata": {},
   "outputs": [
    {
     "data": {
      "text/plain": [
       "<Result 'true'>"
      ]
     },
     "execution_count": 16,
     "metadata": {},
     "output_type": "execute_result"
    }
   ],
   "source": [
    "### Create Flow direction raster\n",
    "####resampling the 10 m DEM to whatever cell size we is using \n",
    "workspace = os.path.join('..', 'input/DEM_Process')\n",
    "if not os.path.exists(workspace):\n",
    "    os.makedirs(workspace)\n",
    "    \n",
    "# this resamples the 10 , dem to whatever cell size we are working in\n",
    "arcpy.ProjectRaster_management(os.path.join( GIS_FOLDER, 'DEM', '10M_DEM.tif'), os.path.join(workspace, 'DEM_projected.tif'), sr_project, cell_size = cel_size )\n",
    "arcpy.Clip_management(os.path.join(workspace, 'DEM_projected.tif'), \"515000 8429000 550000 8409000\", os.path.join(workspace, 'DEM_clip.tif'), Grid_shp, -9999, 'ClippingGeometry', 'MAINTAIN_EXTENT')\n",
    "arcpy.Plus_3d(os.path.join(workspace, 'DEM_clip.tif'), Grid_rast0,  os.path.join(workspace, 'DEM_ready.tif'))\n",
    "\n",
    "outFlowDirection = FlowDirection(os.path.join(workspace, 'DEM_ready.tif'), \"NORMAL\")\n",
    "outFlowDirection.save(os.path.join(workspace,'Flow_direction.tif'))\n",
    "arcpy.RasterToASCII_conversion(os.path.join(workspace,'Flow_direction.tif'), os.path.join(workspace,'Flow_direction.asc'))\n",
    "\n",
    "arcpy.Delete_management(os.path.join(workspace, 'DEM_projected.tif'))\n",
    "arcpy.Delete_management(os.path.join(workspace, 'DEM_clip.tif'))\n",
    "arcpy.Delete_management(os.path.join(workspace, 'DEM_ready.tif'))\n",
    "arcpy.Delete_management(os.path.join(workspace, 'Flow_direction.tif'))\n"
   ]
  },
  {
   "cell_type": "code",
   "execution_count": 17,
   "metadata": {},
   "outputs": [
    {
     "data": {
      "text/plain": [
       "<Result 'true'>"
      ]
     },
     "execution_count": 17,
     "metadata": {},
     "output_type": "execute_result"
    }
   ],
   "source": [
    "### Create mean annual wet canopy evaporation layer from wind and rainfall data\n",
    "workspace = os.path.join('..', 'input/Evaporation')\n",
    "if not os.path.exists(workspace):\n",
    "    os.makedirs(workspace)\n",
    "#files to use    \n",
    "anual_rain = os.path.join(GIS_FOLDER, 'Gridded_rain', \"year\", \"An_pcip_in.tif\")\n",
    "anual_wind =  os.path.join(GIS_FOLDER, 'Wind_map', 'wndsp_30m.tif')\n",
    "\n",
    "# divide them to get w\n",
    "outDivide = Divide(anual_wind, anual_rain)                     \n",
    "outDivide.save(os.path.join(workspace, \"w_WndOvrRain.tif\")) # create variable w = quotient of mean annual wind speed, in meters per second, and mean annual rainfall, in inches\n",
    "\n",
    "# now apply equation 18  V = 2.677 × (w) – 0.014, from \"Spatially Distributed Groundwater Recharge for 2010 Land Cover Estimated Using a Water-Budget Model for the Island of O’ahu, Hawai’i\"\n",
    "outTimes = Times(os.path.join(workspace, \"w_WndOvrRain.tif\"), 2.677)                     \n",
    "outTimes.save(os.path.join(workspace, \"w_Wndtmp.tif\")) # create variable w = quotient of mean annual wind speed, in meters per second, and mean annual rainfall, in inches\n",
    "arcpy.Plus_3d(os.path.join(workspace, \"w_Wndtmp.tif\"),  -0.014, os.path.join(workspace, \"V_evp2pcip.tif\"))\n",
    "\n",
    "# synchronize geometry with the model\n",
    "arcpy.ProjectRaster_management(os.path.join(workspace, \"V_evp2pcip.tif\"), os.path.join(workspace, 'V_evp_projected.tif'), sr_project, cell_size = cel_size )\n",
    "arcpy.Clip_management(os.path.join(workspace, 'V_evp_projected.tif'), \"515000 8429000 550000 8409000\", os.path.join(workspace, 'V_evp_clip.tif'), Grid_shp, -9999, 'ClippingGeometry', 'MAINTAIN_EXTENT')\n",
    "arcpy.Plus_3d(os.path.join(workspace, 'V_evp_clip.tif'), Grid_rast0,  os.path.join(workspace, 'V_evp_ready.tif'))\n",
    "# print .asc file\n",
    "arcpy.RasterToASCII_conversion(os.path.join(workspace,'V_evp_ready.tif'), os.path.join(workspace,'V_evp2pcp.asc'))   \n",
    "\n",
    "#clean\n",
    "arcpy.Delete_management(os.path.join(workspace, 'w_WndOvrRain.tif'))\n",
    "arcpy.Delete_management(os.path.join(workspace, 'w_Wndtmp.tif'))\n",
    "arcpy.Delete_management(os.path.join(workspace, 'V_evp2pcip.tif'))\n",
    "arcpy.Delete_management(os.path.join(workspace, 'V_evp_projected.tif'))\n",
    "arcpy.Delete_management(os.path.join(workspace, 'V_evp_clip.tif'))\n",
    "arcpy.Delete_management(os.path.join(workspace, 'V_evp_ready.tif'))\n",
    "\n",
    "\n"
   ]
  },
  {
   "cell_type": "code",
   "execution_count": 18,
   "metadata": {},
   "outputs": [
    {
     "data": {
      "text/plain": [
       "<Result 'true'>"
      ]
     },
     "execution_count": 18,
     "metadata": {},
     "output_type": "execute_result"
    }
   ],
   "source": [
    "### format raingall grids\n",
    "workspace = os.path.join('..', 'input/Gridded_rain')\n",
    "if not os.path.exists(workspace):\n",
    "    os.makedirs(workspace)\n",
    "\n",
    "mo_list = [\"01\", \"02\", \"03\",\"04\", \"05\", \"06\",\"07\", \"08\", \"09\",\"10\", \"11\", \"12\"]\n",
    "\n",
    "for i in mo_list:\n",
    "    inpt =  os.path.join(GIS_FOLDER, 'Gridded_rain', \"PRISM_ppt_tutuila_30yr_normal_80mM1_{}_asc.asc\".format(i))\n",
    "    outpy = os.path.join(workspace, 'PRISM_ppt_clip.tif')\n",
    "\n",
    "    arcpy.ProjectRaster_management(inpt, outpy, sr_project, \"BILINEAR\", cel_size, \"NAD_1983_To_WGS_1984_1\", \"#\", \"#\") \n",
    "    outpy2 = Times(outpy, 0.000393701)   # needed to convert 100* mm to inches\n",
    "    arcpy.Clip_management(outpy2, \"515000 8429000 550000 8409000\", os.path.join(workspace, 'file_clip.tif'), Grid_shp, -9999, 'ClippingGeometry', 'MAINTAIN_EXTENT')\n",
    "    arcpy.Plus_3d(os.path.join(workspace, 'file_clip.tif'), Grid_rast0,  os.path.join(workspace, 'file_plus.tif'))    \n",
    "    \n",
    "    arcpy.RasterToASCII_conversion(os.path.join(workspace, 'file_plus.tif'), os.path.join(workspace, 'PRISM_ppt_tutuila_30yr_normal_{}.asc'.format(i)))\n",
    "    \n",
    "arcpy.Delete_management(os.path.join(workspace, 'PRISM_ppt_clip.tif'))\n",
    "arcpy.Delete_management(os.path.join(workspace, 'file_clip.tif'))\n",
    "arcpy.Delete_management(os.path.join(workspace, 'file_plus.tif'))\n"
   ]
  },
  {
   "cell_type": "code",
   "execution_count": 19,
   "metadata": {},
   "outputs": [
    {
     "data": {
      "text/plain": [
       "<Result 'true'>"
      ]
     },
     "execution_count": 19,
     "metadata": {},
     "output_type": "execute_result"
    }
   ],
   "source": [
    "\n",
    "\n",
    "### format Air Temp grids\n",
    "workspace = os.path.join('..', 'input/Gridded_temps')\n",
    "if not os.path.exists(workspace):\n",
    "    os.makedirs(workspace)\n",
    "\n",
    "mo_list = [\"01\", \"02\", \"03\",\"04\", \"05\", \"06\",\"07\", \"08\", \"09\",\"10\", \"11\", \"12\"]\n",
    "\n",
    "#max temps\n",
    "for i in mo_list:\n",
    "    inpt =  os.path.join(GIS_FOLDER, 'Gridded_temps/Temp_max/Monthly', \"PRISM_tmax_tutuila_30yr_normal_80mM1_{}_asc.asc\".format(i))\n",
    "    outpy = os.path.join(workspace,'PRISM_clip.tif')\n",
    "\n",
    "    arcpy.ProjectRaster_management(inpt, outpy, sr_project, \"BILINEAR\", cel_size, \"NAD_1983_To_WGS_1984_1\", \"#\", \"#\") \n",
    "    outpy2 = Times(outpy, 0.01)   # needed to convert to deg celsius\n",
    "    arcpy.Clip_management(outpy2, \"515000 8429000 550000 8409000\", os.path.join(workspace, 'file_clip.tif'), Grid_shp, -9999, 'ClippingGeometry', 'MAINTAIN_EXTENT')\n",
    "    arcpy.Plus_3d(os.path.join(workspace, 'file_clip.tif'), Grid_rast0,  os.path.join(workspace, 'file_plus.tif'))    \n",
    "    \n",
    "    arcpy.RasterToASCII_conversion(os.path.join(workspace, 'file_plus.tif'), os.path.join(workspace, 'PRISM_tmax_tutuila_30yr_normal_{}.asc'.format(i)))\n",
    "    \n",
    "# min temps\n",
    "for i in mo_list:\n",
    "    inpt =  os.path.join(GIS_FOLDER, 'Gridded_temps/Temp_min/Monthly', \"PRISM_tmin_tutuila_30yr_normal_80mM1_{}_asc.asc\".format(i))\n",
    "    outpy = os.path.join(workspace, 'PRISM_clip.tif')\n",
    "\n",
    "    arcpy.ProjectRaster_management(inpt, outpy, sr_project, \"BILINEAR\", cel_size, \"NAD_1983_To_WGS_1984_1\", \"#\", \"#\") \n",
    "    outpy2 = Times(outpy, 0.01)   # needed to convert to deg celsius\n",
    "    arcpy.Clip_management(outpy2, \"515000 8429000 550000 8409000\", os.path.join(workspace,'file_clip.tif'), Grid_shp, -9999, 'ClippingGeometry', 'MAINTAIN_EXTENT')\n",
    "    arcpy.Plus_3d(os.path.join(workspace, 'file_clip.tif'), Grid_rast0,  os.path.join(workspace, 'file_plus.tif'))    \n",
    "    \n",
    "    arcpy.RasterToASCII_conversion(os.path.join(workspace, 'file_plus.tif'), os.path.join(workspace, 'PRISM_tmin_tutuila_30yr_normal_{}.asc'.format(i)))    \n",
    "    \n",
    "arcpy.Delete_management(os.path.join(workspace, 'PRISM_clip.tif'))\n",
    "arcpy.Delete_management(os.path.join(workspace, 'file_clip.tif'))\n",
    "arcpy.Delete_management(os.path.join(workspace, 'file_plus.tif'))\n",
    "\n"
   ]
  },
  {
   "cell_type": "code",
   "execution_count": 20,
   "metadata": {
    "collapsed": true
   },
   "outputs": [],
   "source": [
    "\n",
    "\n",
    "### Create Monthly Evapotranspiration grids from the original Izuka 2005 paper maps\n",
    "\n",
    "\n",
    "#Spline method \n",
    "workspace = os.path.join('..', 'input//ET_Process')\n",
    "if not os.path.exists(workspace):\n",
    "    os.makedirs(workspace)\n",
    "\n",
    "files = ['Jan_ET.shp', 'Feb_ET.shp', 'March_ET.shp', 'April_ET.shp', 'May_ET.shp', 'June_ET.shp', 'July_ET.shp', 'Aug_ET.shp', 'Sep_ET.shp', 'Oct_ET.shp', 'Nov-Dec_ET.shp', 'Nov-Dec_ET.shp']\n",
    "mos = [\"jan\", \"feb\", \"mar\", \"apr\", \"may\", \"jun\", \"jul\", \"aug\", \"sep\", \"oct\", \"nov\", \"dec\",]\n",
    "\n",
    "for idx, i in enumerate(files):\n",
    "    key_nam = mos[idx]\n",
    "    outSPL = Spline(os.path.join(GIS_FOLDER, 'ET', i), \"ET_inches\", cel_size, \"REGULARIZED\")   # spline the points\n",
    "    outSPL.save(os.path.join(workspace, 'ET.tif'))\n",
    "    \n",
    "    outExtractByMask = ExtractByMask(outSPL, os.path.join(GIS_FOLDER, 'Precip_bound_poly.shp'))                  # clip the raster\n",
    "    outExtractByMask.save(os.path.join(workspace, 'ET_clipped.tif'))\n",
    "    \n",
    "# already projected   arcpy.ProjectRaster_management(os.path.join(workspace, 'junk' 'ET_clipped.tif'), os.path.join(workspace, 'junk', 'ET_proj.tif'), sr_project, cell_size = cel_size)\n",
    "    arcpy.Clip_management(os.path.join(workspace, 'ET_clipped.tif'), \"515000 8429000 550000 8409000\", os.path.join(workspace, 'file_clip.tif'), Grid_shp, -9999, 'ClippingGeometry', 'MAINTAIN_EXTENT')   # make sure raster extent is good\n",
    "    arcpy.Plus_3d(os.path.join(workspace, 'file_clip.tif'), Grid_rast0,  os.path.join(workspace, 'file_plus.tif'))\n",
    "    \n",
    "    arcpy.RasterToASCII_conversion(os.path.join(workspace, 'file_plus.tif'), os.path.join(workspace, key_nam+'_ET_clipped.asc'))    \n",
    "\n",
    "    arcpy.Delete_management(os.path.join(workspace, 'ET.tif'))                                                     # delete extranious file\n",
    "    arcpy.Delete_management(os.path.join(workspace, 'ET_clipped.tif'))    \n",
    "    arcpy.Delete_management(os.path.join(workspace, 'file_clip.tif'))    \n",
    "    arcpy.Delete_management(os.path.join(workspace, 'file_plus.tif'))  \n"
   ]
  },
  {
   "cell_type": "code",
   "execution_count": null,
   "metadata": {
    "collapsed": true
   },
   "outputs": [],
   "source": [
    "### Silly rainfall adjustment grids,  not actual data, just a filler grid\n",
    "workspace = os.path.join('..', 'input//RF_adj_grids')\n",
    "if not os.path.exists(workspace):\n",
    "    os.makedirs(workspace)\n",
    "\n",
    "Field_to_rasterize = \"one\"\n",
    "\n",
    "mos = [\"jan\", \"feb\", \"mar\", \"apr\", \"may\", \"jun\", \"jul\", \"aug\", \"sep\", \"oct\", \"nov\", \"dec\",]\n",
    "\n",
    "for i in mos:\n",
    "    Gen_name = \"RFadj_{}\".format(i)\n",
    "\n",
    "    arcpy.PolygonToRaster_conversion(Grid_shp, Field_to_rasterize, os.path.join(workspace, '{}'.format(Gen_name)), cell_assignment=\"MAXIMUM_AREA\",  cellsize=cel_size)\n",
    "    arcpy.RasterToASCII_conversion( os.path.join(workspace, '{}'.format(Gen_name)), os.path.join(workspace, \"{}.asc\".format(Gen_name)))\n"
   ]
  },
  {
   "cell_type": "code",
   "execution_count": 36,
   "metadata": {},
   "outputs": [
    {
     "data": {
      "text/plain": [
       "<Result '..\\\\input\\\\Direct_infiltration\\\\Total_inlf_in.asc'>"
      ]
     },
     "execution_count": 36,
     "metadata": {},
     "output_type": "execute_result"
    }
   ],
   "source": [
    "\n",
    "\n",
    "# Move in other standard input files and modify control file to the shape of the current run\n",
    "# modify the control file grid for the given run   (note this uses dimensions from the rainfall adjustment grid in april)\n",
    "with open(os.path.join('..', 'input//RF_adj_grids', 'rfadj_apr.asc'), 'r') as dims_file:   # open an ASC file and get the dimenstions out of it \n",
    "    dimsfile1 = dims_file.read().splitlines(True)\n",
    "    x_dim = float(re.findall('\\d+', dimsfile1[0])[-1])    \n",
    "    y_dim = float(re.findall('\\d+', dimsfile1[1])[-1])\n",
    "\n",
    "with open(os.path.join('.', Control_File_Name), 'r') as fin:   # open file \n",
    "    data = fin.read().splitlines(True)\n",
    "with open(os.path.join('.', Control_File_Name), 'w') as fout:     # delete first line\n",
    "    fout.writelines(data[1:])\n",
    "new_first = 'GRID {} {} 515000. 8409000. {} '.format(x_dim, y_dim, cel_size)  # new first line \n",
    "with open(os.path.join('.', Control_File_Name), 'r+') as file:                # add in new first line and save file  \n",
    "    file_data = file.read()\n",
    "    file. seek(0, 0)\n",
    "    file. write(new_first + '\\n' + file_data)\n",
    "\n",
    "# land use lookup file\n",
    "shutil.copy2(os.path.join(STD_INPUT_FOLDER, 'Landuse_lookup_maui_mod5.txt') ,os.path.join('..', 'input'))    \n",
    "\n",
    "# Simple RO : RF ratios file\n",
    "shutil.copy2(os.path.join(GIS_FOLDER, 'Runofftorainfall2\\\\RO_Rf_ratios_real_monthly3_2000_2010.txt') ,os.path.join('..', 'input')) # note this is from the simplified version with zone IDs starting at 1\n",
    "\n",
    "# Rain Fragments file\n",
    "shutil.copy2(os.path.join(STD_INPUT_FOLDER, \"Fragments\", 'Rainfall_fragments_2001.prn') ,os.path.join('..', 'input'))  \n",
    "\n",
    "#  Fragments sequence file\n",
    "shutil.copy2(os.path.join(STD_INPUT_FOLDER, \"Fragments\", 'Sequence_file_2002.prn') ,os.path.join('..', 'input')) \n",
    "\n",
    "# need to run this before the 1st model run to re-fresh the direct net infiltration coverage to not include the MFR. \n",
    "arcpy.Plus_3d(os.path.join('..', 'input/Direct_infiltration',  \"A_WL_Rast.asc\"), os.path.join('..', 'input/Direct_infiltration', \"OSDS_inlf_in.asc\"), os.path.join('..', 'input/Direct_infiltration', \"temprast\"))\n",
    "arcpy.RasterToASCII_conversion(os.path.join('..', 'input/Direct_infiltration', \"temprast\"), os.path.join('..', 'input/Direct_infiltration', \"Total_inlf_in.asc\"))\n"
   ]
  },
  {
   "cell_type": "code",
   "execution_count": 37,
   "metadata": {},
   "outputs": [],
   "source": [
    "# RUN Da MODEL (with no MFR) \n",
    "os.chdir(os.path.join(\"..\", \"run\"))\n",
    "# Executable and control file copies\n",
    "shutil.copy2(os.path.join(\".\" , 'swb2.exe') ,os.path.join('..', 'output')) \n",
    "shutil.copy2(os.path.join(\".\" , Control_File_Name) ,os.path.join('..', 'output')) \n",
    "\n",
    "os.chdir(os.path.join(\"..\", \"output\"))\n",
    "subprocess.call('swb2.exe {}'.format(Control_File_Name), shell=True)\n",
    "\n",
    "os.chdir(os.path.join(\"..\", \"run\"))"
   ]
  },
  {
   "cell_type": "code",
   "execution_count": 38,
   "metadata": {},
   "outputs": [
    {
     "name": "stdout",
     "output_type": "stream",
     "text": [
      "actual_et total  221019.0 [m3/d]\n",
      "direct_net_infiltation total  36247.6 [m3/d]\n",
      "direct_soil_moisture total  1944.4 [m3/d]\n",
      "interception total  127397.1 [m3/d]\n",
      "net_infiltration total  909699.3 [m3/d]\n",
      "rainfall total  1486348.1 [m3/d]\n",
      "runoff total  277173.3 [m3/d]\n",
      "WATER BALANCE ratio: outs over ins water budget balanece =  1.0096134155207488 % \n"
     ]
    },
    {
     "name": "stderr",
     "output_type": "stream",
     "text": [
      "c:\\program files\\arcgis\\pro\\Resources\\ArcToolbox\\Scripts\\AddGeometryAttributes.py:136: SettingWithCopyWarning: \n",
      "A value is trying to be set on a copy of a slice from a DataFrame.\n",
      "Try using .loc[row_indexer,col_indexer] = value instead\n",
      "\n",
      "See the caveats in the documentation: http://pandas.pydata.org/pandas-docs/stable/indexing.html#indexing-view-versus-copy\n",
      "  if \"POINT_COUNT\" in geomProperties:\n"
     ]
    }
   ],
   "source": [
    "\n",
    "\n",
    "### Post process da files\n",
    "outspace = os.path.join('..', \"output\", 'post_prcessed_no_MFR')\n",
    "if not os.path.exists(outspace):\n",
    "    os.makedirs(outspace)\n",
    "    \n",
    "# Parameters\n",
    "Desired_files = ['actual_et',  'direct_net_infiltation', 'direct_soil_moisture',\n",
    "             'interception', 'net_infiltration', 'rainfall', 'runoff'] # 'delta_soil_storage',  'irrigation', \n",
    "XLLCORNER =      515000.000\n",
    "YLLCORNER =      8409000.000\n",
    "CELLSIZE  =      cel_size\n",
    "\n",
    "# functions\n",
    "def create_file_reference( component_name ):\n",
    "    '''\n",
    "    This is a simple convenience function that will form a path and filename to a\n",
    "    given water budget component\n",
    "    '''\n",
    "    # specify the prefix, path to SWB2 output, timeframe, and resolution\n",
    "    #output_path = os.path.join(os.getcwd(), \"output\")\n",
    "    #prefix      = '\\\\'\n",
    "    start_year  = '2000-01-01'\n",
    "    end_year    = '2009-12-31'\n",
    "    ncol        = str(int(x_dim))\n",
    "    nrow        = str(int(y_dim))\n",
    "    return(  component_name + '__' + start_year + '_' \n",
    "          + end_year + '__' + nrow + '_by_' + ncol + '.nc' )\n",
    "\n",
    "# some other functions to post process stuff\n",
    "\n",
    "def ncdump(nc_fid):\n",
    "    '''ncdump outputs dimensions, variables and their attribute information of netCDF4 files'''\n",
    "    nc_attrs = nc_fid.ncattrs()\n",
    "    nc_dims = [dim for dim in nc_fid.dimensions]  \n",
    "    nc_vars = [var for var in nc_fid.variables] \n",
    "    return nc_attrs, nc_dims, nc_vars\n",
    "\n",
    "def writeArrayToArcGrid(arr,filename,xll,yll,cellsize,no_data_val):\n",
    "    \"\"\" this takes a 2d numpy array and turns it into an .asc file \"\"\"\n",
    "    arr                = np.copy(arr)\n",
    "    arr[np.isnan(arr)] = no_data_val\n",
    "    headerstring       = bytes('NCOLS %d\\nNROWS %d\\nXLLCENTER %f\\nYLLCENTER %f\\nCELLSIZE %f\\nNODATA_value %f\\n' % \n",
    "        (arr.shape[1], arr.shape[0], xll, yll, cellsize, no_data_val), 'UTF-8')\n",
    "\n",
    "    with open(filename,'wb') as fout:\n",
    "        fout.write(headerstring)\n",
    "        np.savetxt(fout,arr,'%5.2f')\n",
    "        \n",
    "\n",
    "# post process the whole model domain\n",
    "os.chdir(os.path.join(\"..\", 'output'))  # difficulty in making the path to the file so need to change into the output directory\n",
    "var = []; tot = []; nclist = []\n",
    "\n",
    "# Step 1: make list of files that you wish to process \n",
    "for i in Desired_files:\n",
    "    Da_file = create_file_reference(i)\n",
    "    nclist.append(Da_file)\n",
    "    \n",
    "# Step 2 average the daily dimension (len(t) is # of days in the run) to annual \n",
    "for i, f in enumerate(nclist):\n",
    "    nc_data = nc.Dataset(nclist[i])\n",
    "    nc_attrs, nc_dims, nc_vars = ncdump(nc_data)\n",
    "    nc_var = nc_vars[3]\n",
    "    t = nc_data.variables['time'][:]\n",
    "    y = nc_data.variables['y'][:]\n",
    "    x = nc_data.variables['x'][:]\n",
    "    nt = len(t)\n",
    "    nrow = len(y)\n",
    "    ncol = len(x)\n",
    "    rd = np.zeros((nrow, ncol))  # create 0 array of the proper shape\n",
    "    for day in range(nt):\n",
    "        r_temp = nc_data.variables[str(nc_var)][day, :, :]\n",
    "        r_filled = np.ma.filled(r_temp, fill_value=0)    # fills in missing values with 0s (i think) \n",
    "        rd = rd+r_filled                                 # sequentially add each day's value in each cell to the empty frame  \n",
    "    r = rd/nt*365 # to create a one year average from all the years in model.  if want to add leap years add 0.25 \n",
    "    \n",
    "    # step 3: write each yearly average array to a .asc file\n",
    "    keyname = Desired_files[i] \n",
    "    writeArrayToArcGrid(r, os.path.join(outspace, \"{}_annual.asc\".format(keyname)), XLLCORNER, YLLCORNER, CELLSIZE, -999)\n",
    "    \n",
    "    # Step 4: calculate total amounts of water in cubic meters per day and create statistics dataframe\n",
    "    m3pd = ((cel_size**2)*r.sum()*.0254)/365 \n",
    "    print(\"{} total  {} [m3/d]\".format(keyname, '%.1f' % m3pd))\n",
    "    var.append(keyname) ; tot.append(m3pd)     # make lists to populate pandas dataframe\n",
    "    \n",
    "    nc_data.close()          # make sure to close the nc file so it doesnt stay open\n",
    "\n",
    "stat_frame = pd.DataFrame({'Variable' : var, 'total_[m3pd]': tot})    #in case you want the max and min#, \"Max_[in]\": mx, \"Min_[in]\":mn})\n",
    "stat_frame[\"total_[MGD]\"] = stat_frame[\"total_[m3pd]\"]/3785.41178       # put things in MGD if interested, 3785.41178 is number of gal in m3      \n",
    "Precip = list(stat_frame[stat_frame['Variable'] == 'rainfall']['total_[m3pd]'])[0]   # define the amount of calculated Precip\n",
    "Dir_net_inf = list(stat_frame[stat_frame['Variable'] == 'direct_net_infiltation']['total_[m3pd]'])[0]   # define the amount of calculated infiltration\n",
    "WB_ins = Precip + Dir_net_inf\n",
    "stat_frame['pct_of_pcip'] = stat_frame[\"total_[m3pd]\"]/WB_ins\n",
    "stat_frame.to_csv(os.path.join(outspace, \"stats_run7_{}m_cells.csv\".format(cel_size)))\n",
    "\n",
    "# how does the model balance? \n",
    "print(\"WATER BALANCE ratio: outs over ins water budget balanece =  {} % \".format(stat_frame['pct_of_pcip'].sum()-1))   # check water balance\n",
    "\n",
    "os.chdir(os.path.join(\"..\", 'run'))  # then back out to the home directory\n",
    "\n",
    "# calculate statistics for individual watersheds\n",
    "# note, for some reason will not overwrite csvs need to clear them out or recode to make this issue not an issue\n",
    "#create workspace\n",
    "outspace_table = os.path.join('..', 'output', 'post_prcessed_no_MFR', \"tables\")\n",
    "if not os.path.exists(outspace_table):\n",
    "    os.makedirs(outspace_table)\n",
    "sheds = (os.path.join(GIS_FOLDER, 'Watersheds\\\\Runoff_zones_sheds_WGS2S_clip.shp'))\n",
    "\n",
    "# process each raster layer into a table\n",
    "for i in (os.listdir(outspace)):\n",
    "    if i.endswith('.asc'):\n",
    "        outZSaT = ZonalStatisticsAsTable(sheds, \"SHED_NAME\", os.path.join(outspace, i), os.path.join(outspace_table, \"temptab.dbf\"))  # in arc format\n",
    "        arcpy.TableToTable_conversion(outZSaT, outspace_table, \"Table_{}_1.csv\".format(i))                                            # take table out of stupid arc format and put into csv format \n",
    "        \n",
    "# this block takes each of the csvs, reads them and calculates water volumnes (m3/d) for each watershed\n",
    "templist = []\n",
    "for c in (os.listdir(os.path.join(outspace, \"tables\"))):\n",
    "    if c.endswith('.csv'):\n",
    "        data = pd.read_csv(os.path.join(outspace, \"tables\", c))\n",
    "        keyname = c.split(\"Table_\")[1].split(\"_annual\")[0]                   # parameter being worked on\n",
    "        data[keyname] = (data['MEAN']*.0254/365) * data['AREA'] \n",
    "        temp_frame = data[[\"SHED_NAME\", keyname]]\n",
    "        templist.append(temp_frame)\n",
    "        \n",
    "summarry_frame1 = data[['SHED_NAME']]                                        # this is just sticking them all together into one dataframe\n",
    "for i in templist:\n",
    "    summarry_frame1 = summarry_frame1.merge(i, on ='SHED_NAME', how='outer')\n",
    "                          \n",
    "\n",
    "# that was in actual volumns, now to convert each component into a fraction of the rainfall...\n",
    "templist2 = []\n",
    "summarry_frame2 = data[['SHED_NAME']]\n",
    "for i in summarry_frame1.columns[1:]:\n",
    "    temp_frame = data[['SHED_NAME']] ; temp_frame[i.split(\"-\")[0]] = summarry_frame1[i]/summarry_frame1['rainfall']\n",
    "    templist2.append(temp_frame)\n",
    "    \n",
    "summarry_frame3 = data[['SHED_NAME']]\n",
    "for i in templist2:\n",
    "    summarry_frame3 = summarry_frame3.merge(i, on ='SHED_NAME', how='outer')\n",
    "                          \n",
    "summarry_frame_4000 = summarry_frame1.set_index('SHED_NAME')\n",
    "summarry_frame_4 = summarry_frame_4000.select_dtypes(exclude=['object'])*264.172/1000000   # convert to million gallons per day\n",
    "    \n",
    "summarry_frame3.to_csv(os.path.join(outspace, \"watershed_summary_stats_percentages.csv\"))\n",
    "summarry_frame1.to_csv(os.path.join(outspace, \"watershed_summary_stats_volume_m3pd.csv\"))\n",
    "summarry_frame_4.to_csv(os.path.join(outspace, \"watershed_summary_stats_volumes_MGD.csv\"))\n",
    "\n"
   ]
  },
  {
   "cell_type": "code",
   "execution_count": null,
   "metadata": {
    "collapsed": true
   },
   "outputs": [],
   "source": []
  },
  {
   "cell_type": "code",
   "execution_count": 39,
   "metadata": {},
   "outputs": [
    {
     "name": "stdout",
     "output_type": "stream",
     "text": [
      "MFR leo in MGD is 1.3349289896900935\n",
      "MFR taf in MGD is 5.299667551886826\n",
      "MFR total in MGD is 6.63459654157692\n"
     ]
    }
   ],
   "source": [
    "\n",
    "### MFR calculations      \n",
    "outspace = os.path.join('..', \"output\", 'post_prcessed_no_MFR')\n",
    "if not os.path.exists(outspace):\n",
    "    os.makedirs(outspace)\n",
    "\n",
    "# caclulate how much runoff to dump into the MFR area\n",
    "outspace_table = os.path.join('..', 'output', 'MFR_calcs', \"tables\")\n",
    "if not os.path.exists(outspace_table):\n",
    "    os.makedirs(outspace_table)\n",
    "    \n",
    "Contributing_area_leo = (os.path.join(GIS_FOLDER, 'MFR\\\\Contributing_MRF_Areas_leone.shp'))\n",
    "Contributing_area_taf = (os.path.join(GIS_FOLDER, 'MFR\\\\Contributing_MRF_Areas_tafuna.shp'))\n",
    "\n",
    "outZSaT_leo = ZonalStatisticsAsTable(Contributing_area_leo, \"SHED_NAME\", os.path.join(outspace, \"runoff_annual.asc\"), os.path.join(outspace_table, \"temptab_leo.dbf\"))  # in arc format\n",
    "arcpy.TableToTable_conversion(outZSaT_leo, outspace_table, \"runoff_MFR_leo.csv\")                                            # take table out of stupid arc format and put into csv format \n",
    "outZSaT_leo = ZonalStatisticsAsTable(Contributing_area_taf, \"SHED_NAME\", os.path.join(outspace, \"runoff_annual.asc\"), os.path.join(outspace_table, \"temptab_taf.dbf\"))  # in arc format\n",
    "arcpy.TableToTable_conversion(outZSaT_leo, outspace_table, \"runoff_MFR_taf.csv\") \n",
    "\n",
    "data_leo = pd.read_csv(os.path.join(outspace_table, \"runoff_MFR_leo.csv\"))\n",
    "data_taf = pd.read_csv(os.path.join(outspace_table, \"runoff_MFR_taf.csv\"))\n",
    "\n",
    "data_leo[\"AreaRunoff_m3pd\"] = (data_leo['MEAN']*.0254/365) * data_leo['AREA']    # this is how much runoff is in each MFR contributionzone\n",
    "data_taf[\"AreaRunoff_m3pd\"] = (data_taf['MEAN']*.0254/365) * data_taf['AREA']    # this is how much runoff is in each MFR contributionzone\n",
    "tot_MFR_leo = sum(data_leo['AreaRunoff_m3pd'])\n",
    "tot_MFR_taf = sum(data_taf['AreaRunoff_m3pd'])\n",
    "\n",
    "# calculate the MFR area and prepare input files\n",
    "workspace = os.path.join('..', 'input/MFR')\n",
    "if not os.path.exists(workspace):\n",
    "    os.makedirs(workspace)\n",
    "\n",
    "arcpy.Project_management(os.path.join(GIS_FOLDER, 'MFR\\\\MFR_infiltration_area_leone.shp'),  os.path.join(workspace, 'MFR_infiltration_area_leone_projected.shp'), sr_project) \n",
    "arcpy.AddField_management(os.path.join(workspace, 'MFR_infiltration_area_leone_projected.shp'), \"MFR_inch\", \"DOUBLE\")    # add Active cell unit field\n",
    "arcpy.AddGeometryAttributes_management(os.path.join(workspace, 'MFR_infiltration_area_leone_projected.shp'), \"AREA\")\n",
    "Total_MFR_area_leo = 0                                                                                                        # stupid block just to calculate the total area\n",
    "with arcpy.da.SearchCursor(os.path.join(workspace, 'MFR_infiltration_area_leone_projected.shp'), \"POLY_AREA\") as cursor:\n",
    "    for row in cursor:\n",
    "        Total_MFR_area_leo = Total_MFR_area_leo + row[0]\n",
    "\n",
    "arcpy.Project_management(os.path.join(GIS_FOLDER, 'MFR\\\\MFR_infiltration_area_tafuna.shp'),  os.path.join(workspace, 'MFR_infiltration_area_tafuna_projected.shp'), sr_project) \n",
    "arcpy.AddField_management(os.path.join(workspace, 'MFR_infiltration_area_tafuna_projected.shp'), \"MFR_inch\", \"DOUBLE\")    # add Active cell unit field\n",
    "arcpy.AddGeometryAttributes_management(os.path.join(workspace, 'MFR_infiltration_area_tafuna_projected.shp'), \"AREA\")\n",
    "Total_MFR_area_taf = 0                                                                                                        # stupid block just to calculate the total area\n",
    "with arcpy.da.SearchCursor(os.path.join(workspace, 'MFR_infiltration_area_tafuna_projected.shp'), \"POLY_AREA\") as cursor:\n",
    "    for row in cursor:\n",
    "        Total_MFR_area_taf = Total_MFR_area_taf + row[0]\n",
    "        \n",
    "Inches_of_MFR_across_leo = (tot_MFR_leo/Total_MFR_area_leo/0.0254) * 0.75   # note this 75% number if directly from Izuka 2007\n",
    "Inches_of_MFR_across_taf = (tot_MFR_taf/Total_MFR_area_taf/0.0254) * 0.75   # note this 75% number if directly from Izuka 2007\n",
    "\n",
    "arcpy.CalculateField_management(os.path.join(workspace, 'MFR_infiltration_area_leone_projected.shp'), \"MFR_inch\", \"!MFR_inch! + {}\".format(Inches_of_MFR_across_leo), \"PYTHON3\") # calculate the appropriate amount of infitration in inches spread over all MFR zone\n",
    "arcpy.CalculateField_management(os.path.join(workspace, 'MFR_infiltration_area_tafuna_projected.shp'), \"MFR_inch\", \"!MFR_inch! + {}\".format(Inches_of_MFR_across_taf), \"PYTHON3\") # calculate the appropriate amount of infitration in inches spread over all MFR zone\n",
    "\n",
    "arcpy.Erase_analysis(Grid_shp, os.path.join(workspace, 'MFR_infiltration_area_leone_projected.shp'),  os.path.join(workspace, 'MFR_infiltration_area_leone_bound.shp'))\n",
    "arcpy.Erase_analysis(Grid_shp, os.path.join(workspace, 'MFR_infiltration_area_tafuna_projected.shp'),  os.path.join(workspace, 'MFR_infiltration_area_tafuna_bound.shp'))\n",
    "\n",
    "arcpy.Merge_management([os.path.join(workspace, 'MFR_infiltration_area_leone_bound.shp'), os.path.join(workspace, 'MFR_infiltration_area_leone_projected.shp')], os.path.join(workspace, 'MFR_infiltration_area_leone_ready.shp'))\n",
    "arcpy.Merge_management([os.path.join(workspace, 'MFR_infiltration_area_tafuna_bound.shp'), os.path.join(workspace, 'MFR_infiltration_area_tafuna_projected.shp')], os.path.join(workspace, 'MFR_infiltration_area_tafuna_ready.shp'))\n",
    "\n",
    "arcpy.PolygonToRaster_conversion(os.path.join(workspace, 'MFR_infiltration_area_leone_ready.shp'), \"MFR_inch\", os.path.join(workspace, \"MFR_Rast_L\"), cell_assignment=\"MAXIMUM_AREA\",  cellsize=cel_size)\n",
    "arcpy.PolygonToRaster_conversion(os.path.join(workspace, 'MFR_infiltration_area_tafuna_ready.shp'), \"MFR_inch\", os.path.join(workspace, \"MFR_Rast_T\"), cell_assignment=\"MAXIMUM_AREA\",  cellsize=cel_size)\n",
    "\n",
    "arcpy.RasterToASCII_conversion(os.path.join(workspace, \"MFR_Rast_L\"), os.path.join(workspace, \"MFR_Rast_L.asc\"))\n",
    "arcpy.RasterToASCII_conversion(os.path.join(workspace, \"MFR_Rast_T\"), os.path.join(workspace, \"MFR_Rast_T.asc\"))\n",
    "\n",
    "arcpy.Delete_management(os.path.join(workspace, 'MFR_infiltration_area_leone_projected.shp'))\n",
    "arcpy.Delete_management(os.path.join(workspace, 'MFR_infiltration_area_tafuna_projected.shp'))\n",
    "arcpy.Delete_management(os.path.join(workspace, 'MFR_infiltration_area_leone_bound.shp'))\n",
    "arcpy.Delete_management(os.path.join(workspace, 'MFR_infiltration_area_tafuna_bound.shp'))\n",
    "arcpy.Delete_management(os.path.join(workspace, 'MFR_infiltration_area_leone_ready.shp'))\n",
    "arcpy.Delete_management(os.path.join(workspace, 'MFR_infiltration_area_tafuna_ready.shp'))\n",
    "arcpy.Delete_management(os.path.join(workspace, 'MFR_Rast_L'))\n",
    "arcpy.Delete_management(os.path.join(workspace, 'MFR_Rast_T'))\n",
    "\n",
    "# now combine the MFR raster into the other direct infiltration rasters\n",
    "arcpy.Plus_3d(os.path.join('..', 'input/MFR', \"MFR_Rast_L.asc\"), os.path.join('..', 'input/Direct_infiltration', \"WLOSDrast\"), os.path.join('..', 'input/Direct_infiltration', \"temprast2\"))\n",
    "arcpy.Plus_3d(os.path.join('..', 'input/MFR', \"MFR_Rast_T.asc\"), os.path.join('..', 'input/Direct_infiltration', \"temprast2\"), os.path.join('..', 'input/Direct_infiltration', \"temprast3\"))\n",
    "arcpy.RasterToASCII_conversion(os.path.join('..', 'input/Direct_infiltration', \"temprast3\"), os.path.join('..', 'input/Direct_infiltration', \"Total_inlf_in.asc\"))\n",
    "\n",
    "print('MFR leo in MGD is {}'.format(tot_MFR_leo*264.172/1000000))\n",
    "print('MFR taf in MGD is {}'.format(tot_MFR_taf*264.172/1000000))\n",
    "print('MFR total in MGD is {}'.format((tot_MFR_leo+tot_MFR_taf)*264.172/1000000))"
   ]
  },
  {
   "cell_type": "code",
   "execution_count": 40,
   "metadata": {},
   "outputs": [],
   "source": [
    "# Run da Model again, this time including the MFR\n",
    "# Executable and control file copies\n",
    "shutil.copy2(os.path.join(\".\" , 'swb2.exe') ,os.path.join('..', 'output')) \n",
    "shutil.copy2(os.path.join(\".\" , Control_File_Name) ,os.path.join('..', 'output')) \n",
    "\n",
    "os.chdir(os.path.join(\"..\", \"output\"))\n",
    "subprocess.call('swb2.exe {}'.format(Control_File_Name), shell=True)\n",
    "os.chdir(os.path.join(\"..\", \"run\"))"
   ]
  },
  {
   "cell_type": "code",
   "execution_count": 41,
   "metadata": {
    "scrolled": false
   },
   "outputs": [
    {
     "name": "stdout",
     "output_type": "stream",
     "text": [
      "actual_et total  221019.0 [m3/d]\n",
      "direct_net_infiltation total  54658.6 [m3/d]\n",
      "direct_soil_moisture total  1944.4 [m3/d]\n",
      "interception total  127397.1 [m3/d]\n",
      "net_infiltration total  928110.3 [m3/d]\n",
      "rainfall total  1486348.1 [m3/d]\n",
      "runoff total  277173.3 [m3/d]\n",
      "WATER BALANCE ratio: outs over ins water budget balanece =  1.0094985601399 % \n"
     ]
    },
    {
     "name": "stderr",
     "output_type": "stream",
     "text": [
      "c:\\program files\\arcgis\\pro\\Resources\\ArcToolbox\\Scripts\\AddGeometryAttributes.py:90: SettingWithCopyWarning: \n",
      "A value is trying to be set on a copy of a slice from a DataFrame.\n",
      "Try using .loc[row_indexer,col_indexer] = value instead\n",
      "\n",
      "See the caveats in the documentation: http://pandas.pydata.org/pandas-docs/stable/indexing.html#indexing-view-versus-copy\n",
      "  \"featureservice\",\n"
     ]
    }
   ],
   "source": [
    "# Post process the files again, this time with the MFR added \n",
    "outspace = os.path.join('..', \"output\", 'post_prcessed_with_MFR')\n",
    "if not os.path.exists(outspace):\n",
    "    os.makedirs(outspace)\n",
    "\n",
    "# post process the whole model domain\n",
    "os.chdir(os.path.join(\"..\", 'output'))  # difficulty in making the path to the file so need to change into the output directory\n",
    "var = []; tot = []; nclist = []\n",
    "\n",
    "# Step 1: make list of files that you wish to process \n",
    "for i in Desired_files:\n",
    "    Da_file = create_file_reference(i)\n",
    "    nclist.append(Da_file)\n",
    "    \n",
    "# Step 2 average the daily dimension (len(t) is # of days in the run) to annual \n",
    "for i, f in enumerate(nclist):\n",
    "    nc_data = nc.Dataset(nclist[i])\n",
    "    nc_attrs, nc_dims, nc_vars = ncdump(nc_data)\n",
    "    nc_var = nc_vars[3]\n",
    "    t = nc_data.variables['time'][:]\n",
    "    y = nc_data.variables['y'][:]\n",
    "    x = nc_data.variables['x'][:]\n",
    "    nt = len(t)\n",
    "    nrow = len(y)\n",
    "    ncol = len(x)\n",
    "    rd = np.zeros((nrow, ncol))  # create 0 array of the proper shape\n",
    "    for day in range(nt):\n",
    "        r_temp = nc_data.variables[str(nc_var)][day, :, :]\n",
    "        r_filled = np.ma.filled(r_temp, fill_value=0)    # fills in missing values with 0s (i think) \n",
    "        rd = rd+r_filled                                 # sequentially add each day's value in each cell to the empty frame  \n",
    "    r = rd/nt*365 # to create a one year average from all the years in model.  if want to add leap years add 0.25 \n",
    "    \n",
    "    # step 3: write each yearly average array to a .asc file\n",
    "    keyname = Desired_files[i] \n",
    "    writeArrayToArcGrid(r, os.path.join(outspace, \"{}_annual.asc\".format(keyname)), XLLCORNER, YLLCORNER, CELLSIZE, -999)\n",
    "    \n",
    "    # Step 4: calculate total amounts of water in cubic meters per day and create statistics dataframe\n",
    "    m3pd = ((cel_size**2)*r.sum()*.0254)/365 \n",
    "    print(\"{} total  {} [m3/d]\".format(keyname, '%.1f' % m3pd))\n",
    "    var.append(keyname) ; tot.append(m3pd)     # make lists to populate pandas dataframe\n",
    "    \n",
    "    nc_data.close()          # make sure to close the nc file so it doesnt stay open\n",
    "\n",
    "stat_frame = pd.DataFrame({'Variable' : var, 'total_[m3pd]': tot})    #in case you want the max and min#, \"Max_[in]\": mx, \"Min_[in]\":mn})\n",
    "stat_frame[\"total_[MGD]\"] = stat_frame[\"total_[m3pd]\"]/3785.41178       # put things in MGD if interested, 3785.41178 is number of gal in m3      \n",
    "Precip = list(stat_frame[stat_frame['Variable'] == 'rainfall']['total_[m3pd]'])[0]   # define the amount of calculated Precip\n",
    "Dir_net_inf = list(stat_frame[stat_frame['Variable'] == 'direct_net_infiltation']['total_[m3pd]'])[0]   # define the amount of calculated infiltration\n",
    "WB_ins = Precip + Dir_net_inf\n",
    "stat_frame['pct_of_pcip'] = stat_frame[\"total_[m3pd]\"]/WB_ins\n",
    "stat_frame.to_csv(os.path.join(outspace, \"stats_run7_{}m_cells.csv\".format(cel_size)))\n",
    "\n",
    "# how does the model balance? \n",
    "print(\"WATER BALANCE ratio: outs over ins water budget balanece =  {} % \".format(stat_frame['pct_of_pcip'].sum()-1))   # check water balance\n",
    "\n",
    "os.chdir(os.path.join(\"..\", 'run'))  # then back out to the home directory\n",
    "\n",
    "# calculate statistics for individual watersheds\n",
    "# note, for some reason will not overwrite csvs need to clear them out or recode to make this issue not an issue\n",
    "#create workspace\n",
    "outspace_table = os.path.join('..', 'output', 'post_prcessed_with_MFR', \"tables\")\n",
    "if not os.path.exists(outspace_table):\n",
    "    os.makedirs(outspace_table)\n",
    "sheds = (os.path.join(GIS_FOLDER, 'Watersheds\\\\Runoff_zones_sheds_WGS2S_clip.shp'))\n",
    "\n",
    "# process each raster layer into a table\n",
    "for i in (os.listdir(outspace)):\n",
    "    if i.endswith('.asc'):\n",
    "        outZSaT = ZonalStatisticsAsTable(sheds, \"SHED_NAME\", os.path.join(outspace, i), os.path.join(outspace_table, \"temptab.dbf\"))  # in arc format\n",
    "        arcpy.TableToTable_conversion(outZSaT, outspace_table, \"Table_{}_1.csv\".format(i))                                            # take table out of stupid arc format and put into csv format \n",
    "        \n",
    "# this block takes each of the csvs, reads them and calculates water volumnes (m3/d) for each watershed\n",
    "templist = []\n",
    "for c in (os.listdir(os.path.join(outspace, \"tables\"))):\n",
    "    if c.endswith('.csv'):\n",
    "        data = pd.read_csv(os.path.join(outspace, \"tables\", c))\n",
    "        keyname = c.split(\"Table_\")[1].split(\"_annual\")[0]                   # parameter being worked on\n",
    "        data[keyname] = (data['MEAN']*.0254/365) * data['AREA'] \n",
    "        temp_frame = data[[\"SHED_NAME\", keyname]]\n",
    "        templist.append(temp_frame)\n",
    "        \n",
    "summarry_frame1 = data[['SHED_NAME']]                                        # this is just sticking them all together into one dataframe\n",
    "for i in templist:\n",
    "    summarry_frame1 = summarry_frame1.merge(i, on ='SHED_NAME', how='outer')\n",
    "                          \n",
    "\n",
    "# that was in actual volumns, now to convert each component into a fraction of the rainfall...\n",
    "templist2 = []\n",
    "summarry_frame2 = data[['SHED_NAME']]\n",
    "for i in summarry_frame1.columns[1:]:\n",
    "    temp_frame = data[['SHED_NAME']] ; temp_frame[i.split(\"-\")[0]] = summarry_frame1[i]/summarry_frame1['rainfall']\n",
    "    templist2.append(temp_frame)\n",
    "    \n",
    "summarry_frame3 = data[['SHED_NAME']]\n",
    "for i in templist2:\n",
    "    summarry_frame3 = summarry_frame3.merge(i, on ='SHED_NAME', how='outer')\n",
    "                          \n",
    "summarry_frame_4000 = summarry_frame1.set_index('SHED_NAME')\n",
    "summarry_frame_4 = summarry_frame_4000.select_dtypes(exclude=['object'])*264.172/1000000   # convert to million gallons per day\n",
    "    \n",
    "summarry_frame3.to_csv(os.path.join(outspace, \"watershed_summary_stats_percentages.csv\"))\n",
    "summarry_frame1.to_csv(os.path.join(outspace, \"watershed_summary_stats_volume_m3pd.csv\"))\n",
    "summarry_frame_4.to_csv(os.path.join(outspace, \"watershed_summary_stats_volumes_MGD.csv\"))\n",
    "\n",
    "\n",
    "       \n",
    "       \n",
    "       \n",
    "       \n",
    "       \n",
    "       "
   ]
  },
  {
   "cell_type": "code",
   "execution_count": 42,
   "metadata": {},
   "outputs": [
    {
     "ename": "SyntaxError",
     "evalue": "invalid syntax (<ipython-input-42-2c3c9b48465b>, line 1)",
     "output_type": "error",
     "traceback": [
      "\u001b[1;36m  File \u001b[1;32m\"<ipython-input-42-2c3c9b48465b>\"\u001b[1;36m, line \u001b[1;32m1\u001b[0m\n\u001b[1;33m    With R2R ratios\u001b[0m\n\u001b[1;37m           ^\u001b[0m\n\u001b[1;31mSyntaxError\u001b[0m\u001b[1;31m:\u001b[0m invalid syntax\n"
     ]
    }
   ],
   "source": [
    "With R2R ratios\n",
    "\n",
    "actual_et total  222930.7 [m3/d]\n",
    "direct_net_infiltation total  57503.7 [m3/d]\n",
    "direct_soil_moisture total  1944.4 [m3/d]\n",
    "interception total  127397.1 [m3/d]\n",
    "net_infiltration total  863566.6 [m3/d]\n",
    "rainfall total  1486348.1 [m3/d]\n",
    "runoff total  352353.2 [m3/d]\n",
    "WATER BALANCE ratio: outs over ins water budget balanece =  1.0157658902120996 % \n",
    "    \n",
    "With curve # method\n",
    "\n",
    "actual_et total  221019.0 [m3/d]\n",
    "direct_net_infiltation total  54658.6 [m3/d]\n",
    "direct_soil_moisture total  1944.4 [m3/d]\n",
    "interception total  127397.1 [m3/d]\n",
    "net_infiltration total  928110.3 [m3/d]\n",
    "rainfall total  1486348.1 [m3/d]\n",
    "runoff total  277173.3 [m3/d]\n",
    "WATER BALANCE ratio: outs over ins water budget balanece =  1.0094985601399 % "
   ]
  },
  {
   "cell_type": "code",
   "execution_count": 44,
   "metadata": {},
   "outputs": [
    {
     "data": {
      "text/plain": [
       "0.624423082615915"
      ]
     },
     "execution_count": 44,
     "metadata": {},
     "output_type": "execute_result"
    }
   ],
   "source": [
    "Idea!\n",
    "\n",
    "\"calibrate\" the curve numbers. \n",
    "\n",
    "Run SWB rith the original R:R ratios \n",
    "Pull out direct infimtration amount in each of the watersheds with a R:R ratio, this is the \"observed\" data\n",
    "Then run again, using constrained opitimazation of curve number values (using same solver as in Mia paper model) \n",
    "to best match the \"observed\" net infil in the gauged basins. \n",
    "\n",
    "then apply these curve numbers to the whole domain, and THEN you can run all the climate and land use scenarios.\n",
    "\n",
    "\n",
    "\n",
    "Genius!"
   ]
  },
  {
   "cell_type": "code",
   "execution_count": 45,
   "metadata": {},
   "outputs": [
    {
     "data": {
      "text/plain": [
       "'c:\\\\users\\\\cshuler\\\\desktop\\\\github_repo_copies\\\\swb2-particapatory_scenarios\\\\model_workspace\\\\run'"
      ]
     },
     "execution_count": 45,
     "metadata": {},
     "output_type": "execute_result"
    }
   ],
   "source": [
    "pwd"
   ]
  },
  {
   "cell_type": "code",
   "execution_count": null,
   "metadata": {
    "collapsed": true
   },
   "outputs": [],
   "source": []
  }
 ],
 "metadata": {
  "kernelspec": {
   "display_name": "Python 3",
   "language": "python",
   "name": "python3"
  },
  "language_info": {
   "codemirror_mode": {
    "name": "ipython",
    "version": 3
   },
   "file_extension": ".py",
   "mimetype": "text/x-python",
   "name": "python",
   "nbconvert_exporter": "python",
   "pygments_lexer": "ipython3",
   "version": "3.6.2"
  }
 },
 "nbformat": 4,
 "nbformat_minor": 2
}
