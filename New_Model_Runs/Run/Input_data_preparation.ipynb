{
 "cells": [
  {
   "cell_type": "code",
   "execution_count": 1,
   "metadata": {},
   "outputs": [
    {
     "data": {
      "text/html": [
       " <style>\n",
       "    div#notebook-container    { width: 95%; }\n",
       "    div#menubar-container     { width: 85%; }\n",
       "    div#maintoolbar-container { width: 99%; } </style> "
      ],
      "text/plain": [
       "<IPython.core.display.HTML object>"
      ]
     },
     "metadata": {},
     "output_type": "display_data"
    }
   ],
   "source": [
    "#### import modules\n",
    "\n",
    "# make the screen bigger!\n",
    "from IPython.display import display, HTML\n",
    "display(HTML(data=\"\"\" <style>\n",
    "    div#notebook-container    { width: 95%; }\n",
    "    div#menubar-container     { width: 85%; }\n",
    "    div#maintoolbar-container { width: 99%; } </style> \"\"\"))\n",
    "\n",
    "import numpy as np\n",
    "import arcpy\n",
    "import os\n",
    "import sys\n",
    "from arcpy.sa import *\n",
    "import pandas as pd\n",
    "import shutil\n",
    "\n",
    "\n",
    "# Some functions to solve no data values in asc files\n",
    "\n",
    "# function to check ASC files for no data values\n",
    "def Check_no_data_asc(yourFileName):\n",
    "    data = np.loadtxt(yourFileName, skiprows=6)              # read the grid part of the  .asc file \n",
    "    if -9999 in np.unique(data): \n",
    "        print(\"There are {} no data values in {}\".format(np.count_nonzero(data == -9999), yourFileName))    \n",
    "\n",
    "\n",
    "# Function to clean .asc files of no data values\n",
    "\n",
    "def Clean_no_data_ESRI_trash_asc(yourFileName, Replace_values_with):\n",
    "\n",
    "    data = np.loadtxt(yourFileName, skiprows=6)              # read the grid part of the  .asc file \n",
    "    print(\"Starting unique values are: \\n {}\".format(np.unique(data)))                                   # see if -9999 is in there\n",
    "    #np.shape(data)\n",
    "    data[data == -9999] = Replace_values_with  \n",
    "\n",
    "    header=[]                                  # Get the header rows as a big string\n",
    "    fh = open(yourFileName,'r')\n",
    "    for i,line in enumerate(fh):\n",
    "        if i is 6: break\n",
    "        header.append(\"{}\".format(line))\n",
    "    fh.close()\n",
    "    header = ''.join(header)    \n",
    "\n",
    "    # Save data as file...\n",
    "    np.savetxt(yourFileName, data, fmt='%1i') \n",
    "\n",
    "    #We read the existing text from file in READ mode\n",
    "    src=open(yourFileName,\"r\")\n",
    "    fline=header    #Prepending string\n",
    "    oline=src.readlines()\n",
    "    #Here, we prepend the string we want to on first line\n",
    "    oline.insert(0,fline)\n",
    "    src.close()\n",
    "\n",
    "    #We again open the file in WRITE mode \n",
    "    src=open(yourFileName,\"w\")\n",
    "    src.writelines(oline)\n",
    "    src.close()\n",
    "\n",
    "    #double check\n",
    "    data = np.loadtxt(yourFileName, skiprows=6)              # read the grid part of the  .asc file \n",
    "    print(\"Ending unique values are: \\n {}\".format(np.unique(data)))  "
   ]
  },
  {
   "cell_type": "code",
   "execution_count": 2,
   "metadata": {},
   "outputs": [
    {
     "data": {
      "text/plain": [
       "<Result '..\\\\input\\\\General\\\\Grid_rast1'>"
      ]
     },
     "execution_count": 2,
     "metadata": {},
     "output_type": "execute_result"
    }
   ],
   "source": [
    "# set properties\n",
    "\n",
    "cel_size = 50     # in m \n",
    "\n",
    "arcpy.env.overwriteOutput = True # make sure overwrite files is on\n",
    "# projection definition \n",
    "sr_project = arcpy.SpatialReference(32702)   # Project dataset into WGS84\n",
    "\n",
    "\n",
    "#### General coverages and paths. More, basic model setup.\n",
    "GIS_FOLDER = os.path.join('..', '..', 'Raw_GIS_Data')\n",
    "STD_INPUT_FOLDER = os.path.join('..', '..', 'Std_input')\n",
    "\n",
    "# path to the grid bound\n",
    "Grid_shp = os.path.join(GIS_FOLDER, 'grid_bound.shp')\n",
    "\n",
    "\n",
    "# set/create Inpit file workspace\n",
    "Generalworkspace = os.path.join('..', 'input/General')\n",
    "if not os.path.exists(Generalworkspace):\n",
    "    os.makedirs(Generalworkspace)\n",
    "    \n",
    "input_folder = os.path.join(\"..\", \"input\") \n",
    "    \n",
    "# this makes a domain grid of zeros of with cell size\n",
    "Grid_rast0 =os.path.join(Generalworkspace, 'Grid_rast0')\n",
    "arcpy.PolygonToRaster_conversion(os.path.join(GIS_FOLDER, 'grid_bound.shp'), \"zero\", Grid_rast0, cell_assignment=\"MAXIMUM_AREA\",  cellsize=cel_size )\n",
    "\n",
    "# this makes a domain grid of ones of with cell size\n",
    "Grid_rast1 =os.path.join(Generalworkspace, 'Grid_rast1')\n",
    "arcpy.PolygonToRaster_conversion(os.path.join(GIS_FOLDER, 'grid_bound.shp'), \"one\", Grid_rast1, cell_assignment=\"MAXIMUM_AREA\",  cellsize=cel_size )"
   ]
  },
  {
   "cell_type": "markdown",
   "metadata": {},
   "source": [
    "### Shuttle in non-dynamic text tables"
   ]
  },
  {
   "cell_type": "code",
   "execution_count": 3,
   "metadata": {},
   "outputs": [
    {
     "data": {
      "text/plain": [
       "'..\\\\input\\\\Sequence_file_2002.prn'"
      ]
     },
     "execution_count": 3,
     "metadata": {},
     "output_type": "execute_result"
    }
   ],
   "source": [
    "# Simple RO : RF ratios file\n",
    "shutil.copy2(os.path.join(GIS_FOLDER, 'Runofftorainfall2\\\\RO_Rf_ratios_real_monthly3_2000_2010.txt') ,os.path.join(input_folder)) # note this is from the simplified version with zone IDs starting at 1\n",
    "\n",
    "# Rain Fragments file\n",
    "shutil.copy2(os.path.join(STD_INPUT_FOLDER, \"Fragments\", 'Rainfall_fragments_2001.prn') ,os.path.join(input_folder))  \n",
    "\n",
    "#  Fragments sequence file\n",
    "shutil.copy2(os.path.join(STD_INPUT_FOLDER, \"Fragments\", 'Sequence_file_2002.prn') ,os.path.join(input_folder)) "
   ]
  },
  {
   "cell_type": "markdown",
   "metadata": {},
   "source": [
    "### ORIGINAL Land use Soils Data processing"
   ]
  },
  {
   "cell_type": "code",
   "execution_count": 4,
   "metadata": {},
   "outputs": [
    {
     "name": "stdout",
     "output_type": "stream",
     "text": [
      "Starting unique values are: \n",
      " [   0.   30.  100.]\n",
      "Ending unique values are: \n",
      " [   0.   30.  100.]\n"
     ]
    }
   ],
   "source": [
    "### Land use data: incluing canopy coverage and % impervious surfaces \n",
    "# set/create workspace\n",
    "workspace = os.path.join('..', 'input/Land_use_Soils_data')\n",
    "if not os.path.exists(workspace):\n",
    "    os.makedirs(workspace)\n",
    "\n",
    "# project file using the simplified 3 m version LU_Big_simp_3\n",
    "arcpy.Project_management(os.path.join(GIS_FOLDER, \"Land_use\\\\LU_Big_simp_3.shp\"), os.path.join(workspace, 'LU_shp_projected.shp'), sr_project)\n",
    "\n",
    "#  Merge in the grid bound into the shapefile to create accurate grid coverage \n",
    "arcpy.Erase_analysis(Grid_shp ,os.path.join(workspace, 'LU_shp_projected.shp'),  os.path.join(workspace, 'LU_shp_bound.shp'))\n",
    "arcpy.Merge_management([os.path.join(workspace, 'LU_shp_bound.shp'), os.path.join(workspace, 'LU_shp_projected.shp')], os.path.join(workspace, 'LU_shp_ready.shp'))\n",
    "\n",
    "# convert to raster.asc\n",
    "arcpy.PolygonToRaster_conversion(os.path.join(workspace, 'LU_shp_ready.shp'), \"LU2\", os.path.join(workspace, \"LU_raster\"), cell_assignment=\"MAXIMUM_AREA\",  cellsize=cel_size)\n",
    "arcpy.RasterToASCII_conversion(os.path.join(workspace, \"LU_raster\"), os.path.join(workspace, \"LU_grid.asc\"))\n",
    "# Check on existance of no data values\n",
    "Check_no_data_asc(os.path.join(workspace, \"LU_grid.asc\"))\n",
    "\n",
    "# canopy cover %ages with landuse map\n",
    "arcpy.PolygonToRaster_conversion(os.path.join(workspace, 'LU_shp_ready.shp'), \"fracCanCov\", os.path.join(workspace, \"CanCovRas\"), cell_assignment=\"MAXIMUM_AREA\",  cellsize=cel_size)\n",
    "arcpy.RasterToASCII_conversion(os.path.join(workspace, \"CanCovRas\"), os.path.join(workspace, \"CanCovRas.asc\"))\n",
    "# Check on existance of no data values\n",
    "Check_no_data_asc(os.path.join(workspace, \"CanCovRas.asc\"))\n",
    "\n",
    "# % impervious raster from landuse map\n",
    "arcpy.PolygonToRaster_conversion(os.path.join(workspace, 'LU_shp_ready.shp'), \"pct_Impv\", os.path.join(workspace, \"pImpvRas\"), cell_assignment=\"MAXIMUM_AREA\",  cellsize=cel_size )\n",
    "arcpy.RasterToASCII_conversion(os.path.join(workspace, \"pImpvRas\"), os.path.join(workspace, \"pImpvRas.asc\"))\n",
    "# Check on existance of no data values\n",
    "Check_no_data_asc(os.path.join(workspace, \"pImpvRas.asc\"))\n",
    "\n",
    "# % pervious raster from landuse map\n",
    "arcpy.PolygonToRaster_conversion(os.path.join(workspace, 'LU_shp_ready.shp'), \"pct_Perv\", os.path.join(workspace, \"pPERVRas\"), cell_assignment=\"MAXIMUM_COMBINED_AREA\",  cellsize=cel_size )\n",
    "arcpy.RasterToASCII_conversion(os.path.join(workspace, \"pPERVRas\"), os.path.join(workspace, \"pPERVRas.asc\"))\n",
    "# Check on existance of no data values\n",
    "Check_no_data_asc(os.path.join(workspace, \"pPERVRas.asc\"))\n",
    "\n",
    "\n",
    "# clean up workspace\n",
    "arcpy.Delete_management(os.path.join(workspace, 'LU_shp_projected.shp'))\n",
    "arcpy.Delete_management(os.path.join(workspace, 'LU_shp_bound.shp'))\n",
    "arcpy.Delete_management(os.path.join(workspace, 'LU_shp_ready.shp'))\n",
    "arcpy.Delete_management(os.path.join(workspace, 'LU_raster'))\n",
    "arcpy.Delete_management(os.path.join(workspace, 'CanCovRas'))\n",
    "arcpy.Delete_management(os.path.join(workspace, 'pImpvRas'))\n",
    "arcpy.Delete_management(os.path.join(workspace, 'pPERVRas'))\n",
    "\n",
    "\n",
    "\n",
    "### Same with soil shapefile into WGS84 and then resterize to make soil moisture and h2o group rasters\n",
    "# set/create workspace\n",
    "workspace = os.path.join('..', 'input/Land_use_Soils_data')\n",
    "if not os.path.exists(workspace):\n",
    "    os.makedirs(workspace)\n",
    "\n",
    "# Project dataset into WGS84\n",
    "arcpy.Project_management(os.path.join(GIS_FOLDER, 'Soils\\\\Tut_Soil_clip2.shp'), os.path.join(workspace, 'soils_shp_projected.shp'), sr_project) \n",
    "\n",
    "arcpy.Erase_analysis(Grid_shp, os.path.join(workspace, 'soils_shp_projected.shp'),  os.path.join(workspace, 'soils_shp_bound.shp'))\n",
    "arcpy.Merge_management([os.path.join(workspace, 'soils_shp_bound.shp'), os.path.join(workspace, 'soils_shp_projected.shp')], os.path.join(workspace, 'soils_shp_ready.shp'))\n",
    "\n",
    "# convert to raster\n",
    "arcpy.PolygonToRaster_conversion(os.path.join(workspace, 'soils_shp_ready.shp'),  \"H2O_grp\", os.path.join(workspace, \"H2Ogp_rst\"), cell_assignment=\"MAXIMUM_AREA\",  cellsize=cel_size)\n",
    "arcpy.PolygonToRaster_conversion(os.path.join(workspace, 'soils_shp_ready.shp'),  \"SM_INpFT\", os.path.join(workspace, \"SMC_rst\"), cell_assignment=\"MAXIMUM_AREA\",  cellsize=cel_size)\n",
    "\n",
    "arcpy.RasterToASCII_conversion(os.path.join(workspace, \"SMC_rst\"), os.path.join(workspace, \"soil_moist_cap_grid.asc\"))\n",
    "arcpy.RasterToASCII_conversion(os.path.join(workspace, \"H2Ogp_rst\"), os.path.join(workspace, \"H2Ogp_grid.asc\"))\n",
    "# Check on existance of no data values\n",
    "Check_no_data_asc(os.path.join(workspace, \"soil_moist_cap_grid.asc\"))\n",
    "Check_no_data_asc(os.path.join(workspace, \"H2Ogp_grid.asc\"))\n",
    "\n",
    "# clean up workspace\n",
    "arcpy.Delete_management(os.path.join(workspace, 'soils_shp_projected.shp'))\n",
    "arcpy.Delete_management(os.path.join(workspace, 'soils_shp_bound.shp'))\n",
    "arcpy.Delete_management(os.path.join(workspace, 'soils_shp_ready.shp'))\n",
    "arcpy.Delete_management(os.path.join(workspace, 'SMC_rst'))\n",
    "arcpy.Delete_management(os.path.join(workspace, 'H2Ogp_rst'))\n",
    "\n",
    "\n",
    "# at 25 m cell size need to clean up pPERVRas.asc   using 30 as a random value that is represented a lot\n",
    "Clean_no_data_ESRI_trash_asc(os.path.join(workspace, \"pPERVRas.asc\"), 30)"
   ]
  },
  {
   "cell_type": "markdown",
   "metadata": {},
   "source": [
    "### Scen 1  Land use  Data processing"
   ]
  },
  {
   "cell_type": "code",
   "execution_count": 5,
   "metadata": {},
   "outputs": [
    {
     "data": {
      "text/plain": [
       "<Result 'true'>"
      ]
     },
     "execution_count": 5,
     "metadata": {},
     "output_type": "execute_result"
    }
   ],
   "source": [
    "workspace = os.path.join('..', 'input/Land_use_Soils_data_Scen1')\n",
    "if not os.path.exists(workspace):\n",
    "    os.makedirs(workspace)\n",
    "\n",
    "########   Main change Parameter HERE   ############    \n",
    "LU_Scn_data_Path = os.path.join(\"..\", \"..\", \"Scripts_Scen1\", \"WorkSpaces\", \"Finished_LU_99.shp\")\n",
    "    \n",
    "\n",
    "# project file using the SCENARIO VERSION\n",
    "arcpy.Project_management(LU_Scn_data_Path, os.path.join(workspace, 'LU_shp_projected.shp'), sr_project)\n",
    "\n",
    "#  Merge in the grid bound into the shapefile to create accurate grid coverage \n",
    "arcpy.Erase_analysis(Grid_shp ,os.path.join(workspace, 'LU_shp_projected.shp'),  os.path.join(workspace, 'LU_shp_bound.shp'))\n",
    "arcpy.Merge_management([os.path.join(workspace, 'LU_shp_bound.shp'), os.path.join(workspace, 'LU_shp_projected.shp')], os.path.join(workspace, 'LU_shp_ready.shp'))\n",
    "\n",
    "# convert to raster.asc\n",
    "arcpy.PolygonToRaster_conversion(os.path.join(workspace, 'LU_shp_ready.shp'), \"LU2\", os.path.join(workspace, \"LU_raster\"), cell_assignment=\"MAXIMUM_AREA\",  cellsize=cel_size)\n",
    "arcpy.RasterToASCII_conversion(os.path.join(workspace, \"LU_raster\"), os.path.join(workspace, \"LU_grid.asc\"))\n",
    "# Check on existance of no data values\n",
    "Check_no_data_asc(os.path.join(workspace, \"LU_grid.asc\"))\n",
    "\n",
    "# canopy cover %ages with landuse map\n",
    "arcpy.PolygonToRaster_conversion(os.path.join(workspace, 'LU_shp_ready.shp'), \"fracCanCov\", os.path.join(workspace, \"CanCovRas\"), cell_assignment=\"MAXIMUM_AREA\",  cellsize=cel_size)\n",
    "arcpy.RasterToASCII_conversion(os.path.join(workspace, \"CanCovRas\"), os.path.join(workspace, \"CanCovRas.asc\"))\n",
    "# Check on existance of no data values\n",
    "Check_no_data_asc(os.path.join(workspace, \"CanCovRas.asc\"))\n",
    "\n",
    "# % impervious raster from landuse map\n",
    "arcpy.PolygonToRaster_conversion(os.path.join(workspace, 'LU_shp_ready.shp'), \"pct_Impv\", os.path.join(workspace, \"pImpvRas\"), cell_assignment=\"MAXIMUM_AREA\",  cellsize=cel_size )\n",
    "arcpy.RasterToASCII_conversion(os.path.join(workspace, \"pImpvRas\"), os.path.join(workspace, \"pImpvRas.asc\"))\n",
    "# Check on existance of no data values\n",
    "Check_no_data_asc(os.path.join(workspace, \"pImpvRas.asc\"))\n",
    "\n",
    "# % pervious raster from landuse map\n",
    "arcpy.PolygonToRaster_conversion(os.path.join(workspace, 'LU_shp_ready.shp'), \"pct_Perv\", os.path.join(workspace, \"pPERVRas\"), cell_assignment=\"MAXIMUM_COMBINED_AREA\",  cellsize=cel_size )\n",
    "arcpy.RasterToASCII_conversion(os.path.join(workspace, \"pPERVRas\"), os.path.join(workspace, \"pPERVRas.asc\"))\n",
    "# Check on existance of no data values\n",
    "Check_no_data_asc(os.path.join(workspace, \"pPERVRas.asc\"))\n",
    "\n",
    "# clean up workspace\n",
    "arcpy.Delete_management(os.path.join(workspace, 'LU_shp_projected.shp'))\n",
    "arcpy.Delete_management(os.path.join(workspace, 'LU_shp_bound.shp'))\n",
    "arcpy.Delete_management(os.path.join(workspace, 'LU_shp_ready.shp'))\n",
    "arcpy.Delete_management(os.path.join(workspace, 'LU_raster'))\n",
    "arcpy.Delete_management(os.path.join(workspace, 'CanCovRas'))\n",
    "arcpy.Delete_management(os.path.join(workspace, 'pImpvRas'))\n",
    "arcpy.Delete_management(os.path.join(workspace, 'pPERVRas'))"
   ]
  },
  {
   "cell_type": "markdown",
   "metadata": {},
   "source": [
    "### Scen 2  Land use  Data processing"
   ]
  },
  {
   "cell_type": "code",
   "execution_count": 6,
   "metadata": {},
   "outputs": [
    {
     "data": {
      "text/plain": [
       "<Result 'true'>"
      ]
     },
     "execution_count": 6,
     "metadata": {},
     "output_type": "execute_result"
    }
   ],
   "source": [
    "workspace = os.path.join('..', 'input/Land_use_Soils_data_Scen2')\n",
    "if not os.path.exists(workspace):\n",
    "    os.makedirs(workspace)\n",
    "    \n",
    "########   Main change Parameter HERE   ############\n",
    "LU_Scn_data_Path = os.path.join(\"..\", \"..\", \"Scripts_Scen2\", \"WorkSpaces\", \"Finished_LU_99.shp\")\n",
    "    \n",
    "\n",
    "# project file using the SCENARIO VERSION\n",
    "arcpy.Project_management(LU_Scn_data_Path, os.path.join(workspace, 'LU_shp_projected.shp'), sr_project)\n",
    "\n",
    "#  Merge in the grid bound into the shapefile to create accurate grid coverage \n",
    "arcpy.Erase_analysis(Grid_shp ,os.path.join(workspace, 'LU_shp_projected.shp'),  os.path.join(workspace, 'LU_shp_bound.shp'))\n",
    "arcpy.Merge_management([os.path.join(workspace, 'LU_shp_bound.shp'), os.path.join(workspace, 'LU_shp_projected.shp')], os.path.join(workspace, 'LU_shp_ready.shp'))\n",
    "\n",
    "# convert to raster.asc\n",
    "arcpy.PolygonToRaster_conversion(os.path.join(workspace, 'LU_shp_ready.shp'), \"LU2\", os.path.join(workspace, \"LU_raster\"), cell_assignment=\"MAXIMUM_AREA\",  cellsize=cel_size)\n",
    "arcpy.RasterToASCII_conversion(os.path.join(workspace, \"LU_raster\"), os.path.join(workspace, \"LU_grid.asc\"))\n",
    "# Check on existance of no data values\n",
    "Check_no_data_asc(os.path.join(workspace, \"LU_grid.asc\"))\n",
    "\n",
    "# canopy cover %ages with landuse map\n",
    "arcpy.PolygonToRaster_conversion(os.path.join(workspace, 'LU_shp_ready.shp'), \"fracCanCov\", os.path.join(workspace, \"CanCovRas\"), cell_assignment=\"MAXIMUM_AREA\",  cellsize=cel_size)\n",
    "arcpy.RasterToASCII_conversion(os.path.join(workspace, \"CanCovRas\"), os.path.join(workspace, \"CanCovRas.asc\"))\n",
    "# Check on existance of no data values\n",
    "Check_no_data_asc(os.path.join(workspace, \"CanCovRas.asc\"))\n",
    "\n",
    "# % impervious raster from landuse map\n",
    "arcpy.PolygonToRaster_conversion(os.path.join(workspace, 'LU_shp_ready.shp'), \"pct_Impv\", os.path.join(workspace, \"pImpvRas\"), cell_assignment=\"MAXIMUM_AREA\",  cellsize=cel_size )\n",
    "arcpy.RasterToASCII_conversion(os.path.join(workspace, \"pImpvRas\"), os.path.join(workspace, \"pImpvRas.asc\"))\n",
    "# Check on existance of no data values\n",
    "Check_no_data_asc(os.path.join(workspace, \"pImpvRas.asc\"))\n",
    "\n",
    "# % pervious raster from landuse map\n",
    "arcpy.PolygonToRaster_conversion(os.path.join(workspace, 'LU_shp_ready.shp'), \"pct_Perv\", os.path.join(workspace, \"pPERVRas\"), cell_assignment=\"MAXIMUM_COMBINED_AREA\",  cellsize=cel_size )\n",
    "arcpy.RasterToASCII_conversion(os.path.join(workspace, \"pPERVRas\"), os.path.join(workspace, \"pPERVRas.asc\"))\n",
    "# Check on existance of no data values\n",
    "Check_no_data_asc(os.path.join(workspace, \"pPERVRas.asc\"))\n",
    "\n",
    "# clean up workspace\n",
    "arcpy.Delete_management(os.path.join(workspace, 'LU_shp_projected.shp'))\n",
    "arcpy.Delete_management(os.path.join(workspace, 'LU_shp_bound.shp'))\n",
    "arcpy.Delete_management(os.path.join(workspace, 'LU_shp_ready.shp'))\n",
    "arcpy.Delete_management(os.path.join(workspace, 'LU_raster'))\n",
    "arcpy.Delete_management(os.path.join(workspace, 'CanCovRas'))\n",
    "arcpy.Delete_management(os.path.join(workspace, 'pImpvRas'))\n",
    "arcpy.Delete_management(os.path.join(workspace, 'pPERVRas'))"
   ]
  },
  {
   "cell_type": "markdown",
   "metadata": {},
   "source": [
    "### Scen 3  Land use  Data processing"
   ]
  },
  {
   "cell_type": "code",
   "execution_count": 7,
   "metadata": {},
   "outputs": [
    {
     "data": {
      "text/plain": [
       "<Result 'true'>"
      ]
     },
     "execution_count": 7,
     "metadata": {},
     "output_type": "execute_result"
    }
   ],
   "source": [
    "workspace = os.path.join('..', 'input/Land_use_Soils_data_Scen3')\n",
    "if not os.path.exists(workspace):\n",
    "    os.makedirs(workspace)\n",
    "    \n",
    "########   Main change Parameter HERE   ############    \n",
    "LU_Scn_data_Path = os.path.join(\"..\", \"..\", \"Scripts_Scen3\", \"WorkSpaces\", \"Finished_LU_99.shp\")\n",
    "    \n",
    "\n",
    "# project file using the SCENARIO VERSION\n",
    "arcpy.Project_management(LU_Scn_data_Path, os.path.join(workspace, 'LU_shp_projected.shp'), sr_project)\n",
    "\n",
    "#  Merge in the grid bound into the shapefile to create accurate grid coverage \n",
    "arcpy.Erase_analysis(Grid_shp ,os.path.join(workspace, 'LU_shp_projected.shp'),  os.path.join(workspace, 'LU_shp_bound.shp'))\n",
    "arcpy.Merge_management([os.path.join(workspace, 'LU_shp_bound.shp'), os.path.join(workspace, 'LU_shp_projected.shp')], os.path.join(workspace, 'LU_shp_ready.shp'))\n",
    "\n",
    "# convert to raster.asc\n",
    "arcpy.PolygonToRaster_conversion(os.path.join(workspace, 'LU_shp_ready.shp'), \"LU2\", os.path.join(workspace, \"LU_raster\"), cell_assignment=\"MAXIMUM_AREA\",  cellsize=cel_size)\n",
    "arcpy.RasterToASCII_conversion(os.path.join(workspace, \"LU_raster\"), os.path.join(workspace, \"LU_grid.asc\"))\n",
    "# Check on existance of no data values\n",
    "Check_no_data_asc(os.path.join(workspace, \"LU_grid.asc\"))\n",
    "\n",
    "# canopy cover %ages with landuse map\n",
    "arcpy.PolygonToRaster_conversion(os.path.join(workspace, 'LU_shp_ready.shp'), \"fracCanCov\", os.path.join(workspace, \"CanCovRas\"), cell_assignment=\"MAXIMUM_AREA\",  cellsize=cel_size)\n",
    "arcpy.RasterToASCII_conversion(os.path.join(workspace, \"CanCovRas\"), os.path.join(workspace, \"CanCovRas.asc\"))\n",
    "# Check on existance of no data values\n",
    "Check_no_data_asc(os.path.join(workspace, \"CanCovRas.asc\"))\n",
    "\n",
    "# % impervious raster from landuse map\n",
    "arcpy.PolygonToRaster_conversion(os.path.join(workspace, 'LU_shp_ready.shp'), \"pct_Impv\", os.path.join(workspace, \"pImpvRas\"), cell_assignment=\"MAXIMUM_AREA\",  cellsize=cel_size )\n",
    "arcpy.RasterToASCII_conversion(os.path.join(workspace, \"pImpvRas\"), os.path.join(workspace, \"pImpvRas.asc\"))\n",
    "# Check on existance of no data values\n",
    "Check_no_data_asc(os.path.join(workspace, \"pImpvRas.asc\"))\n",
    "\n",
    "# % pervious raster from landuse map\n",
    "arcpy.PolygonToRaster_conversion(os.path.join(workspace, 'LU_shp_ready.shp'), \"pct_Perv\", os.path.join(workspace, \"pPERVRas\"), cell_assignment=\"MAXIMUM_COMBINED_AREA\",  cellsize=cel_size )\n",
    "arcpy.RasterToASCII_conversion(os.path.join(workspace, \"pPERVRas\"), os.path.join(workspace, \"pPERVRas.asc\"))\n",
    "# Check on existance of no data values\n",
    "Check_no_data_asc(os.path.join(workspace, \"pPERVRas.asc\"))\n",
    "\n",
    "# clean up workspace\n",
    "arcpy.Delete_management(os.path.join(workspace, 'LU_shp_projected.shp'))\n",
    "arcpy.Delete_management(os.path.join(workspace, 'LU_shp_bound.shp'))\n",
    "arcpy.Delete_management(os.path.join(workspace, 'LU_shp_ready.shp'))\n",
    "arcpy.Delete_management(os.path.join(workspace, 'LU_raster'))\n",
    "arcpy.Delete_management(os.path.join(workspace, 'CanCovRas'))\n",
    "arcpy.Delete_management(os.path.join(workspace, 'pImpvRas'))\n",
    "arcpy.Delete_management(os.path.join(workspace, 'pPERVRas'))"
   ]
  },
  {
   "cell_type": "markdown",
   "metadata": {},
   "source": [
    "### Rainfall station zones"
   ]
  },
  {
   "cell_type": "code",
   "execution_count": 8,
   "metadata": {},
   "outputs": [
    {
     "data": {
      "text/plain": [
       "<Result 'true'>"
      ]
     },
     "execution_count": 8,
     "metadata": {},
     "output_type": "execute_result"
    }
   ],
   "source": [
    "### Rasterize the rainfall station zones\n",
    "workspace = os.path.join('..', 'input/Rain_stations')\n",
    "if not os.path.exists(workspace):\n",
    "    os.makedirs(workspace)\n",
    "\n",
    "# project file \n",
    "arcpy.Project_management(os.path.join(GIS_FOLDER, 'Stations\\\\Thissen_poly_rain_clip_modified2.shp'), os.path.join(workspace, 'Thissen_poly_projected.shp'), sr_project)\n",
    "\n",
    "#  Merge in the grid bound into the shapefile to create accurate grid coverage \n",
    "arcpy.Erase_analysis(Grid_shp ,os.path.join(workspace, 'Thissen_poly_projected.shp'),  os.path.join(workspace, 'Thissen_poly_bound.shp'))\n",
    "arcpy.Merge_management([os.path.join(workspace, 'Thissen_poly_bound.shp'), os.path.join(workspace, 'Thissen_poly_projected.shp')], os.path.join(workspace, 'Thissen_poly_ready.shp'))\n",
    "\n",
    "# convert to raster.asc\n",
    "arcpy.PolygonToRaster_conversion(os.path.join(workspace, 'Thissen_poly_ready.shp'), \"Gage_ID\", os.path.join(workspace, \"TP_raster\"), cell_assignment=\"MAXIMUM_AREA\",  cellsize=cel_size)\n",
    "arcpy.RasterToASCII_conversion(os.path.join(workspace, \"TP_raster\"), os.path.join(workspace, \"TP_grid.asc\"))\n",
    "# Check on existance of no data values\n",
    "Check_no_data_asc(os.path.join(workspace, \"TP_grid.asc\"))\n",
    "\n",
    "# clean up workspace\n",
    "arcpy.Delete_management(os.path.join(workspace, 'Thissen_poly_projected.shp'))\n",
    "arcpy.Delete_management(os.path.join(workspace, 'Thissen_poly_bound.shp'))\n",
    "arcpy.Delete_management(os.path.join(workspace, 'Thissen_poly_ready.shp'))\n",
    "arcpy.Delete_management(os.path.join(workspace, 'TP_raster'))"
   ]
  },
  {
   "cell_type": "markdown",
   "metadata": {},
   "source": [
    "### ORIGINAL  water lines  and OSDS location infiltration"
   ]
  },
  {
   "cell_type": "code",
   "execution_count": 9,
   "metadata": {},
   "outputs": [],
   "source": [
    "### Rasterize the water lines to calculate direct infiltration from leaking lines\n",
    "workspace = os.path.join('..', 'input/Direct_infiltration')\n",
    "if not os.path.exists(workspace):\n",
    "    os.makedirs(workspace)\n",
    "    \n",
    "# Calculate in the amount of NRW water equally distributed over the area of the water lines \n",
    "# note total ASPA 5 year production average = 12,740,000 and the Non-Rev water ave = 7,940,000 Gal/day   (264.172 gal per m3 of water) \n",
    "# conversions 5 year production average in m3/day = 48226.1557 and the Non-Rev water ave = 30056.175522 m3/day    \n",
    "    \n",
    "# create appropriately sized buffers of 1/2 the cell size\n",
    "arcpy.Buffer_analysis(os.path.join(GIS_FOLDER, 'Direct_infiltration\\\\Transmission_water_mains.shp'), os.path.join(workspace, 'Water_lines_Buffer.shp'), \"{} meters\".format(cel_size/2), \"FULL\", \"ROUND\", \"ALL\")\n",
    "# calculate area of water line polygons in m2\n",
    "arcpy.AddField_management(os.path.join(workspace, 'Water_lines_Buffer.shp'), \"Infl_inch\", \"DOUBLE\")    # add Active cell unit field\n",
    "arcpy.AddGeometryAttributes_management(os.path.join(workspace, 'Water_lines_Buffer.shp'), \"AREA\")    # calculate the area of the buffer zone\n",
    "Area_list= [row[0] for row in arcpy.da.SearchCursor(os.path.join(workspace, 'Water_lines_Buffer.shp'), \"POLY_AREA\")]  # make a list of the area number\n",
    "arcpy.CalculateField_management(os.path.join(workspace, 'Water_lines_Buffer.shp'), \"Infl_inch\", \"!Id! + 30056.1755/Area_list[0]*39.3701\", \"PYTHON3\") # calculate the appropriate amount of infitration in inches to equal 7.94 MGD as spread over the whole water line influence area\n",
    "\n",
    "    \n",
    "# Project dataset into WGS84\n",
    "arcpy.Project_management(os.path.join(workspace, 'Water_lines_Buffer.shp'), os.path.join(workspace, 'Water_lines_Buffer_shp_projected.shp'), sr_project) \n",
    "arcpy.Erase_analysis(Grid_shp, os.path.join(workspace, 'Water_lines_Buffer_shp_projected.shp'),  os.path.join(workspace, 'Water_lines_Buffer_shp_bound.shp'))\n",
    "arcpy.Merge_management([os.path.join(workspace, 'Water_lines_Buffer_shp_bound.shp'), os.path.join(workspace, 'Water_lines_Buffer_shp_projected.shp')], os.path.join(workspace, 'Water_lines_Buffer_shp_ready.shp'))\n",
    "\n",
    "arcpy.PolygonToRaster_conversion(os.path.join(workspace, 'Water_lines_Buffer_shp_ready.shp'), \"Infl_inch\", os.path.join(workspace, \"A_WL_Rast\"), cell_assignment=\"MAXIMUM_AREA\",  cellsize=cel_size)\n",
    "arcpy.RasterToASCII_conversion(os.path.join(workspace, \"A_WL_Rast\"), os.path.join(workspace, \"A_WL_Rast.asc\"))\n",
    "\n",
    "# clean up workspace\n",
    "arcpy.Delete_management(os.path.join(workspace, 'Water_lines_Buffer.shp'))\n",
    "arcpy.Delete_management(os.path.join(workspace, 'Water_lines_Buffer_shp_projected.shp'))\n",
    "arcpy.Delete_management(os.path.join(workspace, 'Water_lines_Buffer_shp_bound.shp'))\n",
    "arcpy.Delete_management(os.path.join(workspace, 'Water_lines_Buffer_shp_ready.shp'))\n",
    "arcpy.Delete_management(os.path.join(workspace, 'A_WL_Rast'))\n",
    "\n",
    "\n",
    "\n",
    "### Rasterize OSDS location infiltration\n",
    "# FROM Shuler et al 2017   OSDS flow = 1.454203 m3/unit/Day\n",
    "    \n",
    "arcpy.env.extent = os.path.join('..', 'input/General/Grid_rast1')  # set processing extent to our desired model boundary\n",
    "    \n",
    "pdensOut = arcpy.sa.PointDensity(os.path.join(GIS_FOLDER, 'Direct_infiltration\\\\OSDS_units_pts.shp'),\"NONE\", cel_size, NbrCircle(1, \"CELL\"), \"SQUARE_METERS\" )\n",
    "pdensOut.save(os.path.join(workspace, 'temp_dens'))   # calculate the OSDS density per m2\n",
    "\n",
    "arcpy.Times_3d(os.path.join(workspace, 'temp_dens'), cel_size**2, os.path.join(workspace, 'OSDS_dens'))  # make the OSDS density in OSDS units, meaning number of units per cell\n",
    "\n",
    "infiltration_in_inches_per_day_per_OSDS = (1.454203/cel_size**2)*39.3701\n",
    "\n",
    "arcpy.Times_3d(os.path.join(workspace, 'OSDS_dens'), infiltration_in_inches_per_day_per_OSDS, os.path.join(workspace, 'OSDS_inlf_in'))  # calculate amount of water infiltrated in each cell in inches\n",
    "\n",
    "arcpy.RasterToASCII_conversion(os.path.join(workspace, 'OSDS_inlf_in'), os.path.join(workspace, \"OSDS_inlf_in.asc\"))\n",
    "\n",
    "arcpy.Delete_management(os.path.join(workspace, 'temp_dens'))   # clean up workspace\n",
    "arcpy.Delete_management(os.path.join(workspace, 'OSDS_inlf_in'))   # clean up workspace\n",
    "arcpy.Delete_management(os.path.join(workspace, 'OSDS_inlf_in'))   # clean up workspace\n",
    "arcpy.Delete_management(os.path.join(workspace, 'OSDS_dens'))   # clean up workspace\n",
    "\n",
    "#### add all the direct infiltration into one raster because apparently the control file wont take multiples???\n",
    "arcpy.Plus_3d(os.path.join(workspace,  \"A_WL_Rast.asc\"), os.path.join(workspace, \"OSDS_inlf_in.asc\"), os.path.join(workspace, \"WLOSDrast\"))\n",
    "arcpy.RasterToASCII_conversion(os.path.join(workspace, \"WLOSDrast\"), os.path.join(workspace, \"Total_inlf_in.asc\"))\n",
    "\n",
    "# Check on existance of no data values\n",
    "Check_no_data_asc(os.path.join(workspace, \"Total_inlf_in.asc\"))"
   ]
  },
  {
   "cell_type": "markdown",
   "metadata": {},
   "source": [
    "### Scen 1 water lines  and OSDS location infiltration"
   ]
  },
  {
   "cell_type": "code",
   "execution_count": 10,
   "metadata": {},
   "outputs": [],
   "source": [
    "workspace = os.path.join('..', 'input/Direct_infiltration_Scen_1')\n",
    "if not os.path.exists(workspace):\n",
    "    os.makedirs(workspace)\n",
    "\n",
    "########   Main change Parameter HERE   ############\n",
    "DIFF_from_scenario_amount = .96\n",
    "\n",
    "    \n",
    "# create appropriately sized buffers of 1/2 the cell size\n",
    "arcpy.Buffer_analysis(os.path.join(GIS_FOLDER, 'Direct_infiltration\\\\Transmission_water_mains.shp'), os.path.join(workspace, 'Water_lines_Buffer.shp'), \"{} meters\".format(cel_size/2), \"FULL\", \"ROUND\", \"ALL\")\n",
    "# calculate area of water line polygons in m2\n",
    "arcpy.AddField_management(os.path.join(workspace, 'Water_lines_Buffer.shp'), \"Infl_inch\", \"DOUBLE\")    # add Active cell unit field\n",
    "arcpy.AddGeometryAttributes_management(os.path.join(workspace, 'Water_lines_Buffer.shp'), \"AREA\")    # calculate the area of the buffer zone\n",
    "Area_list= [row[0] for row in arcpy.da.SearchCursor(os.path.join(workspace, 'Water_lines_Buffer.shp'), \"POLY_AREA\")]  # make a list of the area number\n",
    "arcpy.CalculateField_management(os.path.join(workspace, 'Water_lines_Buffer.shp'), \"Infl_inch\", \"!Id! + 30056.1755/Area_list[0]*39.3701\", \"PYTHON3\") # calculate the appropriate amount of infitration in inches to equal 7.94 MGD as spread over the whole water line influence area\n",
    "    \n",
    "# Project dataset into WGS84\n",
    "arcpy.Project_management(os.path.join(workspace, 'Water_lines_Buffer.shp'), os.path.join(workspace, 'Water_lines_Buffer_shp_projected.shp'), sr_project) \n",
    "arcpy.Erase_analysis(Grid_shp, os.path.join(workspace, 'Water_lines_Buffer_shp_projected.shp'),  os.path.join(workspace, 'Water_lines_Buffer_shp_bound.shp'))\n",
    "arcpy.Merge_management([os.path.join(workspace, 'Water_lines_Buffer_shp_bound.shp'), os.path.join(workspace, 'Water_lines_Buffer_shp_projected.shp')], os.path.join(workspace, 'Water_lines_Buffer_shp_ready.shp'))\n",
    "\n",
    "arcpy.PolygonToRaster_conversion(os.path.join(workspace, 'Water_lines_Buffer_shp_ready.shp'), \"Infl_inch\", os.path.join(workspace, \"A_WL_Rast\"), cell_assignment=\"MAXIMUM_AREA\",  cellsize=cel_size)\n",
    "arcpy.RasterToASCII_conversion(os.path.join(workspace, \"A_WL_Rast\"), os.path.join(workspace, \"A_WL_Rast.asc\"))\n",
    "\n",
    "# clean up workspace\n",
    "arcpy.Delete_management(os.path.join(workspace, 'Water_lines_Buffer.shp'))\n",
    "arcpy.Delete_management(os.path.join(workspace, 'Water_lines_Buffer_shp_projected.shp'))\n",
    "arcpy.Delete_management(os.path.join(workspace, 'Water_lines_Buffer_shp_bound.shp'))\n",
    "arcpy.Delete_management(os.path.join(workspace, 'Water_lines_Buffer_shp_ready.shp'))\n",
    "arcpy.Delete_management(os.path.join(workspace, 'A_WL_Rast'))\n",
    "\n",
    "\n",
    "\n",
    "### Rasterize OSDS location infiltration\n",
    "# FROM Shuler et al 2017   OSDS flow = 1.454203 m3/unit/Day\n",
    "\n",
    "    \n",
    "arcpy.env.extent = os.path.join('..', 'input/General/Grid_rast1')  # set processing extent to our desired model boundary\n",
    "    \n",
    "pdensOut = arcpy.sa.PointDensity(os.path.join(GIS_FOLDER, 'Direct_infiltration\\\\OSDS_units_pts.shp'),\"NONE\", cel_size, NbrCircle(1, \"CELL\"), \"SQUARE_METERS\" )\n",
    "pdensOut.save(os.path.join(workspace, 'temp_dens'))   # calculate the OSDS density per m2\n",
    "\n",
    "arcpy.Times_3d(os.path.join(workspace, 'temp_dens'), cel_size**2, os.path.join(workspace, 'OSDS_dens'))  # make the OSDS density in OSDS units, meaning number of units per cell\n",
    "\n",
    "infiltration_in_inches_per_day_per_OSDS = ((1.454203/cel_size**2)*39.3701)  +  (((1.454203/cel_size**2)*39.3701)*DIFF_from_scenario_amount)\n",
    "\n",
    "arcpy.Times_3d(os.path.join(workspace, 'OSDS_dens'), infiltration_in_inches_per_day_per_OSDS, os.path.join(workspace, 'OSDS_inlf_in'))  # calculate amount of water infiltrated in each cell in inches\n",
    "\n",
    "arcpy.RasterToASCII_conversion(os.path.join(workspace, 'OSDS_inlf_in'), os.path.join(workspace, \"OSDS_inlf_in.asc\"))\n",
    "\n",
    "arcpy.Delete_management(os.path.join(workspace, 'temp_dens'))   # clean up workspace\n",
    "arcpy.Delete_management(os.path.join(workspace, 'OSDS_inlf_in'))   # clean up workspace\n",
    "arcpy.Delete_management(os.path.join(workspace, 'OSDS_inlf_in'))   # clean up workspace\n",
    "arcpy.Delete_management(os.path.join(workspace, 'OSDS_dens'))   # clean up workspace\n",
    "\n",
    "#### add all the direct infiltration into one raster because apparently the control file wont take multiples???\n",
    "arcpy.Plus_3d(os.path.join(workspace,  \"A_WL_Rast.asc\"), os.path.join(workspace, \"OSDS_inlf_in.asc\"), os.path.join(workspace, \"WLOSDrast\"))\n",
    "arcpy.RasterToASCII_conversion(os.path.join(workspace, \"WLOSDrast\"), os.path.join(workspace, \"Total_inlf_in.asc\"))\n",
    "\n",
    "# Check on existance of no data values\n",
    "Check_no_data_asc(os.path.join(workspace, \"Total_inlf_in.asc\"))"
   ]
  },
  {
   "cell_type": "markdown",
   "metadata": {},
   "source": [
    "### Scen 2 water lines  and OSDS location infiltration"
   ]
  },
  {
   "cell_type": "code",
   "execution_count": 11,
   "metadata": {},
   "outputs": [],
   "source": [
    "workspace = os.path.join('..', 'input/Direct_infiltration_Scen_2')\n",
    "if not os.path.exists(workspace):\n",
    "    os.makedirs(workspace)\n",
    "    \n",
    "########   Main change Parameter HERE   ############\n",
    "DIFF_from_scenario_amount = -.33\n",
    "\n",
    "    \n",
    "# create appropriately sized buffers of 1/2 the cell size\n",
    "arcpy.Buffer_analysis(os.path.join(GIS_FOLDER, 'Direct_infiltration\\\\Transmission_water_mains.shp'), os.path.join(workspace, 'Water_lines_Buffer.shp'), \"{} meters\".format(cel_size/2), \"FULL\", \"ROUND\", \"ALL\")\n",
    "# calculate area of water line polygons in m2\n",
    "arcpy.AddField_management(os.path.join(workspace, 'Water_lines_Buffer.shp'), \"Infl_inch\", \"DOUBLE\")    # add Active cell unit field\n",
    "arcpy.AddGeometryAttributes_management(os.path.join(workspace, 'Water_lines_Buffer.shp'), \"AREA\")    # calculate the area of the buffer zone\n",
    "Area_list= [row[0] for row in arcpy.da.SearchCursor(os.path.join(workspace, 'Water_lines_Buffer.shp'), \"POLY_AREA\")]  # make a list of the area number\n",
    "arcpy.CalculateField_management(os.path.join(workspace, 'Water_lines_Buffer.shp'), \"Infl_inch\", \"!Id! + 30056.1755/Area_list[0]*39.3701\", \"PYTHON3\") # calculate the appropriate amount of infitration in inches to equal 7.94 MGD as spread over the whole water line influence area\n",
    "    \n",
    "# Project dataset into WGS84\n",
    "arcpy.Project_management(os.path.join(workspace, 'Water_lines_Buffer.shp'), os.path.join(workspace, 'Water_lines_Buffer_shp_projected.shp'), sr_project) \n",
    "arcpy.Erase_analysis(Grid_shp, os.path.join(workspace, 'Water_lines_Buffer_shp_projected.shp'),  os.path.join(workspace, 'Water_lines_Buffer_shp_bound.shp'))\n",
    "arcpy.Merge_management([os.path.join(workspace, 'Water_lines_Buffer_shp_bound.shp'), os.path.join(workspace, 'Water_lines_Buffer_shp_projected.shp')], os.path.join(workspace, 'Water_lines_Buffer_shp_ready.shp'))\n",
    "\n",
    "arcpy.PolygonToRaster_conversion(os.path.join(workspace, 'Water_lines_Buffer_shp_ready.shp'), \"Infl_inch\", os.path.join(workspace, \"A_WL_Rast\"), cell_assignment=\"MAXIMUM_AREA\",  cellsize=cel_size)\n",
    "arcpy.RasterToASCII_conversion(os.path.join(workspace, \"A_WL_Rast\"), os.path.join(workspace, \"A_WL_Rast.asc\"))\n",
    "\n",
    "# clean up workspace\n",
    "arcpy.Delete_management(os.path.join(workspace, 'Water_lines_Buffer.shp'))\n",
    "arcpy.Delete_management(os.path.join(workspace, 'Water_lines_Buffer_shp_projected.shp'))\n",
    "arcpy.Delete_management(os.path.join(workspace, 'Water_lines_Buffer_shp_bound.shp'))\n",
    "arcpy.Delete_management(os.path.join(workspace, 'Water_lines_Buffer_shp_ready.shp'))\n",
    "arcpy.Delete_management(os.path.join(workspace, 'A_WL_Rast'))\n",
    "\n",
    "\n",
    "\n",
    "### Rasterize OSDS location infiltration\n",
    "# FROM Shuler et al 2017   OSDS flow = 1.454203 m3/unit/Day\n",
    "    \n",
    "arcpy.env.extent = os.path.join('..', 'input/General/Grid_rast1')  # set processing extent to our desired model boundary\n",
    "    \n",
    "pdensOut = arcpy.sa.PointDensity(os.path.join(GIS_FOLDER, 'Direct_infiltration\\\\OSDS_units_pts.shp'),\"NONE\", cel_size, NbrCircle(1, \"CELL\"), \"SQUARE_METERS\" )\n",
    "pdensOut.save(os.path.join(workspace, 'temp_dens'))   # calculate the OSDS density per m2\n",
    "\n",
    "arcpy.Times_3d(os.path.join(workspace, 'temp_dens'), cel_size**2, os.path.join(workspace, 'OSDS_dens'))  # make the OSDS density in OSDS units, meaning number of units per cell\n",
    "\n",
    "infiltration_in_inches_per_day_per_OSDS = ((1.454203/cel_size**2)*39.3701)  +  (((1.454203/cel_size**2)*39.3701)*DIFF_from_scenario_amount)\n",
    "\n",
    "arcpy.Times_3d(os.path.join(workspace, 'OSDS_dens'), infiltration_in_inches_per_day_per_OSDS, os.path.join(workspace, 'OSDS_inlf_in'))  # calculate amount of water infiltrated in each cell in inches\n",
    "\n",
    "arcpy.RasterToASCII_conversion(os.path.join(workspace, 'OSDS_inlf_in'), os.path.join(workspace, \"OSDS_inlf_in.asc\"))\n",
    "\n",
    "arcpy.Delete_management(os.path.join(workspace, 'temp_dens'))   # clean up workspace\n",
    "arcpy.Delete_management(os.path.join(workspace, 'OSDS_inlf_in'))   # clean up workspace\n",
    "arcpy.Delete_management(os.path.join(workspace, 'OSDS_inlf_in'))   # clean up workspace\n",
    "arcpy.Delete_management(os.path.join(workspace, 'OSDS_dens'))   # clean up workspace\n",
    "\n",
    "#### add all the direct infiltration into one raster because apparently the control file wont take multiples???\n",
    "arcpy.Plus_3d(os.path.join(workspace,  \"A_WL_Rast.asc\"), os.path.join(workspace, \"OSDS_inlf_in.asc\"), os.path.join(workspace, \"WLOSDrast\"))\n",
    "arcpy.RasterToASCII_conversion(os.path.join(workspace, \"WLOSDrast\"), os.path.join(workspace, \"Total_inlf_in.asc\"))\n",
    "\n",
    "# Check on existance of no data values\n",
    "Check_no_data_asc(os.path.join(workspace, \"Total_inlf_in.asc\"))"
   ]
  },
  {
   "cell_type": "markdown",
   "metadata": {},
   "source": [
    "### Scen 3 water lines  and OSDS location infiltration"
   ]
  },
  {
   "cell_type": "code",
   "execution_count": 12,
   "metadata": {},
   "outputs": [],
   "source": [
    "workspace = os.path.join('..', 'input/Direct_infiltration_Scen_3')\n",
    "if not os.path.exists(workspace):\n",
    "    os.makedirs(workspace)\n",
    "    \n",
    "########   Main change Parameter HERE   ############\n",
    "DIFF_from_scenario_amount = 0.64\n",
    "\n",
    "    \n",
    "# create appropriately sized buffers of 1/2 the cell size\n",
    "arcpy.Buffer_analysis(os.path.join(GIS_FOLDER, 'Direct_infiltration\\\\Transmission_water_mains.shp'), os.path.join(workspace, 'Water_lines_Buffer.shp'), \"{} meters\".format(cel_size/2), \"FULL\", \"ROUND\", \"ALL\")\n",
    "# calculate area of water line polygons in m2\n",
    "arcpy.AddField_management(os.path.join(workspace, 'Water_lines_Buffer.shp'), \"Infl_inch\", \"DOUBLE\")    # add Active cell unit field\n",
    "arcpy.AddGeometryAttributes_management(os.path.join(workspace, 'Water_lines_Buffer.shp'), \"AREA\")    # calculate the area of the buffer zone\n",
    "Area_list= [row[0] for row in arcpy.da.SearchCursor(os.path.join(workspace, 'Water_lines_Buffer.shp'), \"POLY_AREA\")]  # make a list of the area number\n",
    "arcpy.CalculateField_management(os.path.join(workspace, 'Water_lines_Buffer.shp'), \"Infl_inch\", \"!Id! + 30056.1755/Area_list[0]*39.3701\", \"PYTHON3\") # calculate the appropriate amount of infitration in inches to equal 7.94 MGD as spread over the whole water line influence area\n",
    "    \n",
    "# Project dataset into WGS84\n",
    "arcpy.Project_management(os.path.join(workspace, 'Water_lines_Buffer.shp'), os.path.join(workspace, 'Water_lines_Buffer_shp_projected.shp'), sr_project) \n",
    "arcpy.Erase_analysis(Grid_shp, os.path.join(workspace, 'Water_lines_Buffer_shp_projected.shp'),  os.path.join(workspace, 'Water_lines_Buffer_shp_bound.shp'))\n",
    "arcpy.Merge_management([os.path.join(workspace, 'Water_lines_Buffer_shp_bound.shp'), os.path.join(workspace, 'Water_lines_Buffer_shp_projected.shp')], os.path.join(workspace, 'Water_lines_Buffer_shp_ready.shp'))\n",
    "\n",
    "arcpy.PolygonToRaster_conversion(os.path.join(workspace, 'Water_lines_Buffer_shp_ready.shp'), \"Infl_inch\", os.path.join(workspace, \"A_WL_Rast\"), cell_assignment=\"MAXIMUM_AREA\",  cellsize=cel_size)\n",
    "arcpy.RasterToASCII_conversion(os.path.join(workspace, \"A_WL_Rast\"), os.path.join(workspace, \"A_WL_Rast.asc\"))\n",
    "\n",
    "# clean up workspace\n",
    "arcpy.Delete_management(os.path.join(workspace, 'Water_lines_Buffer.shp'))\n",
    "arcpy.Delete_management(os.path.join(workspace, 'Water_lines_Buffer_shp_projected.shp'))\n",
    "arcpy.Delete_management(os.path.join(workspace, 'Water_lines_Buffer_shp_bound.shp'))\n",
    "arcpy.Delete_management(os.path.join(workspace, 'Water_lines_Buffer_shp_ready.shp'))\n",
    "arcpy.Delete_management(os.path.join(workspace, 'A_WL_Rast'))\n",
    "\n",
    "\n",
    "\n",
    "### Rasterize OSDS location infiltration\n",
    "# FROM Shuler et al 2017   OSDS flow = 1.454203 m3/unit/Day\n",
    "    \n",
    "arcpy.env.extent = os.path.join('..', 'input/General/Grid_rast1')  # set processing extent to our desired model boundary\n",
    "    \n",
    "pdensOut = arcpy.sa.PointDensity(os.path.join(GIS_FOLDER, 'Direct_infiltration\\\\OSDS_units_pts.shp'),\"NONE\", cel_size, NbrCircle(1, \"CELL\"), \"SQUARE_METERS\" )\n",
    "pdensOut.save(os.path.join(workspace, 'temp_dens'))   # calculate the OSDS density per m2\n",
    "\n",
    "arcpy.Times_3d(os.path.join(workspace, 'temp_dens'), cel_size**2, os.path.join(workspace, 'OSDS_dens'))  # make the OSDS density in OSDS units, meaning number of units per cell\n",
    "\n",
    "infiltration_in_inches_per_day_per_OSDS = ((1.454203/cel_size**2)*39.3701)  +  (((1.454203/cel_size**2)*39.3701)*DIFF_from_scenario_amount)\n",
    "\n",
    "arcpy.Times_3d(os.path.join(workspace, 'OSDS_dens'), infiltration_in_inches_per_day_per_OSDS, os.path.join(workspace, 'OSDS_inlf_in'))  # calculate amount of water infiltrated in each cell in inches\n",
    "\n",
    "arcpy.RasterToASCII_conversion(os.path.join(workspace, 'OSDS_inlf_in'), os.path.join(workspace, \"OSDS_inlf_in.asc\"))\n",
    "\n",
    "arcpy.Delete_management(os.path.join(workspace, 'temp_dens'))   # clean up workspace\n",
    "arcpy.Delete_management(os.path.join(workspace, 'OSDS_inlf_in'))   # clean up workspace\n",
    "arcpy.Delete_management(os.path.join(workspace, 'OSDS_inlf_in'))   # clean up workspace\n",
    "arcpy.Delete_management(os.path.join(workspace, 'OSDS_dens'))   # clean up workspace\n",
    "\n",
    "#### add all the direct infiltration into one raster because apparently the control file wont take multiples???\n",
    "arcpy.Plus_3d(os.path.join(workspace,  \"A_WL_Rast.asc\"), os.path.join(workspace, \"OSDS_inlf_in.asc\"), os.path.join(workspace, \"WLOSDrast\"))\n",
    "arcpy.RasterToASCII_conversion(os.path.join(workspace, \"WLOSDrast\"), os.path.join(workspace, \"Total_inlf_in.asc\"))\n",
    "\n",
    "# Check on existance of no data values\n",
    "Check_no_data_asc(os.path.join(workspace, \"Total_inlf_in.asc\"))"
   ]
  },
  {
   "cell_type": "markdown",
   "metadata": {},
   "source": [
    "### Create Flow direction raster"
   ]
  },
  {
   "cell_type": "code",
   "execution_count": 13,
   "metadata": {},
   "outputs": [],
   "source": [
    "### Create Flow direction raster\n",
    "####resampling the 10 m DEM to whatever cell size we is using \n",
    "workspace = os.path.join('..', 'input/DEM_Process')\n",
    "if not os.path.exists(workspace):\n",
    "    os.makedirs(workspace)\n",
    "    \n",
    "# this resamples the 10 , dem to whatever cell size we are working in\n",
    "arcpy.ProjectRaster_management(os.path.join( GIS_FOLDER, 'DEM', '10M_DEM.tif'), os.path.join(workspace, 'DEM_projected.tif'), sr_project, cell_size = cel_size )\n",
    "arcpy.Clip_management(os.path.join(workspace, 'DEM_projected.tif'), \"515000 8429000 550000 8409000\", os.path.join(workspace, 'DEM_clip.tif'), Grid_shp, -9999, 'ClippingGeometry', 'MAINTAIN_EXTENT')\n",
    "arcpy.Plus_3d(os.path.join(workspace, 'DEM_clip.tif'), Grid_rast0,  os.path.join(workspace, 'DEM_ready.tif'))\n",
    "\n",
    "outFlowDirection = FlowDirection(os.path.join(workspace, 'DEM_ready.tif'), \"NORMAL\")\n",
    "outFlowDirection.save(os.path.join(workspace,'Flow_direction.tif'))\n",
    "arcpy.RasterToASCII_conversion(os.path.join(workspace,'Flow_direction.tif'), os.path.join(workspace,'Flow_direction.asc'))\n",
    "\n",
    "arcpy.Delete_management(os.path.join(workspace, 'DEM_projected.tif'))\n",
    "arcpy.Delete_management(os.path.join(workspace, 'DEM_clip.tif'))\n",
    "arcpy.Delete_management(os.path.join(workspace, 'DEM_ready.tif'))\n",
    "arcpy.Delete_management(os.path.join(workspace, 'Flow_direction.tif'))\n",
    "\n",
    "# Check on existance of no data values\n",
    "Check_no_data_asc(os.path.join(workspace, \"Flow_direction.asc\"))"
   ]
  },
  {
   "cell_type": "markdown",
   "metadata": {},
   "source": [
    "### ORIGINAL mean annual wet canopy evaporation layer"
   ]
  },
  {
   "cell_type": "code",
   "execution_count": 14,
   "metadata": {},
   "outputs": [
    {
     "data": {
      "text/plain": [
       "<Result 'true'>"
      ]
     },
     "execution_count": 14,
     "metadata": {},
     "output_type": "execute_result"
    }
   ],
   "source": [
    "### Create mean annual wet canopy evaporation layer from wind and rainfall data\n",
    "workspace = os.path.join('..', 'input/Evaporation')\n",
    "if not os.path.exists(workspace):\n",
    "    os.makedirs(workspace)\n",
    "    \n",
    "#files to use    \n",
    "anual_rain = os.path.join(GIS_FOLDER, 'Gridded_rain', \"year\", \"An_pcip_in.tif\")\n",
    "anual_wind =  os.path.join(GIS_FOLDER, 'Wind_map', 'wndsp_30m.tif')\n",
    "\n",
    "# divide them to get w\n",
    "outDivide = Divide(anual_wind, anual_rain)                     \n",
    "outDivide.save(os.path.join(workspace, \"w_WndOvrRain.tif\")) # create variable w = quotient of mean annual wind speed, in meters per second, and mean annual rainfall, in inches\n",
    "\n",
    "# now apply equation 18  V = 2.677 × (w) – 0.014, from \"Spatially Distributed Groundwater Recharge for 2010 Land Cover Estimated Using a Water-Budget Model for the Island of O’ahu, Hawai’i\"\n",
    "outTimes = Times(os.path.join(workspace, \"w_WndOvrRain.tif\"), 2.677)                     \n",
    "outTimes.save(os.path.join(workspace, \"w_Wndtmp.tif\")) # create variable w = quotient of mean annual wind speed, in meters per second, and mean annual rainfall, in inches\n",
    "arcpy.Plus_3d(os.path.join(workspace, \"w_Wndtmp.tif\"),  -0.014, os.path.join(workspace, \"V_evp2pcip.tif\"))\n",
    "\n",
    "# synchronize geometry with the model\n",
    "arcpy.ProjectRaster_management(os.path.join(workspace, \"V_evp2pcip.tif\"), os.path.join(workspace, 'V_evp_projected.tif'), sr_project, cell_size = cel_size )\n",
    "arcpy.Clip_management(os.path.join(workspace, 'V_evp_projected.tif'), \"515000 8429000 550000 8409000\", os.path.join(workspace, 'V_evp_clip.tif'), Grid_shp, -9999, 'ClippingGeometry', 'MAINTAIN_EXTENT')\n",
    "arcpy.Plus_3d(os.path.join(workspace, 'V_evp_clip.tif'), Grid_rast0,  os.path.join(workspace, 'V_evp_ready.tif'))\n",
    "# print .asc file\n",
    "arcpy.RasterToASCII_conversion(os.path.join(workspace,'V_evp_ready.tif'), os.path.join(workspace,'V_evp2pcp.asc'))   \n",
    "\n",
    "#clean\n",
    "arcpy.Delete_management(os.path.join(workspace, 'w_WndOvrRain.tif'))\n",
    "arcpy.Delete_management(os.path.join(workspace, 'w_Wndtmp.tif'))\n",
    "arcpy.Delete_management(os.path.join(workspace, 'V_evp2pcip.tif'))\n",
    "arcpy.Delete_management(os.path.join(workspace, 'V_evp_projected.tif'))\n",
    "arcpy.Delete_management(os.path.join(workspace, 'V_evp_clip.tif'))\n",
    "arcpy.Delete_management(os.path.join(workspace, 'V_evp_ready.tif'))\n"
   ]
  },
  {
   "cell_type": "markdown",
   "metadata": {},
   "source": [
    "### RCP_PRESENT mean annual wet canopy evaporation layer"
   ]
  },
  {
   "cell_type": "code",
   "execution_count": 15,
   "metadata": {},
   "outputs": [
    {
     "data": {
      "text/plain": [
       "<Result 'true'>"
      ]
     },
     "execution_count": 15,
     "metadata": {},
     "output_type": "execute_result"
    }
   ],
   "source": [
    "### Create mean annual wet canopy evaporation layer from wind and rainfall data\n",
    "workspace = os.path.join('..', 'input/Evaporation_RCP_Present')\n",
    "if not os.path.exists(workspace):\n",
    "    os.makedirs(workspace)\n",
    "    \n",
    "    \n",
    "########   Main change Parameter HERE   ############\n",
    "#files to use    \n",
    "anual_rain = os.path.join(GIS_FOLDER, 'Climate_scenarios', \"ProcessedData\", \"yearly_rainfall_present.asc\")\n",
    "anual_wind =  os.path.join(GIS_FOLDER, 'Wind_map', 'wndsp_30m.tif')\n",
    "\n",
    "# divide them to get w\n",
    "outDivide = Divide(anual_wind, anual_rain)                     \n",
    "outDivide.save(os.path.join(workspace, \"w_WndOvrRain.tif\")) # create variable w = quotient of mean annual wind speed, in meters per second, and mean annual rainfall, in inches\n",
    "\n",
    "# now apply equation 18  V = 2.677 × (w) – 0.014, from \"Spatially Distributed Groundwater Recharge for 2010 Land Cover Estimated Using a Water-Budget Model for the Island of O’ahu, Hawai’i\"\n",
    "outTimes = Times(os.path.join(workspace, \"w_WndOvrRain.tif\"), 2.677)                     \n",
    "outTimes.save(os.path.join(workspace, \"w_Wndtmp.tif\")) # create variable w = quotient of mean annual wind speed, in meters per second, and mean annual rainfall, in inches\n",
    "arcpy.Plus_3d(os.path.join(workspace, \"w_Wndtmp.tif\"),  -0.014, os.path.join(workspace, \"V_evp2pcip.tif\"))\n",
    "\n",
    "# synchronize geometry with the model\n",
    "arcpy.ProjectRaster_management(os.path.join(workspace, \"V_evp2pcip.tif\"), os.path.join(workspace, 'V_evp_projected.tif'), sr_project, cell_size = cel_size )\n",
    "arcpy.Clip_management(os.path.join(workspace, 'V_evp_projected.tif'), \"515000 8429000 550000 8409000\", os.path.join(workspace, 'V_evp_clip.tif'), Grid_shp, -9999, 'ClippingGeometry', 'MAINTAIN_EXTENT')\n",
    "arcpy.Plus_3d(os.path.join(workspace, 'V_evp_clip.tif'), Grid_rast0,  os.path.join(workspace, 'V_evp_ready.tif'))\n",
    "# print .asc file\n",
    "arcpy.RasterToASCII_conversion(os.path.join(workspace,'V_evp_ready.tif'), os.path.join(workspace,'V_evp2pcp.asc'))   \n",
    "\n",
    "#clean\n",
    "arcpy.Delete_management(os.path.join(workspace, 'w_WndOvrRain.tif'))\n",
    "arcpy.Delete_management(os.path.join(workspace, 'w_Wndtmp.tif'))\n",
    "arcpy.Delete_management(os.path.join(workspace, 'V_evp2pcip.tif'))\n",
    "arcpy.Delete_management(os.path.join(workspace, 'V_evp_projected.tif'))\n",
    "arcpy.Delete_management(os.path.join(workspace, 'V_evp_clip.tif'))\n",
    "arcpy.Delete_management(os.path.join(workspace, 'V_evp_ready.tif'))    "
   ]
  },
  {
   "cell_type": "markdown",
   "metadata": {},
   "source": [
    "### RCP4.5 mean annual wet canopy evaporation layer"
   ]
  },
  {
   "cell_type": "code",
   "execution_count": 16,
   "metadata": {},
   "outputs": [
    {
     "data": {
      "text/plain": [
       "<Result 'true'>"
      ]
     },
     "execution_count": 16,
     "metadata": {},
     "output_type": "execute_result"
    }
   ],
   "source": [
    "### Create mean annual wet canopy evaporation layer from wind and rainfall data\n",
    "workspace = os.path.join('..', 'input/Evaporation_RCP4p5')\n",
    "if not os.path.exists(workspace):\n",
    "    os.makedirs(workspace)\n",
    "    \n",
    "\n",
    " ########   Main change Parameter HERE   ############\n",
    "#files to use    \n",
    "anual_rain = os.path.join(GIS_FOLDER, 'Climate_scenarios', \"ProcessedData\", \"yearly_rainfall_rcp45.asc\")\n",
    "anual_wind =  os.path.join(GIS_FOLDER, 'Wind_map', 'wndsp_30m.tif')\n",
    "\n",
    "# divide them to get w\n",
    "outDivide = Divide(anual_wind, anual_rain)                     \n",
    "outDivide.save(os.path.join(workspace, \"w_WndOvrRain.tif\")) # create variable w = quotient of mean annual wind speed, in meters per second, and mean annual rainfall, in inches\n",
    "\n",
    "# now apply equation 18  V = 2.677 × (w) – 0.014, from \"Spatially Distributed Groundwater Recharge for 2010 Land Cover Estimated Using a Water-Budget Model for the Island of O’ahu, Hawai’i\"\n",
    "outTimes = Times(os.path.join(workspace, \"w_WndOvrRain.tif\"), 2.677)                     \n",
    "outTimes.save(os.path.join(workspace, \"w_Wndtmp.tif\")) # create variable w = quotient of mean annual wind speed, in meters per second, and mean annual rainfall, in inches\n",
    "arcpy.Plus_3d(os.path.join(workspace, \"w_Wndtmp.tif\"),  -0.014, os.path.join(workspace, \"V_evp2pcip.tif\"))\n",
    "\n",
    "# synchronize geometry with the model\n",
    "arcpy.ProjectRaster_management(os.path.join(workspace, \"V_evp2pcip.tif\"), os.path.join(workspace, 'V_evp_projected.tif'), sr_project, cell_size = cel_size )\n",
    "arcpy.Clip_management(os.path.join(workspace, 'V_evp_projected.tif'), \"515000 8429000 550000 8409000\", os.path.join(workspace, 'V_evp_clip.tif'), Grid_shp, -9999, 'ClippingGeometry', 'MAINTAIN_EXTENT')\n",
    "arcpy.Plus_3d(os.path.join(workspace, 'V_evp_clip.tif'), Grid_rast0,  os.path.join(workspace, 'V_evp_ready.tif'))\n",
    "# print .asc file\n",
    "arcpy.RasterToASCII_conversion(os.path.join(workspace,'V_evp_ready.tif'), os.path.join(workspace,'V_evp2pcp.asc'))   \n",
    "\n",
    "#clean\n",
    "arcpy.Delete_management(os.path.join(workspace, 'w_WndOvrRain.tif'))\n",
    "arcpy.Delete_management(os.path.join(workspace, 'w_Wndtmp.tif'))\n",
    "arcpy.Delete_management(os.path.join(workspace, 'V_evp2pcip.tif'))\n",
    "arcpy.Delete_management(os.path.join(workspace, 'V_evp_projected.tif'))\n",
    "arcpy.Delete_management(os.path.join(workspace, 'V_evp_clip.tif'))\n",
    "arcpy.Delete_management(os.path.join(workspace, 'V_evp_ready.tif'))     \n",
    "\n"
   ]
  },
  {
   "cell_type": "markdown",
   "metadata": {},
   "source": [
    "### RCP8.5 mean annual wet canopy evaporation layer"
   ]
  },
  {
   "cell_type": "code",
   "execution_count": 17,
   "metadata": {},
   "outputs": [
    {
     "data": {
      "text/plain": [
       "<Result 'true'>"
      ]
     },
     "execution_count": 17,
     "metadata": {},
     "output_type": "execute_result"
    }
   ],
   "source": [
    "### Create mean annual wet canopy evaporation layer from wind and rainfall data\n",
    "workspace = os.path.join('..', 'input/Evaporation_RCP8p5')\n",
    "if not os.path.exists(workspace):\n",
    "    os.makedirs(workspace)\n",
    "    \n",
    "\n",
    " ########   Main change Parameter HERE   ############\n",
    "#files to use    \n",
    "anual_rain = os.path.join(GIS_FOLDER, 'Climate_scenarios', \"ProcessedData\", \"yearly_rainfall_rcp85.asc\")\n",
    "anual_wind =  os.path.join(GIS_FOLDER, 'Wind_map', 'wndsp_30m.tif')\n",
    "\n",
    "# divide them to get w\n",
    "outDivide = Divide(anual_wind, anual_rain)                     \n",
    "outDivide.save(os.path.join(workspace, \"w_WndOvrRain.tif\")) # create variable w = quotient of mean annual wind speed, in meters per second, and mean annual rainfall, in inches\n",
    "\n",
    "# now apply equation 18  V = 2.677 × (w) – 0.014, from \"Spatially Distributed Groundwater Recharge for 2010 Land Cover Estimated Using a Water-Budget Model for the Island of O’ahu, Hawai’i\"\n",
    "outTimes = Times(os.path.join(workspace, \"w_WndOvrRain.tif\"), 2.677)                     \n",
    "outTimes.save(os.path.join(workspace, \"w_Wndtmp.tif\")) # create variable w = quotient of mean annual wind speed, in meters per second, and mean annual rainfall, in inches\n",
    "arcpy.Plus_3d(os.path.join(workspace, \"w_Wndtmp.tif\"),  -0.014, os.path.join(workspace, \"V_evp2pcip.tif\"))\n",
    "\n",
    "# synchronize geometry with the model\n",
    "arcpy.ProjectRaster_management(os.path.join(workspace, \"V_evp2pcip.tif\"), os.path.join(workspace, 'V_evp_projected.tif'), sr_project, cell_size = cel_size )\n",
    "arcpy.Clip_management(os.path.join(workspace, 'V_evp_projected.tif'), \"515000 8429000 550000 8409000\", os.path.join(workspace, 'V_evp_clip.tif'), Grid_shp, -9999, 'ClippingGeometry', 'MAINTAIN_EXTENT')\n",
    "arcpy.Plus_3d(os.path.join(workspace, 'V_evp_clip.tif'), Grid_rast0,  os.path.join(workspace, 'V_evp_ready.tif'))\n",
    "# print .asc file\n",
    "arcpy.RasterToASCII_conversion(os.path.join(workspace,'V_evp_ready.tif'), os.path.join(workspace,'V_evp2pcp.asc'))   \n",
    "\n",
    "#clean\n",
    "arcpy.Delete_management(os.path.join(workspace, 'w_WndOvrRain.tif'))\n",
    "arcpy.Delete_management(os.path.join(workspace, 'w_Wndtmp.tif'))\n",
    "arcpy.Delete_management(os.path.join(workspace, 'V_evp2pcip.tif'))\n",
    "arcpy.Delete_management(os.path.join(workspace, 'V_evp_projected.tif'))\n",
    "arcpy.Delete_management(os.path.join(workspace, 'V_evp_clip.tif'))\n",
    "arcpy.Delete_management(os.path.join(workspace, 'V_evp_ready.tif'))    "
   ]
  },
  {
   "cell_type": "markdown",
   "metadata": {},
   "source": [
    "### ORIGINAL rainfall grids"
   ]
  },
  {
   "cell_type": "code",
   "execution_count": 18,
   "metadata": {},
   "outputs": [
    {
     "data": {
      "text/plain": [
       "<Result 'true'>"
      ]
     },
     "execution_count": 18,
     "metadata": {},
     "output_type": "execute_result"
    }
   ],
   "source": [
    "### format raingall grids\n",
    "workspace = os.path.join('..', 'input/Gridded_rain')\n",
    "if not os.path.exists(workspace):\n",
    "    os.makedirs(workspace)\n",
    "\n",
    "mo_list = [\"01\", \"02\", \"03\",\"04\", \"05\", \"06\",\"07\", \"08\", \"09\",\"10\", \"11\", \"12\"]\n",
    "\n",
    "for i in mo_list:\n",
    "    inpt =  os.path.join(GIS_FOLDER, 'Gridded_rain', \"PRISM_ppt_tutuila_30yr_normal_80mM1_{}_asc.asc\".format(i))\n",
    "    outpy = os.path.join(workspace, 'PRISM_ppt_clip.tif')\n",
    "\n",
    "    arcpy.ProjectRaster_management(inpt, outpy, sr_project, \"BILINEAR\", cel_size, \"NAD_1983_To_WGS_1984_1\", \"#\", \"#\") \n",
    "    outpy2 = Times(outpy, 0.000393701)   # needed to convert 100* mm to inches\n",
    "    arcpy.Clip_management(outpy2, \"515000 8429000 550000 8409000\", os.path.join(workspace, 'file_clip.tif'), Grid_shp, -9999, 'ClippingGeometry', 'MAINTAIN_EXTENT')\n",
    "    arcpy.Plus_3d(os.path.join(workspace, 'file_clip.tif'), Grid_rast0,  os.path.join(workspace, 'file_plus.tif'))    \n",
    "    \n",
    "    arcpy.RasterToASCII_conversion(os.path.join(workspace, 'file_plus.tif'), os.path.join(workspace, 'PRISM_ppt_tutuila_30yr_normal_{}.asc'.format(i)))\n",
    "    \n",
    "\n",
    "    \n",
    "arcpy.Delete_management(os.path.join(workspace, 'PRISM_ppt_clip.tif'))\n",
    "arcpy.Delete_management(os.path.join(workspace, 'file_clip.tif'))\n",
    "arcpy.Delete_management(os.path.join(workspace, 'file_plus.tif'))"
   ]
  },
  {
   "cell_type": "markdown",
   "metadata": {},
   "source": [
    "### RCP_PRESENT raingall grids  "
   ]
  },
  {
   "cell_type": "code",
   "execution_count": 19,
   "metadata": {},
   "outputs": [
    {
     "data": {
      "text/plain": [
       "<Result 'true'>"
      ]
     },
     "execution_count": 19,
     "metadata": {},
     "output_type": "execute_result"
    }
   ],
   "source": [
    "### format raingall grids\n",
    "workspace = os.path.join('..', 'input/Gridded_rain_RCP_Present')\n",
    "if not os.path.exists(workspace):\n",
    "    os.makedirs(workspace)\n",
    "    \n",
    "    \n",
    "mo_list = [\"1\", \"2\", \"3\",\"4\", \"5\", \"6\",\"7\", \"8\", \"9\",\"10\", \"11\", \"12\"]\n",
    "\n",
    "########   Main change Parameter HERE   ############\n",
    "nam = \"present\"\n",
    "\n",
    "  \n",
    "for i in mo_list:\n",
    "    inpt =  os.path.join(GIS_FOLDER, 'Climate_scenarios', 'ProcessedData', \"month_{}_rainfall_{}.asc\".format(i, nam))\n",
    "    arcpy.DefineProjection_management(inpt, sr_project)\n",
    "    outpy = os.path.join(workspace, 'CChanged_ppt_clip.tif')\n",
    "\n",
    "    arcpy.ProjectRaster_management(inpt, outpy, sr_project, cell_size = cel_size) \n",
    "    arcpy.Clip_management(outpy, \"515000 8429000 550000 8409000\", os.path.join(workspace, 'file_clip.tif'), Grid_shp, -9999, 'ClippingGeometry', 'MAINTAIN_EXTENT')\n",
    "    arcpy.Plus_3d(os.path.join(workspace, 'file_clip.tif'), Grid_rast0,  os.path.join(workspace, 'file_plus.tif'))    \n",
    "\n",
    "    arcpy.RasterToASCII_conversion(os.path.join(workspace, 'file_plus.tif'), os.path.join(workspace, 'CChanged_ppt_{}_month_{}.asc'.format(nam, i)))\n",
    "    \n",
    "arcpy.Delete_management(os.path.join(workspace, 'CChanged_ppt_clip.tif'))\n",
    "arcpy.Delete_management(os.path.join(workspace, 'file_clip.tif'))\n",
    "arcpy.Delete_management(os.path.join(workspace, 'file_plus.tif'))"
   ]
  },
  {
   "cell_type": "markdown",
   "metadata": {},
   "source": [
    "### RCP4.5  raingall grids"
   ]
  },
  {
   "cell_type": "code",
   "execution_count": 20,
   "metadata": {},
   "outputs": [
    {
     "data": {
      "text/plain": [
       "<Result 'true'>"
      ]
     },
     "execution_count": 20,
     "metadata": {},
     "output_type": "execute_result"
    }
   ],
   "source": [
    "### format raingall grids\n",
    "workspace = os.path.join('..', 'input/Gridded_rain_RCP_RCP4p5')\n",
    "if not os.path.exists(workspace):\n",
    "    os.makedirs(workspace)\n",
    "       \n",
    "mo_list = [\"1\", \"2\", \"3\",\"4\", \"5\", \"6\",\"7\", \"8\", \"9\",\"10\", \"11\", \"12\"]\n",
    "\n",
    "########   Main change Parameter HERE   ############\n",
    "nam = \"rcp45\"\n",
    "\n",
    "  \n",
    "for i in mo_list:\n",
    "    inpt =  os.path.join(GIS_FOLDER, 'Climate_scenarios', 'ProcessedData', \"month_{}_rainfall_{}.asc\".format(i, nam))\n",
    "    arcpy.DefineProjection_management(inpt, sr_project)\n",
    "    outpy = os.path.join(workspace, 'CChanged_ppt_clip.tif')\n",
    "\n",
    "    arcpy.ProjectRaster_management(inpt, outpy, sr_project, cell_size = cel_size) \n",
    "    arcpy.Clip_management(outpy, \"515000 8429000 550000 8409000\", os.path.join(workspace, 'file_clip.tif'), Grid_shp, -9999, 'ClippingGeometry', 'MAINTAIN_EXTENT')\n",
    "    arcpy.Plus_3d(os.path.join(workspace, 'file_clip.tif'), Grid_rast0,  os.path.join(workspace, 'file_plus.tif'))    \n",
    "\n",
    "    arcpy.RasterToASCII_conversion(os.path.join(workspace, 'file_plus.tif'), os.path.join(workspace, 'CChanged_ppt_{}_month_{}.asc'.format(nam, i)))\n",
    "    \n",
    "arcpy.Delete_management(os.path.join(workspace, 'CChanged_ppt_clip.tif'))\n",
    "arcpy.Delete_management(os.path.join(workspace, 'file_clip.tif'))\n",
    "arcpy.Delete_management(os.path.join(workspace, 'file_plus.tif'))"
   ]
  },
  {
   "cell_type": "markdown",
   "metadata": {},
   "source": [
    "### RCP8.5 raingall grids"
   ]
  },
  {
   "cell_type": "code",
   "execution_count": 21,
   "metadata": {},
   "outputs": [
    {
     "data": {
      "text/plain": [
       "<Result 'true'>"
      ]
     },
     "execution_count": 21,
     "metadata": {},
     "output_type": "execute_result"
    }
   ],
   "source": [
    "### format raingall grids\n",
    "workspace = os.path.join('..', 'input/Gridded_rain_RCP_RCP8p5')\n",
    "if not os.path.exists(workspace):\n",
    "    os.makedirs(workspace)\n",
    "    \n",
    "\n",
    "mo_list = [\"1\", \"2\", \"3\",\"4\", \"5\", \"6\",\"7\", \"8\", \"9\",\"10\", \"11\", \"12\"]\n",
    "\n",
    "########   Main change Parameter HERE   ############\n",
    "nam = \"rcp85\"\n",
    "\n",
    "  \n",
    "for i in mo_list:\n",
    "    inpt =  os.path.join(GIS_FOLDER, 'Climate_scenarios', 'ProcessedData', \"month_{}_rainfall_{}.asc\".format(i, nam))\n",
    "    arcpy.DefineProjection_management(inpt, sr_project)\n",
    "    outpy = os.path.join(workspace, 'CChanged_ppt_clip.tif')\n",
    "\n",
    "    arcpy.ProjectRaster_management(inpt, outpy, sr_project, cell_size = cel_size) \n",
    "    arcpy.Clip_management(outpy, \"515000 8429000 550000 8409000\", os.path.join(workspace, 'file_clip.tif'), Grid_shp, -9999, 'ClippingGeometry', 'MAINTAIN_EXTENT')\n",
    "    arcpy.Plus_3d(os.path.join(workspace, 'file_clip.tif'), Grid_rast0,  os.path.join(workspace, 'file_plus.tif'))    \n",
    "\n",
    "    arcpy.RasterToASCII_conversion(os.path.join(workspace, 'file_plus.tif'), os.path.join(workspace, 'CChanged_ppt_{}_month_{}.asc'.format(nam, i)))\n",
    "    \n",
    "arcpy.Delete_management(os.path.join(workspace, 'CChanged_ppt_clip.tif'))\n",
    "arcpy.Delete_management(os.path.join(workspace, 'file_clip.tif'))\n",
    "arcpy.Delete_management(os.path.join(workspace, 'file_plus.tif'))"
   ]
  },
  {
   "cell_type": "markdown",
   "metadata": {},
   "source": [
    "### ORIGINAL Air Temp grids"
   ]
  },
  {
   "cell_type": "code",
   "execution_count": 22,
   "metadata": {},
   "outputs": [
    {
     "data": {
      "text/plain": [
       "<Result 'true'>"
      ]
     },
     "execution_count": 22,
     "metadata": {},
     "output_type": "execute_result"
    }
   ],
   "source": [
    "### format Air Temp grids\n",
    "workspace = os.path.join('..', 'input/Gridded_temps')\n",
    "if not os.path.exists(workspace):\n",
    "    os.makedirs(workspace)\n",
    "\n",
    "mo_list = [\"01\", \"02\", \"03\",\"04\", \"05\", \"06\",\"07\", \"08\", \"09\",\"10\", \"11\", \"12\"]\n",
    "\n",
    "#max temps\n",
    "for i in mo_list:\n",
    "    inpt =  os.path.join(GIS_FOLDER, 'Gridded_temps/Temp_max/Monthly', \"PRISM_tmax_tutuila_30yr_normal_80mM1_{}_asc.asc\".format(i))\n",
    "    outpy = os.path.join(workspace,'PRISM_clip.tif')\n",
    "\n",
    "    arcpy.ProjectRaster_management(inpt, outpy, sr_project, \"BILINEAR\", cel_size, \"NAD_1983_To_WGS_1984_1\", \"#\", \"#\") \n",
    "    outpy2 = Times(outpy, 0.01)   # needed to convert to deg celsius\n",
    "    arcpy.Clip_management(outpy2, \"515000 8429000 550000 8409000\", os.path.join(workspace, 'file_clip.tif'), Grid_shp, -9999, 'ClippingGeometry', 'MAINTAIN_EXTENT')\n",
    "    arcpy.Plus_3d(os.path.join(workspace, 'file_clip.tif'), Grid_rast0,  os.path.join(workspace, 'file_plus.tif'))    \n",
    "    \n",
    "    arcpy.RasterToASCII_conversion(os.path.join(workspace, 'file_plus.tif'), os.path.join(workspace, 'PRISM_tmax_tutuila_30yr_normal_{}.asc'.format(i)))\n",
    "    \n",
    "# min temps\n",
    "for i in mo_list:\n",
    "    inpt =  os.path.join(GIS_FOLDER, 'Gridded_temps/Temp_min/Monthly', \"PRISM_tmin_tutuila_30yr_normal_80mM1_{}_asc.asc\".format(i))\n",
    "    outpy = os.path.join(workspace, 'PRISM_clip.tif')\n",
    "\n",
    "    arcpy.ProjectRaster_management(inpt, outpy, sr_project, \"BILINEAR\", cel_size, \"NAD_1983_To_WGS_1984_1\", \"#\", \"#\") \n",
    "    outpy2 = Times(outpy, 0.01)   # needed to convert to deg celsius\n",
    "    arcpy.Clip_management(outpy2, \"515000 8429000 550000 8409000\", os.path.join(workspace,'file_clip.tif'), Grid_shp, -9999, 'ClippingGeometry', 'MAINTAIN_EXTENT')\n",
    "    arcpy.Plus_3d(os.path.join(workspace, 'file_clip.tif'), Grid_rast0,  os.path.join(workspace, 'file_plus.tif'))    \n",
    "    \n",
    "    arcpy.RasterToASCII_conversion(os.path.join(workspace, 'file_plus.tif'), os.path.join(workspace, 'PRISM_tmin_tutuila_30yr_normal_{}.asc'.format(i)))    \n",
    "    \n",
    "arcpy.Delete_management(os.path.join(workspace, 'PRISM_clip.tif'))\n",
    "arcpy.Delete_management(os.path.join(workspace, 'file_clip.tif'))\n",
    "arcpy.Delete_management(os.path.join(workspace, 'file_plus.tif'))"
   ]
  },
  {
   "cell_type": "markdown",
   "metadata": {},
   "source": [
    "### RCP_PRESENT Air Temp  grids     "
   ]
  },
  {
   "cell_type": "code",
   "execution_count": 23,
   "metadata": {},
   "outputs": [
    {
     "data": {
      "text/plain": [
       "<Result 'true'>"
      ]
     },
     "execution_count": 23,
     "metadata": {},
     "output_type": "execute_result"
    }
   ],
   "source": [
    "### format Air Temp grids\n",
    "workspace = os.path.join('..', 'input/Gridded_temps_RCP_Present')\n",
    "if not os.path.exists(workspace):\n",
    "    os.makedirs(workspace)\n",
    "    \n",
    "mo_list = [\"1\", \"2\", \"3\",\"4\", \"5\", \"6\",\"7\", \"8\", \"9\",\"10\", \"11\", \"12\"]\n",
    "# name_list = [\"present\", \"rcp45\", \"rcp85\"]\n",
    "\n",
    "########   Main change Parameter HERE   ############\n",
    "n = \"present\"\n",
    "\n",
    "\n",
    "# for n in name_list:\n",
    "#max temps\n",
    "for i in mo_list:\n",
    "    inpt =  os.path.join(GIS_FOLDER, 'Climate_scenarios', 'ProcessedData', \"month_{}_maxTemp_{}.asc\".format(i, n))\n",
    "    arcpy.DefineProjection_management(inpt, sr_project)\n",
    "    outpy = os.path.join(workspace,'PRISM_clip.tif')\n",
    "\n",
    "    arcpy.ProjectRaster_management(inpt, outpy, sr_project, cell_size = cel_size)\n",
    "    arcpy.Clip_management(outpy, \"515000 8429000 550000 8409000\", os.path.join(workspace, 'file_clip.tif'), Grid_shp, -9999, 'ClippingGeometry', 'MAINTAIN_EXTENT')\n",
    "    arcpy.Plus_3d(os.path.join(workspace, 'file_clip.tif'), Grid_rast0,  os.path.join(workspace, 'file_plus.tif'))    \n",
    "\n",
    "    arcpy.RasterToASCII_conversion(os.path.join(workspace, 'file_plus.tif'), os.path.join(workspace, 'CChanged_maxT_{}_month_{}.asc'.format(n, i)))\n",
    "\n",
    "# min temps\n",
    "for i in mo_list:\n",
    "    inpt =  os.path.join(GIS_FOLDER, 'Climate_scenarios', 'ProcessedData', \"month_{}_minTemp_{}.asc\".format(i, n))\n",
    "    arcpy.DefineProjection_management(inpt, sr_project)\n",
    "    outpy = os.path.join(workspace, 'PRISM_clip.tif')\n",
    "\n",
    "    arcpy.ProjectRaster_management(inpt, outpy, sr_project, cell_size = cel_size)\n",
    "    arcpy.Clip_management(outpy, \"515000 8429000 550000 8409000\", os.path.join(workspace,'file_clip.tif'), Grid_shp, -9999, 'ClippingGeometry', 'MAINTAIN_EXTENT')\n",
    "    arcpy.Plus_3d(os.path.join(workspace, 'file_clip.tif'), Grid_rast0,  os.path.join(workspace, 'file_plus.tif'))    \n",
    "\n",
    "    arcpy.RasterToASCII_conversion(os.path.join(workspace, 'file_plus.tif'), os.path.join(workspace, 'CChanged_minT_{}_month_{}.asc'.format(n, i)))    \n",
    "\n",
    "arcpy.Delete_management(os.path.join(workspace, 'PRISM_clip.tif'))\n",
    "arcpy.Delete_management(os.path.join(workspace, 'file_clip.tif'))\n",
    "arcpy.Delete_management(os.path.join(workspace, 'file_plus.tif'))"
   ]
  },
  {
   "cell_type": "markdown",
   "metadata": {},
   "source": [
    "### RCP4.5 Air Temp  grids "
   ]
  },
  {
   "cell_type": "code",
   "execution_count": 24,
   "metadata": {},
   "outputs": [
    {
     "data": {
      "text/plain": [
       "<Result 'true'>"
      ]
     },
     "execution_count": 24,
     "metadata": {},
     "output_type": "execute_result"
    }
   ],
   "source": [
    "### format Air Temp grids\n",
    "workspace = os.path.join('..', 'input/Gridded_temps_RCP_RCP4p5')\n",
    "if not os.path.exists(workspace):\n",
    "    os.makedirs(workspace)\n",
    "    \n",
    "\n",
    "mo_list = [\"1\", \"2\", \"3\",\"4\", \"5\", \"6\",\"7\", \"8\", \"9\",\"10\", \"11\", \"12\"]\n",
    "# name_list = [\"present\", \"rcp45\", \"rcp85\"]\n",
    "\n",
    "########   Main change Parameter HERE   ############\n",
    "n = \"rcp45\"\n",
    "\n",
    "\n",
    "# for n in name_list:\n",
    "#max temps\n",
    "for i in mo_list:\n",
    "    inpt =  os.path.join(GIS_FOLDER, 'Climate_scenarios', 'ProcessedData', \"month_{}_maxTemp_{}.asc\".format(i, n))\n",
    "    arcpy.DefineProjection_management(inpt, sr_project)\n",
    "    outpy = os.path.join(workspace,'PRISM_clip.tif')\n",
    "\n",
    "    arcpy.ProjectRaster_management(inpt, outpy, sr_project, cell_size = cel_size)\n",
    "    arcpy.Clip_management(outpy, \"515000 8429000 550000 8409000\", os.path.join(workspace, 'file_clip.tif'), Grid_shp, -9999, 'ClippingGeometry', 'MAINTAIN_EXTENT')\n",
    "    arcpy.Plus_3d(os.path.join(workspace, 'file_clip.tif'), Grid_rast0,  os.path.join(workspace, 'file_plus.tif'))    \n",
    "\n",
    "    arcpy.RasterToASCII_conversion(os.path.join(workspace, 'file_plus.tif'), os.path.join(workspace, 'CChanged_maxT_{}_month_{}.asc'.format(n, i)))\n",
    "\n",
    "# min temps\n",
    "for i in mo_list:\n",
    "    inpt =  os.path.join(GIS_FOLDER, 'Climate_scenarios', 'ProcessedData', \"month_{}_minTemp_{}.asc\".format(i, n))\n",
    "    arcpy.DefineProjection_management(inpt, sr_project)\n",
    "    outpy = os.path.join(workspace, 'PRISM_clip.tif')\n",
    "\n",
    "    arcpy.ProjectRaster_management(inpt, outpy, sr_project, cell_size = cel_size)\n",
    "    arcpy.Clip_management(outpy, \"515000 8429000 550000 8409000\", os.path.join(workspace,'file_clip.tif'), Grid_shp, -9999, 'ClippingGeometry', 'MAINTAIN_EXTENT')\n",
    "    arcpy.Plus_3d(os.path.join(workspace, 'file_clip.tif'), Grid_rast0,  os.path.join(workspace, 'file_plus.tif'))    \n",
    "\n",
    "    arcpy.RasterToASCII_conversion(os.path.join(workspace, 'file_plus.tif'), os.path.join(workspace, 'CChanged_minT_{}_month_{}.asc'.format(n, i)))    \n",
    "\n",
    "arcpy.Delete_management(os.path.join(workspace, 'PRISM_clip.tif'))\n",
    "arcpy.Delete_management(os.path.join(workspace, 'file_clip.tif'))\n",
    "arcpy.Delete_management(os.path.join(workspace, 'file_plus.tif'))\n"
   ]
  },
  {
   "cell_type": "markdown",
   "metadata": {},
   "source": [
    "### RCP8.5 Air Temp  grids "
   ]
  },
  {
   "cell_type": "code",
   "execution_count": 25,
   "metadata": {},
   "outputs": [
    {
     "data": {
      "text/plain": [
       "<Result 'true'>"
      ]
     },
     "execution_count": 25,
     "metadata": {},
     "output_type": "execute_result"
    }
   ],
   "source": [
    "### format Air Temp grids\n",
    "workspace = os.path.join('..', 'input/Gridded_temps_RCP_RCP8p5')\n",
    "if not os.path.exists(workspace):\n",
    "    os.makedirs(workspace)\n",
    "    \n",
    "\n",
    "mo_list = [\"1\", \"2\", \"3\",\"4\", \"5\", \"6\",\"7\", \"8\", \"9\",\"10\", \"11\", \"12\"]\n",
    "# name_list = [\"present\", \"rcp45\", \"rcp85\"]\n",
    "\n",
    "########   Main change Parameter HERE   ############\n",
    "n = \"rcp85\"\n",
    "\n",
    "\n",
    "# for n in name_list:\n",
    "#max temps\n",
    "for i in mo_list:\n",
    "    inpt =  os.path.join(GIS_FOLDER, 'Climate_scenarios', 'ProcessedData', \"month_{}_maxTemp_{}.asc\".format(i, n))\n",
    "    arcpy.DefineProjection_management(inpt, sr_project)\n",
    "    outpy = os.path.join(workspace,'PRISM_clip.tif')\n",
    "\n",
    "    arcpy.ProjectRaster_management(inpt, outpy, sr_project, cell_size = cel_size)\n",
    "    arcpy.Clip_management(outpy, \"515000 8429000 550000 8409000\", os.path.join(workspace, 'file_clip.tif'), Grid_shp, -9999, 'ClippingGeometry', 'MAINTAIN_EXTENT')\n",
    "    arcpy.Plus_3d(os.path.join(workspace, 'file_clip.tif'), Grid_rast0,  os.path.join(workspace, 'file_plus.tif'))    \n",
    "\n",
    "    arcpy.RasterToASCII_conversion(os.path.join(workspace, 'file_plus.tif'), os.path.join(workspace, 'CChanged_maxT_{}_month_{}.asc'.format(n, i)))\n",
    "\n",
    "# min temps\n",
    "for i in mo_list:\n",
    "    inpt =  os.path.join(GIS_FOLDER, 'Climate_scenarios', 'ProcessedData', \"month_{}_minTemp_{}.asc\".format(i, n))\n",
    "    arcpy.DefineProjection_management(inpt, sr_project)\n",
    "    outpy = os.path.join(workspace, 'PRISM_clip.tif')\n",
    "\n",
    "    arcpy.ProjectRaster_management(inpt, outpy, sr_project, cell_size = cel_size)\n",
    "    arcpy.Clip_management(outpy, \"515000 8429000 550000 8409000\", os.path.join(workspace,'file_clip.tif'), Grid_shp, -9999, 'ClippingGeometry', 'MAINTAIN_EXTENT')\n",
    "    arcpy.Plus_3d(os.path.join(workspace, 'file_clip.tif'), Grid_rast0,  os.path.join(workspace, 'file_plus.tif'))    \n",
    "\n",
    "    arcpy.RasterToASCII_conversion(os.path.join(workspace, 'file_plus.tif'), os.path.join(workspace, 'CChanged_minT_{}_month_{}.asc'.format(n, i)))    \n",
    "\n",
    "arcpy.Delete_management(os.path.join(workspace, 'PRISM_clip.tif'))\n",
    "arcpy.Delete_management(os.path.join(workspace, 'file_clip.tif'))\n",
    "arcpy.Delete_management(os.path.join(workspace, 'file_plus.tif')) "
   ]
  },
  {
   "cell_type": "markdown",
   "metadata": {},
   "source": [
    "### Create Monthly Evapotranspiration grids from the original Izuka 2005 paper maps"
   ]
  },
  {
   "cell_type": "code",
   "execution_count": 26,
   "metadata": {
    "collapsed": true
   },
   "outputs": [],
   "source": [
    "### Create Monthly Evapotranspiration grids from the original Izuka 2005 paper maps\n",
    "#Spline method \n",
    "workspace = os.path.join('..', 'input//ET_Process')\n",
    "if not os.path.exists(workspace):\n",
    "    os.makedirs(workspace)\n",
    "\n",
    "files = ['Jan_ET.shp', 'Feb_ET.shp', 'March_ET.shp', 'April_ET.shp', 'May_ET.shp', 'June_ET.shp', 'July_ET.shp', 'Aug_ET.shp', 'Sep_ET.shp', 'Oct_ET.shp', 'Nov-Dec_ET.shp', 'Nov-Dec_ET.shp']\n",
    "mos = [\"jan\", \"feb\", \"mar\", \"apr\", \"may\", \"jun\", \"jul\", \"aug\", \"sep\", \"oct\", \"nov\", \"dec\",]\n",
    "\n",
    "for idx, i in enumerate(files):\n",
    "    key_nam = mos[idx]\n",
    "    outSPL = Spline(os.path.join(GIS_FOLDER, 'ET', i), \"ET_inches\", cel_size, \"REGULARIZED\")   # spline the points\n",
    "    outSPL.save(os.path.join(workspace, 'ET.tif'))\n",
    "    \n",
    "    outExtractByMask = ExtractByMask(outSPL, os.path.join(GIS_FOLDER, 'Precip_bound_poly.shp'))                  # clip the raster\n",
    "    outExtractByMask.save(os.path.join(workspace, 'ET_clipped.tif'))\n",
    "    \n",
    "# already projected   arcpy.ProjectRaster_management(os.path.join(workspace, 'junk' 'ET_clipped.tif'), os.path.join(workspace, 'junk', 'ET_proj.tif'), sr_project, cell_size = cel_size)\n",
    "    arcpy.Clip_management(os.path.join(workspace, 'ET_clipped.tif'), \"515000 8429000 550000 8409000\", os.path.join(workspace, 'file_clip.tif'), Grid_shp, -9999, 'ClippingGeometry', 'MAINTAIN_EXTENT')   # make sure raster extent is good\n",
    "    arcpy.Plus_3d(os.path.join(workspace, 'file_clip.tif'), Grid_rast0,  os.path.join(workspace, 'file_plus.tif'))\n",
    "    \n",
    "    arcpy.RasterToASCII_conversion(os.path.join(workspace, 'file_plus.tif'), os.path.join(workspace, key_nam+'_ET_clipped.asc'))    \n",
    "\n",
    "    arcpy.Delete_management(os.path.join(workspace, 'ET.tif'))                                                     # delete extranious file\n",
    "    arcpy.Delete_management(os.path.join(workspace, 'ET_clipped.tif'))    \n",
    "    arcpy.Delete_management(os.path.join(workspace, 'file_clip.tif'))    \n",
    "    arcpy.Delete_management(os.path.join(workspace, 'file_plus.tif'))  "
   ]
  },
  {
   "cell_type": "markdown",
   "metadata": {},
   "source": [
    "### Silly rainfall adjustment grids,"
   ]
  },
  {
   "cell_type": "code",
   "execution_count": 27,
   "metadata": {
    "collapsed": true
   },
   "outputs": [],
   "source": [
    "### Silly rainfall adjustment grids,  not actual data, just a filler grid\n",
    "workspace = os.path.join('..', 'input//RF_adj_grids')\n",
    "if not os.path.exists(workspace):\n",
    "    os.makedirs(workspace)\n",
    "\n",
    "Field_to_rasterize = \"one\"\n",
    "\n",
    "mos = [\"jan\", \"feb\", \"mar\", \"apr\", \"may\", \"jun\", \"jul\", \"aug\", \"sep\", \"oct\", \"nov\", \"dec\",]\n",
    "\n",
    "for i in mos:\n",
    "    Gen_name = \"RFadj_{}\".format(i)\n",
    "\n",
    "    arcpy.PolygonToRaster_conversion(Grid_shp, Field_to_rasterize, os.path.join(workspace, '{}'.format(Gen_name)), cell_assignment=\"MAXIMUM_AREA\",  cellsize=cel_size)\n",
    "    arcpy.RasterToASCII_conversion( os.path.join(workspace, '{}'.format(Gen_name)), os.path.join(workspace, \"{}.asc\".format(Gen_name)))\n"
   ]
  },
  {
   "cell_type": "code",
   "execution_count": null,
   "metadata": {
    "collapsed": true
   },
   "outputs": [],
   "source": []
  }
 ],
 "metadata": {
  "kernelspec": {
   "display_name": "Python 3",
   "language": "python",
   "name": "python3"
  },
  "language_info": {
   "codemirror_mode": {
    "name": "ipython",
    "version": 3
   },
   "file_extension": ".py",
   "mimetype": "text/x-python",
   "name": "python",
   "nbconvert_exporter": "python",
   "pygments_lexer": "ipython3",
   "version": "3.6.2"
  }
 },
 "nbformat": 4,
 "nbformat_minor": 2
}
