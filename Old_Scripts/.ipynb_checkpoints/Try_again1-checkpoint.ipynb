{
 "cells": [
  {
   "cell_type": "code",
   "execution_count": 120,
   "metadata": {},
   "outputs": [
    {
     "data": {
      "text/html": [
       " <style>\n",
       "    div#notebook-container    { width: 95%; }\n",
       "    div#menubar-container     { width: 85%; }\n",
       "    div#maintoolbar-container { width: 99%; } </style> "
      ],
      "text/plain": [
       "<IPython.core.display.HTML object>"
      ]
     },
     "metadata": {},
     "output_type": "display_data"
    }
   ],
   "source": [
    "# make the screen bigger!\n",
    "from IPython.display import display, HTML\n",
    "display(HTML(data=\"\"\" <style>\n",
    "    div#notebook-container    { width: 95%; }\n",
    "    div#menubar-container     { width: 85%; }\n",
    "    div#maintoolbar-container { width: 99%; } </style> \"\"\"))\n",
    "\n",
    "\n",
    "import numpy as np\n",
    "import arcpy\n",
    "import os\n",
    "from arcpy.sa import *\n",
    "import pandas as pd\n",
    "#import gdal\n",
    "from arcpy import env\n",
    "\n",
    "\n",
    "arcpy.env.overwriteOutput = True # make sure overwrite files is on\n",
    "\n",
    "cel_size = 5     # in m   Note that a cell size any smaller than 5 is going to push the files over the 100 mb limit on Github\n",
    "# projection definition \n",
    "sr_project = arcpy.SpatialReference(32702)   # Project dataset into WGS84\n",
    "\n",
    "# LU Dictionary for later\n",
    "\n",
    "Lukeys = {400:'Cultivated_Land', \n",
    "500:'Agroforest', \n",
    "700:'Open_Space', \n",
    "800:'Developed_Woodlands', \n",
    "1000:'Buildings', \n",
    "1000:'Impervious_Surfaces', \n",
    "1200:'Mangroves', \n",
    "1300:'Exposed_Rock', \n",
    "1400:'Grassland', \n",
    "1500:'Upland_Scrub', \n",
    "1600:'Lowland_Rainforest', \n",
    "1700:'Successional_Scrub', \n",
    "2100:'Montane_Rainforest', \n",
    "-999:\"no Data\",0:\"no Data\"}"
   ]
  },
  {
   "cell_type": "code",
   "execution_count": null,
   "metadata": {},
   "outputs": [],
   "source": []
  },
  {
   "cell_type": "code",
   "execution_count": 97,
   "metadata": {
    "collapsed": true
   },
   "outputs": [],
   "source": [
    "GIS_FOLDER = os.path.join('..', 'Raw_GIS_Data')\n",
    "\n",
    "# path to the grid bound\n",
    "Grid_shp = os.path.join(GIS_FOLDER, 'grid_bound.shp')\n",
    "\n",
    "if not os.path.exists(os.path.join('.', 'output//')):\n",
    "    os.makedirs(os.path.join('.', 'output//'))\n",
    "                        \n",
    "if not os.path.exists(os.path.join('.', 'output//Figures//')):\n",
    "    os.makedirs(os.path.join('.', 'output//Figures//'))\n",
    "fig_path =  (os.path.join('.', 'output//Figures//'))\n",
    "\n",
    "if not os.path.exists(os.path.join('.', \"WorkSpaces\")):\n",
    "    os.makedirs(os.path.join('.', \"WorkSpaces\"))\n",
    "workspace =  os.path.join('.', \"WorkSpaces\")\n",
    "\n",
    "# define where the land is too steep to build\n",
    "steep_land = os.path.join(GIS_FOLDER, 'Slopes', 'steep_land_25deg.shp')"
   ]
  },
  {
   "cell_type": "code",
   "execution_count": null,
   "metadata": {
    "collapsed": true
   },
   "outputs": [],
   "source": [
    "\"\"\" This is the function that selects a land use, then bufferes it, then adds it back to the map. It will be repeated below for multiple nested land uses\n",
    "\n",
    "    maptoclip is the working version of the land use map, on iteration 1 its the original map, then its the ones that have the buffered areas added in incrementally\n",
    "    orig_map_to_buffer is the original unadulterated map\n",
    "    LU_type is the land use getting worked on each iteration\n",
    "    buffer_dist_m isthe distance of buffering to change, main parameter to modify\n",
    "\"\"\"\n",
    "\n",
    "def clip_da_use(maptoclip, orig_map_to_buffer, LU_type, buffer_dist_m, steep_land, iteration_num):\n",
    "    \n",
    "    tempselect = os.path.join(workspace, \"temp.shp\") \n",
    "    tempbuffer = os.path.join(workspace, \"temp_buffer.shp\")\n",
    "    buffer_clipped_slopes = os.path.join(workspace, \"temp_buffer_clipped.shp\")\n",
    "    clipped_Map = os.path.join(workspace, \"LU_shp_erased.shp\")\n",
    "    output = os.path.join(workspace, \"intermediate_LU_new_{}.shp\".format(iteration_num))\n",
    "    \n",
    "    # Buffer the features of interest\n",
    "    arcpy.Select_analysis(orig_map_to_buffer, tempselect, \"LBLCLASS = '{}'\".format(LU_type))     # select just the LU type desired save as tempselect.shp\n",
    "    arcpy.Buffer_analysis(tempselect, tempbuffer, buffer_dist_m, dissolve_option=\"NONE\")         # Make a tenporary buffer file of that land use bit \n",
    "    arcpy.RepairGeometry_management(tempbuffer)                                                  # fix broken things\n",
    "    \n",
    "    # erase out areas where there are large slopes\n",
    "    arcpy.Erase_analysis(tempbuffer, steep_land,  buffer_clipped_slopes)              \n",
    "    \n",
    "    # erase out the new cultivated land zones\n",
    "    arcpy.Erase_analysis(maptoclip, buffer_clipped_slopes, clipped_Map)    \n",
    "    \n",
    "    # add the new land use type back to the big LU map \n",
    "    arcpy.Merge_management([buffer_clipped_slopes, clipped_Map], output)"
   ]
  },
  {
   "cell_type": "code",
   "execution_count": 98,
   "metadata": {
    "collapsed": true
   },
   "outputs": [],
   "source": [
    "# hyperparameters\n",
    "Agroforest_buffer = 5\n",
    "Cultivated_Land_buffer = 4\n",
    "Developed_Woodlands_buffer = 3\n",
    "Open_Space_buffer = 1\n",
    "Impervious_Surfaces_buffer = 0.5 \n",
    "Buildings_buffer = 0.5\n",
    "\n",
    "LU_list =         ['Agroforest',      'Cultivated_Land',     'Developed_Woodlands',      'Open_Space',      'Impervious_Surfaces',      'Buildings']\n",
    "bufferdist_list = [Agroforest_buffer, Cultivated_Land_buffer, Developed_Woodlands_buffer, Open_Space_buffer, Impervious_Surfaces_buffer, Buildings_buffer]"
   ]
  },
  {
   "cell_type": "code",
   "execution_count": 101,
   "metadata": {},
   "outputs": [],
   "source": [
    "# Buffer each land use to expand it respective to the hyperparameters in the cells above\n",
    "\n",
    "for shed in range(0,33):                          # for each of the watershed clips\n",
    "    print(\"Working on shed No. {}..................................................\".format(shed))\n",
    "    \n",
    "    # Reset the starting map to the new watershed \n",
    "    arcpy.CopyFeatures_management(os.path.join(GIS_FOLDER, \"Land_use\", \"Split_into_watersheds\", 'Shed_fragments', 'LU_simp3_clipped_{}.shp'.format(shed)), os.path.join('.', \"WorkSpaces\", \"intermediate_LU_new_0.shp\"))\n",
    "\n",
    "    Original_Map = os.path.join('.', \"WorkSpaces\", 'intermediate_LU_new_0.shp')    # this is just for shorter syntax on calling the original map\n",
    "\n",
    "    for iteration_num in range(1,7):        # for each of the land use classes we want to buffer on  (references the lists above)\n",
    "        maptoclip          = os.path.join('.', \"WorkSpaces\", \"intermediate_LU_new_{}.shp\".format(iteration_num-1))  # this is where you put in the map from the last iteration\n",
    "        orig_map_to_buffer = Original_Map\n",
    "        LU_type            = LU_list[iteration_num-1]\n",
    "        buffer_dist_m      = bufferdist_list[iteration_num-1]\n",
    "        print(\"now buffering {}\".format(LU_type))\n",
    "\n",
    "        clip_da_use(maptoclip, orig_map_to_buffer, LU_type, buffer_dist_m, steep_land, iteration_num)   # run the clip buffer erase merge function\n",
    "\n",
    "    # trim off any excess that has spilled out of the watershed\n",
    "    arcpy.Clip_analysis(os.path.join('.', \"WorkSpaces\", \"intermediate_LU_new_6.shp\"), Original_Map, os.path.join('.', \"WorkSpaces\", \"Finished_LU_{}.shp\".format(shed)))\n",
    "\n",
    "# Merge all the litte buffered watershed ones together\n",
    "# Create 99, the final merged set\n",
    "arcpy.CopyFeatures_management(os.path.join('.', \"WorkSpaces\", 'Finished_LU_0.shp'), os.path.join('.', \"WorkSpaces\", \"Finished_LU_99.shp\"))\n",
    "for p in range(1,33):\n",
    "    arcpy.Append_management(os.path.join('.', \"WorkSpaces\", 'Finished_LU_{}.shp'.format(p)), os.path.join('.', \"WorkSpaces\", \"Finished_LU_99.shp\"))  #agregate function"
   ]
  },
  {
   "cell_type": "code",
   "execution_count": 123,
   "metadata": {},
   "outputs": [
    {
     "name": "stdout",
     "output_type": "stream",
     "text": [
      "LU type_-999, no Data, is 0.00% different\n",
      "LU type_0, no Data, is 0.14% different\n",
      "LU type_400, Cultivated_Land, is 23.39% different\n",
      "LU type_500, Agroforest, is -20.08% different\n",
      "LU type_700, Open_Space, is 7.72% different\n",
      "LU type_800, Developed_Woodlands, is -5.25% different\n",
      "LU type_1000, Impervious_Surfaces, is 9.85% different\n",
      "LU type_1200, Mangroves, is -11.31% different\n",
      "LU type_1300, Exposed_Rock, is -30.64% different\n",
      "LU type_1400, Grassland, is -16.22% different\n",
      "LU type_1500, Upland_Scrub, is -3.26% different\n",
      "LU type_1600, Lowland_Rainforest, is -1.20% different\n",
      "LU type_1700, Successional_Scrub, is -15.32% different\n",
      "LU type_2100, Montane_Rainforest, is -0.09% different\n"
     ]
    }
   ],
   "source": [
    "# Ultimately this should be run on the re-merged together shapefile of all watersheds\n",
    "\n",
    "# This converts the original and the new coverage to rasters to run the percentage calculation stats\n",
    "\n",
    "# just give a link to the shapefile of major watersheds\n",
    "Origlandusefile = os.path.join(GIS_FOLDER, 'Land_use', 'Split_into_watersheds', 'LU_Big_simp_3.shp')\n",
    "\n",
    "#  Merge in the grid boundary into the finished shapefile to create accurate grid coverage \n",
    "arcpy.Erase_analysis(Grid_shp, os.path.join('.', \"WorkSpaces\", \"Finished_LU_99.shp\"),  os.path.join('.', \"WorkSpaces\", 'LU_shp_bound.shp'))\n",
    "arcpy.Merge_management([os.path.join('.', \"WorkSpaces\", 'LU_shp_bound.shp'), os.path.join('.', \"WorkSpaces\", \"Finished_LU_99.shp\")], os.path.join('.', \"WorkSpaces\", 'LU_shp_ready.shp'))\n",
    "\n",
    "# convert to raster.asc\n",
    "arcpy.PolygonToRaster_conversion(os.path.join('.', \"WorkSpaces\", 'LU_shp_ready.shp'), \"LU2\", os.path.join('.', \"WorkSpaces\", \"LU_raster\"), cell_assignment=\"MAXIMUM_AREA\",  cellsize=cel_size)\n",
    "arcpy.RasterToASCII_conversion(os.path.join('.', \"WorkSpaces\", \"LU_raster\"), os.path.join('.', \"WorkSpaces\", \"new_LU_grid.asc\"))\n",
    "\n",
    "\n",
    "# this deos the same with the original one for comparison\n",
    "#  Merge in the grid bound into the shapefile to create accurate grid coverage \n",
    "arcpy.Erase_analysis(Grid_shp, Origlandusefile,  os.path.join('.', \"WorkSpaces\", 'LU_shp_bound.shp'))\n",
    "arcpy.Merge_management([os.path.join('.', \"WorkSpaces\", 'LU_shp_bound.shp'), Origlandusefile], os.path.join('.', \"WorkSpaces\", 'LU_shp_ready.shp'))\n",
    "\n",
    "# convert to raster.asc\n",
    "arcpy.PolygonToRaster_conversion(os.path.join('.', \"WorkSpaces\", 'LU_shp_ready.shp'), \"LU2\", os.path.join('.', \"WorkSpaces\", \"LU_raster\"), cell_assignment=\"MAXIMUM_AREA\",  cellsize=cel_size)\n",
    "arcpy.RasterToASCII_conversion(os.path.join('.', \"WorkSpaces\", \"LU_raster\"), os.path.join('.', \"WorkSpaces\", \"original_LU_grid.asc\"))\n",
    "\n",
    "\n",
    "arr = arcpy.RasterToNumPyArray(os.path.join('.', \"WorkSpaces\", \"original_LU_grid.asc\"),  nodata_to_value=-999)\n",
    "unique, counts = np.unique(arr, return_counts=True)\n",
    "arr_stats_original = np.asarray((unique, counts)).T\n",
    "\n",
    "arr = arcpy.RasterToNumPyArray(os.path.join('.', \"WorkSpaces\", \"new_LU_grid.asc\"),  nodata_to_value=-999)\n",
    "unique, counts = np.unique(arr, return_counts=True)\n",
    "arr_stats_new = np.asarray((unique, counts)).T\n",
    "\n",
    "for idx, val in enumerate(arr_stats_original):\n",
    "    oabs = arr_stats_original[idx][1]\n",
    "    nabs = arr_stats_new[idx][1]\n",
    "    \n",
    "    pctchange = ((nabs/oabs)-1)*100\n",
    "    print(\"LU type_{:.0f}, {}, is {:.2f}% different\".format(val[0], Lukeys[val[0]], pctchange))\n",
    "\n",
    "    \n",
    "# delete the Aggregated shapefile to push to GitHub (>100 mb) uncheck this to get the shapefile back\n",
    "arcpy.Delete_management(os.path.join('.', \"WorkSpaces\", \"Finished_LU_99.shp\"))"
   ]
  },
  {
   "cell_type": "code",
   "execution_count": 125,
   "metadata": {},
   "outputs": [
    {
     "data": {
      "text/plain": [
       "<Result 'true'>"
      ]
     },
     "execution_count": 125,
     "metadata": {},
     "output_type": "execute_result"
    }
   ],
   "source": []
  },
  {
   "cell_type": "code",
   "execution_count": null,
   "metadata": {},
   "outputs": [],
   "source": []
  },
  {
   "cell_type": "code",
   "execution_count": null,
   "metadata": {},
   "outputs": [],
   "source": []
  },
  {
   "cell_type": "code",
   "execution_count": null,
   "metadata": {
    "collapsed": true
   },
   "outputs": [],
   "source": []
  },
  {
   "cell_type": "code",
   "execution_count": null,
   "metadata": {
    "collapsed": true
   },
   "outputs": [],
   "source": []
  },
  {
   "cell_type": "code",
   "execution_count": null,
   "metadata": {
    "collapsed": true
   },
   "outputs": [],
   "source": []
  },
  {
   "cell_type": "code",
   "execution_count": null,
   "metadata": {
    "collapsed": true
   },
   "outputs": [],
   "source": []
  },
  {
   "cell_type": "code",
   "execution_count": null,
   "metadata": {
    "collapsed": true
   },
   "outputs": [],
   "source": []
  }
 ],
 "metadata": {
  "kernelspec": {
   "display_name": "Python 3",
   "language": "python",
   "name": "python3"
  },
  "language_info": {
   "codemirror_mode": {
    "name": "ipython",
    "version": 3
   },
   "file_extension": ".py",
   "mimetype": "text/x-python",
   "name": "python",
   "nbconvert_exporter": "python",
   "pygments_lexer": "ipython3",
   "version": "3.6.2"
  }
 },
 "nbformat": 4,
 "nbformat_minor": 2
}
