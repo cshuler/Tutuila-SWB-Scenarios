{
 "cells": [
  {
   "cell_type": "code",
   "execution_count": 0,
   "metadata": {
    "colab": {
     "base_uri": "https://localhost:8080/",
     "height": 442
    },
    "colab_type": "code",
    "executionInfo": {
     "elapsed": 7424,
     "status": "ok",
     "timestamp": 1581388408691,
     "user": {
      "displayName": "Christopher Shuler",
      "photoUrl": "https://lh3.googleusercontent.com/a-/AAuE7mAT-_NKEPa5dK31x7FRbJSGlRlppvUENdEGSaCh=s64",
      "userId": "17881453818629571547"
     },
     "user_tz": 600
    },
    "id": "GR4OY0T_ASYm",
    "outputId": "4d64d4f2-7521-4dd8-f200-c4b7b0be6288"
   },
   "outputs": [
    {
     "name": "stdout",
     "output_type": "stream",
     "text": [
      "Collecting geopandas\n",
      "\u001b[?25l  Downloading https://files.pythonhosted.org/packages/52/4f/6440a63c9367d981a91de458467eed4a8e259a26f24158071b610a1ed1dd/geopandas-0.6.3-py2.py3-none-any.whl (920kB)\n",
      "\r",
      "\u001b[K     |▍                               | 10kB 26.4MB/s eta 0:00:01\r",
      "\u001b[K     |▊                               | 20kB 2.2MB/s eta 0:00:01\r",
      "\u001b[K     |█                               | 30kB 2.8MB/s eta 0:00:01\r",
      "\u001b[K     |█▍                              | 40kB 2.1MB/s eta 0:00:01\r",
      "\u001b[K     |█▉                              | 51kB 2.4MB/s eta 0:00:01\r",
      "\u001b[K     |██▏                             | 61kB 2.8MB/s eta 0:00:01\r",
      "\u001b[K     |██▌                             | 71kB 3.0MB/s eta 0:00:01\r",
      "\u001b[K     |██▉                             | 81kB 3.2MB/s eta 0:00:01\r",
      "\u001b[K     |███▏                            | 92kB 3.6MB/s eta 0:00:01\r",
      "\u001b[K     |███▋                            | 102kB 3.3MB/s eta 0:00:01\r",
      "\u001b[K     |████                            | 112kB 3.3MB/s eta 0:00:01\r",
      "\u001b[K     |████▎                           | 122kB 3.3MB/s eta 0:00:01\r",
      "\u001b[K     |████▋                           | 133kB 3.3MB/s eta 0:00:01\r",
      "\u001b[K     |█████                           | 143kB 3.3MB/s eta 0:00:01\r",
      "\u001b[K     |█████▍                          | 153kB 3.3MB/s eta 0:00:01\r",
      "\u001b[K     |█████▊                          | 163kB 3.3MB/s eta 0:00:01\r",
      "\u001b[K     |██████                          | 174kB 3.3MB/s eta 0:00:01\r",
      "\u001b[K     |██████▍                         | 184kB 3.3MB/s eta 0:00:01\r",
      "\u001b[K     |██████▊                         | 194kB 3.3MB/s eta 0:00:01\r",
      "\u001b[K     |███████▏                        | 204kB 3.3MB/s eta 0:00:01\r",
      "\u001b[K     |███████▌                        | 215kB 3.3MB/s eta 0:00:01\r",
      "\u001b[K     |███████▉                        | 225kB 3.3MB/s eta 0:00:01\r",
      "\u001b[K     |████████▏                       | 235kB 3.3MB/s eta 0:00:01\r",
      "\u001b[K     |████████▌                       | 245kB 3.3MB/s eta 0:00:01\r",
      "\u001b[K     |█████████                       | 256kB 3.3MB/s eta 0:00:01\r",
      "\u001b[K     |█████████▎                      | 266kB 3.3MB/s eta 0:00:01\r",
      "\u001b[K     |█████████▋                      | 276kB 3.3MB/s eta 0:00:01\r",
      "\u001b[K     |██████████                      | 286kB 3.3MB/s eta 0:00:01\r",
      "\u001b[K     |██████████▎                     | 296kB 3.3MB/s eta 0:00:01\r",
      "\u001b[K     |██████████▊                     | 307kB 3.3MB/s eta 0:00:01\r",
      "\u001b[K     |███████████                     | 317kB 3.3MB/s eta 0:00:01\r",
      "\u001b[K     |███████████▍                    | 327kB 3.3MB/s eta 0:00:01\r",
      "\u001b[K     |███████████▊                    | 337kB 3.3MB/s eta 0:00:01\r",
      "\u001b[K     |████████████                    | 348kB 3.3MB/s eta 0:00:01\r",
      "\u001b[K     |████████████▌                   | 358kB 3.3MB/s eta 0:00:01\r",
      "\u001b[K     |████████████▉                   | 368kB 3.3MB/s eta 0:00:01\r",
      "\u001b[K     |█████████████▏                  | 378kB 3.3MB/s eta 0:00:01\r",
      "\u001b[K     |█████████████▌                  | 389kB 3.3MB/s eta 0:00:01\r",
      "\u001b[K     |█████████████▉                  | 399kB 3.3MB/s eta 0:00:01\r",
      "\u001b[K     |██████████████▎                 | 409kB 3.3MB/s eta 0:00:01\r",
      "\u001b[K     |██████████████▋                 | 419kB 3.3MB/s eta 0:00:01\r",
      "\u001b[K     |███████████████                 | 430kB 3.3MB/s eta 0:00:01\r",
      "\u001b[K     |███████████████▎                | 440kB 3.3MB/s eta 0:00:01\r",
      "\u001b[K     |███████████████▋                | 450kB 3.3MB/s eta 0:00:01\r",
      "\u001b[K     |████████████████                | 460kB 3.3MB/s eta 0:00:01\r",
      "\u001b[K     |████████████████▍               | 471kB 3.3MB/s eta 0:00:01\r",
      "\u001b[K     |████████████████▊               | 481kB 3.3MB/s eta 0:00:01\r",
      "\u001b[K     |█████████████████               | 491kB 3.3MB/s eta 0:00:01\r",
      "\u001b[K     |█████████████████▌              | 501kB 3.3MB/s eta 0:00:01\r",
      "\u001b[K     |█████████████████▉              | 512kB 3.3MB/s eta 0:00:01\r",
      "\u001b[K     |██████████████████▏             | 522kB 3.3MB/s eta 0:00:01\r",
      "\u001b[K     |██████████████████▌             | 532kB 3.3MB/s eta 0:00:01\r",
      "\u001b[K     |██████████████████▉             | 542kB 3.3MB/s eta 0:00:01\r",
      "\u001b[K     |███████████████████▎            | 552kB 3.3MB/s eta 0:00:01\r",
      "\u001b[K     |███████████████████▋            | 563kB 3.3MB/s eta 0:00:01\r",
      "\u001b[K     |████████████████████            | 573kB 3.3MB/s eta 0:00:01\r",
      "\u001b[K     |████████████████████▎           | 583kB 3.3MB/s eta 0:00:01\r",
      "\u001b[K     |████████████████████▋           | 593kB 3.3MB/s eta 0:00:01\r",
      "\u001b[K     |█████████████████████           | 604kB 3.3MB/s eta 0:00:01\r",
      "\u001b[K     |█████████████████████▍          | 614kB 3.3MB/s eta 0:00:01\r",
      "\u001b[K     |█████████████████████▊          | 624kB 3.3MB/s eta 0:00:01\r",
      "\u001b[K     |██████████████████████          | 634kB 3.3MB/s eta 0:00:01\r",
      "\u001b[K     |██████████████████████▍         | 645kB 3.3MB/s eta 0:00:01\r",
      "\u001b[K     |██████████████████████▉         | 655kB 3.3MB/s eta 0:00:01\r",
      "\u001b[K     |███████████████████████▏        | 665kB 3.3MB/s eta 0:00:01\r",
      "\u001b[K     |███████████████████████▌        | 675kB 3.3MB/s eta 0:00:01\r",
      "\u001b[K     |███████████████████████▉        | 686kB 3.3MB/s eta 0:00:01\r",
      "\u001b[K     |████████████████████████▏       | 696kB 3.3MB/s eta 0:00:01\r",
      "\u001b[K     |████████████████████████▋       | 706kB 3.3MB/s eta 0:00:01\r",
      "\u001b[K     |█████████████████████████       | 716kB 3.3MB/s eta 0:00:01\r",
      "\u001b[K     |█████████████████████████▎      | 727kB 3.3MB/s eta 0:00:01\r",
      "\u001b[K     |█████████████████████████▋      | 737kB 3.3MB/s eta 0:00:01\r",
      "\u001b[K     |██████████████████████████      | 747kB 3.3MB/s eta 0:00:01\r",
      "\u001b[K     |██████████████████████████▍     | 757kB 3.3MB/s eta 0:00:01\r",
      "\u001b[K     |██████████████████████████▊     | 768kB 3.3MB/s eta 0:00:01\r",
      "\u001b[K     |███████████████████████████     | 778kB 3.3MB/s eta 0:00:01\r",
      "\u001b[K     |███████████████████████████▍    | 788kB 3.3MB/s eta 0:00:01\r",
      "\u001b[K     |███████████████████████████▊    | 798kB 3.3MB/s eta 0:00:01\r",
      "\u001b[K     |████████████████████████████▏   | 808kB 3.3MB/s eta 0:00:01\r",
      "\u001b[K     |████████████████████████████▌   | 819kB 3.3MB/s eta 0:00:01\r",
      "\u001b[K     |████████████████████████████▉   | 829kB 3.3MB/s eta 0:00:01\r",
      "\u001b[K     |█████████████████████████████▏  | 839kB 3.3MB/s eta 0:00:01\r",
      "\u001b[K     |█████████████████████████████▌  | 849kB 3.3MB/s eta 0:00:01\r",
      "\u001b[K     |██████████████████████████████  | 860kB 3.3MB/s eta 0:00:01\r",
      "\u001b[K     |██████████████████████████████▎ | 870kB 3.3MB/s eta 0:00:01\r",
      "\u001b[K     |██████████████████████████████▋ | 880kB 3.3MB/s eta 0:00:01\r",
      "\u001b[K     |███████████████████████████████ | 890kB 3.3MB/s eta 0:00:01\r",
      "\u001b[K     |███████████████████████████████▎| 901kB 3.3MB/s eta 0:00:01\r",
      "\u001b[K     |███████████████████████████████▊| 911kB 3.3MB/s eta 0:00:01\r",
      "\u001b[K     |████████████████████████████████| 921kB 3.3MB/s \n",
      "\u001b[?25hRequirement already satisfied: pandas>=0.23.0 in /usr/local/lib/python3.6/dist-packages (from geopandas) (0.25.3)\n",
      "Collecting pyproj\n",
      "\u001b[?25l  Downloading https://files.pythonhosted.org/packages/d6/70/eedc98cd52b86de24a1589c762612a98bea26cde649ffdd60c1db396cce8/pyproj-2.4.2.post1-cp36-cp36m-manylinux2010_x86_64.whl (10.1MB)\n",
      "\u001b[K     |████████████████████████████████| 10.1MB 15.2MB/s \n",
      "\u001b[?25hCollecting fiona\n",
      "\u001b[?25l  Downloading https://files.pythonhosted.org/packages/50/f7/9899f8a9a2e38601472fe1079ce5088f58833221c8b8507d8b5eafd5404a/Fiona-1.8.13-cp36-cp36m-manylinux1_x86_64.whl (11.8MB)\n",
      "\u001b[K     |████████████████████████████████| 11.8MB 258kB/s \n",
      "\u001b[?25hRequirement already satisfied: shapely in /usr/local/lib/python3.6/dist-packages (from geopandas) (1.7.0)\n",
      "Requirement already satisfied: python-dateutil>=2.6.1 in /usr/local/lib/python3.6/dist-packages (from pandas>=0.23.0->geopandas) (2.6.1)\n",
      "Requirement already satisfied: pytz>=2017.2 in /usr/local/lib/python3.6/dist-packages (from pandas>=0.23.0->geopandas) (2018.9)\n",
      "Requirement already satisfied: numpy>=1.13.3 in /usr/local/lib/python3.6/dist-packages (from pandas>=0.23.0->geopandas) (1.17.5)\n",
      "Requirement already satisfied: six>=1.7 in /usr/local/lib/python3.6/dist-packages (from fiona->geopandas) (1.12.0)\n",
      "Collecting cligj>=0.5\n",
      "  Downloading https://files.pythonhosted.org/packages/e4/be/30a58b4b0733850280d01f8bd132591b4668ed5c7046761098d665ac2174/cligj-0.5.0-py3-none-any.whl\n",
      "Collecting click-plugins>=1.0\n",
      "  Downloading https://files.pythonhosted.org/packages/e9/da/824b92d9942f4e472702488857914bdd50f73021efea15b4cad9aca8ecef/click_plugins-1.1.1-py2.py3-none-any.whl\n",
      "Collecting munch\n",
      "  Downloading https://files.pythonhosted.org/packages/cc/ab/85d8da5c9a45e072301beb37ad7f833cd344e04c817d97e0cc75681d248f/munch-2.5.0-py2.py3-none-any.whl\n",
      "Requirement already satisfied: click<8,>=4.0 in /usr/local/lib/python3.6/dist-packages (from fiona->geopandas) (7.0)\n",
      "Requirement already satisfied: attrs>=17 in /usr/local/lib/python3.6/dist-packages (from fiona->geopandas) (19.3.0)\n",
      "Installing collected packages: pyproj, cligj, click-plugins, munch, fiona, geopandas\n",
      "Successfully installed click-plugins-1.1.1 cligj-0.5.0 fiona-1.8.13 geopandas-0.6.3 munch-2.5.0 pyproj-2.4.2.post1\n"
     ]
    }
   ],
   "source": [
    "# run to install needed modules\n",
    "!pip install geopandas"
   ]
  },
  {
   "cell_type": "code",
   "execution_count": 0,
   "metadata": {
    "colab": {},
    "colab_type": "code",
    "collapsed": true,
    "id": "KuzyTWpTAxCe"
   },
   "outputs": [],
   "source": [
    "# run to mount my google drive\n",
    "from google.colab import drive\n",
    "drive.mount('/gdrive')\n",
    "%cd /gdrive\n",
    "\n",
    "# note might need to change this if the folder gets moved\n",
    "import os\n",
    "os.chdir('My Drive/In-progress/PacRISA_landuse/Scripts')"
   ]
  },
  {
   "cell_type": "code",
   "execution_count": 0,
   "metadata": {
    "colab": {},
    "colab_type": "code",
    "collapsed": true,
    "id": "BsYGnvafAFoX"
   },
   "outputs": [],
   "source": [
    "# import modules\n",
    "import os\n",
    "import numpy as np\n",
    "import pandas as pd\n",
    "import gdal\n",
    "import ogr\n",
    "import geopandas as gpd\n",
    "import glob\n",
    "import shutil\n",
    "import fiona"
   ]
  },
  {
   "cell_type": "code",
   "execution_count": 0,
   "metadata": {
    "colab": {},
    "colab_type": "code",
    "collapsed": true,
    "id": "jNGvzQqxAFod"
   },
   "outputs": [],
   "source": [
    "def createBuffer(inputfn, outputBufferfn, bufferDist):\n",
    "    inputds = ogr.Open(inputfn)\n",
    "    inputlyr = inputds.GetLayer()\n",
    "\n",
    "    shpdriver = ogr.GetDriverByName('ESRI Shapefile')\n",
    "    if os.path.exists(outputBufferfn):\n",
    "        shpdriver.DeleteDataSource(outputBufferfn)\n",
    "    outputBufferds = shpdriver.CreateDataSource(outputBufferfn)\n",
    "    bufferlyr = outputBufferds.CreateLayer(outputBufferfn, geom_type=ogr.wkbPolygon)\n",
    "    featureDefn = bufferlyr.GetLayerDefn()\n",
    "\n",
    "    for feature in inputlyr:\n",
    "        ingeom = feature.GetGeometryRef()\n",
    "        geomBuffer = ingeom.Buffer(bufferDist)\n",
    "\n",
    "        outFeature = ogr.Feature(featureDefn)\n",
    "        outFeature.SetGeometry(geomBuffer)\n",
    "        bufferlyr.CreateFeature(outFeature)\n",
    "        outFeature = None"
   ]
  },
  {
   "cell_type": "code",
   "execution_count": 0,
   "metadata": {
    "colab": {},
    "colab_type": "code",
    "collapsed": true,
    "id": "bFZ5Fh4nAFoh"
   },
   "outputs": [],
   "source": [
    "# set/create GENeral workspace\n",
    "workspace = os.path.join('.', 'workspace')\n",
    "if not os.path.exists(workspace):\n",
    "    os.makedirs(workspace)\n",
    "\n",
    "# Paths to data\n",
    "GIS_FOLDER = os.path.join('..', 'Raw_GIS_Data')\n",
    "\n",
    "# path to the grid bound\n",
    "Grid_shp = os.path.join(GIS_FOLDER, 'grid_bound.shp')\n",
    "\n",
    "if not os.path.exists(os.path.join('.', 'output//')):\n",
    "    os.makedirs(os.path.join('.', 'output//'))\n",
    "                        \n",
    "if not os.path.exists(os.path.join('.', 'output//Figures//')):\n",
    "    os.makedirs(os.path.join('.', 'output//Figures//'))\n",
    "fig_path =  (os.path.join('.', 'output//Figures//'))\n",
    "\n",
    "# define where the land is too steep to build\n",
    "steep_land = os.path.join(GIS_FOLDER, 'Slopes', 'steep_land_25deg.shp')"
   ]
  },
  {
   "cell_type": "code",
   "execution_count": 0,
   "metadata": {
    "colab": {},
    "colab_type": "code",
    "collapsed": true,
    "id": "iKSIzekYAFoj"
   },
   "outputs": [],
   "source": [
    "# path to the raw land use data set\n",
    "LU_shp = os.path.join(GIS_FOLDER, 'Land_use', 'LU_BIG_simp3m.shp')"
   ]
  },
  {
   "cell_type": "code",
   "execution_count": 0,
   "metadata": {
    "colab": {
     "base_uri": "https://localhost:8080/",
     "height": 323
    },
    "colab_type": "code",
    "executionInfo": {
     "elapsed": 543091,
     "status": "ok",
     "timestamp": 1581389027384,
     "user": {
      "displayName": "Christopher Shuler",
      "photoUrl": "https://lh3.googleusercontent.com/a-/AAuE7mAT-_NKEPa5dK31x7FRbJSGlRlppvUENdEGSaCh=s64",
      "userId": "17881453818629571547"
     },
     "user_tz": 600
    },
    "id": "Svw029UhAFom",
    "outputId": "904528bd-fe01-488e-b6b7-e3b7dd935864",
    "scrolled": true
   },
   "outputs": [
    {
     "name": "stdout",
     "output_type": "stream",
     "text": [
      "buffering Agroforest\n",
      "CPU times: user 24.8 s, sys: 408 ms, total: 25.2 s\n",
      "Wall time: 25.4 s\n",
      "buffering Cultivated_Land\n",
      "CPU times: user 40.2 s, sys: 163 ms, total: 40.4 s\n",
      "Wall time: 40.6 s\n",
      "buffering Developed_Woodlands\n",
      "CPU times: user 1min 14s, sys: 456 ms, total: 1min 15s\n",
      "Wall time: 1min 15s\n",
      "buffering Open_Space\n",
      "CPU times: user 3min, sys: 485 ms, total: 3min 1s\n",
      "Wall time: 3min 1s\n",
      "buffering Impervious_Surfaces\n",
      "CPU times: user 1min 25s, sys: 96.8 ms, total: 1min 25s\n",
      "Wall time: 1min 25s\n",
      "buffering Buildings\n",
      "CPU times: user 1min 11s, sys: 84.8 ms, total: 1min 11s\n",
      "Wall time: 1min 11s\n"
     ]
    }
   ],
   "source": [
    "# Original\n",
    "\n",
    "type_list =     ['Agroforest', 'Cultivated_Land', 'Developed_Woodlands', 'Open_Space', 'Impervious_Surfaces', 'Buildings']\n",
    "Buf_dist_list = [5,             4,                 3,                     1,            0.2,                   0.5]\n",
    "\n",
    "# use geopandas to select each landuse independently\n",
    "dataSrc = gpd.read_file(LU_shp)\n",
    "\n",
    "for idx, lutype in enumerate(type_list):\n",
    "    dataSrc_select = dataSrc[dataSrc['LBLCLASS'] == lutype]\n",
    "    dataSrc_select.to_file(os.path.join(workspace, 'tempselect.shp'))\n",
    "\n",
    "    # use OGR to create the buffer file \n",
    "    print(\"buffering {}\".format(lutype))\n",
    "    %time  createBuffer(os.path.join(workspace, 'tempselect.shp'), os.path.join(workspace, 'Buffer_{}.shp'.format(lutype)), Buf_dist_list[idx])\n",
    "    \n",
    "\n"
   ]
  },
  {
   "cell_type": "code",
   "execution_count": 0,
   "metadata": {
    "colab": {},
    "colab_type": "code",
    "id": "A47W9dfYAFop",
    "outputId": "4e7fb399-5a71-451d-b616-084aaef0ddbd"
   },
   "outputs": [
    {
     "name": "stdout",
     "output_type": "stream",
     "text": [
      "buffering Agroforest\n",
      "Wall time: 24.9 ms\n",
      "erasing Agroforest\n",
      "Wall time: 374 ms\n",
      "unioning back in on copymaster 1\n",
      "Wall time: 701 ms\n",
      "buffering Cultivated_Land\n",
      "Wall time: 21.9 ms\n",
      "erasing Cultivated_Land\n",
      "Wall time: 393 ms\n",
      "unioning back in on copymaster 1\n",
      "Wall time: 672 ms\n",
      "buffering Developed_Woodlands\n",
      "Wall time: 62.5 ms\n",
      "erasing Developed_Woodlands\n",
      "Wall time: 393 ms\n",
      "unioning back in on copymaster 1\n",
      "Wall time: 672 ms\n",
      "buffering Open_Space\n",
      "Wall time: 126 ms\n",
      "erasing Open_Space\n",
      "Wall time: 382 ms\n",
      "unioning back in on copymaster 1\n",
      "Wall time: 672 ms\n",
      "buffering Impervious_Surfaces\n",
      "Wall time: 110 ms\n",
      "erasing Impervious_Surfaces\n",
      "Wall time: 378 ms\n",
      "unioning back in on copymaster 1\n",
      "Wall time: 686 ms\n",
      "buffering Buildings\n",
      "Wall time: 156 ms\n",
      "erasing Buildings\n",
      "Wall time: 365 ms\n",
      "unioning back in on copymaster 1\n",
      "Wall time: 656 ms\n"
     ]
    }
   ],
   "source": [
    "# at 25 m simplification\n",
    "\n",
    "copy_LU_shp = os.path.join(GIS_FOLDER,'Land_use', 'secretstash_can deletenow',  \"LU_test_file_small_simp.shp\")\n",
    "\n",
    "\n",
    "type_list =     ['Agroforest', 'Cultivated_Land', 'Developed_Woodlands', 'Open_Space', 'Impervious_Surfaces', 'Buildings']\n",
    "Buf_dist_list = [5,             4,                 3,                     1,            0.2,                   0.5]\n",
    "\n",
    "# use geopandas to select each landuse independently\n",
    "dataSrc = gpd.read_file(copy_LU_shp)\n",
    "\n",
    "for idx, lutype in enumerate(type_list):\n",
    "    dataSrc_select = dataSrc[dataSrc['LBLCLASS'] == lutype]\n",
    "    dataSrc_select.to_file(os.path.join(workspace, 'tempselect.shp'))\n",
    "\n",
    "    # use OGR to create the buffer file \n",
    "    print(\"buffering {}\".format(lutype))\n",
    "    %time  createBuffer(os.path.join(workspace, 'tempselect.shp'), os.path.join(workspace, 'Buffer_{}.shp'.format(lutype)), Buf_dist_list[idx])\n",
    "    \n",
    "    print(\"erasing {}\".format(lutype))\n",
    "    Erasein1 = gpd.read_file(os.path.join(workspace, 'Buffer_{}.shp'.format('Buildings')))\n",
    "    Erasein2 = gpd.read_file(os.path.join(workspace, 'Buffer_{}.shp'.format('Impervious_Surfaces')))\n",
    "\n",
    "    %time erasestep1time = gpd.overlay(Erasein1, Erasein2, how='difference')\n",
    "    erasestep1time.to_file(os.path.join(workspace, 'Buffer_{}.shp'.format('testbong1')))\n",
    "\n",
    "    print(\"unioning back in on copymaster {}\".format('1'))\n",
    "    %time erasestep2time = gpd.overlay(Erasein1, Erasein2, how='union')   \n",
    "    erasestep1time.to_file(os.path.join(workspace, 'Buffer_{}.shp'.format('testbong2')))\n",
    "\n",
    "\n"
   ]
  },
  {
   "cell_type": "code",
   "execution_count": 0,
   "metadata": {
    "colab": {},
    "colab_type": "code",
    "id": "xCm7_2fdAFot",
    "outputId": "c40f9982-94de-49c7-d25d-d084948170ae"
   },
   "outputs": [
    {
     "name": "stdout",
     "output_type": "stream",
     "text": [
      "buffering Agroforest\n",
      "Wall time: 18.9 ms\n",
      "erasing Agroforest\n",
      "Wall time: 384 ms\n",
      "unioning back in on copymaster 1\n",
      "Wall time: 677 ms\n",
      "buffering Cultivated_Land\n",
      "Wall time: 23.9 ms\n",
      "erasing Cultivated_Land\n",
      "Wall time: 403 ms\n",
      "unioning back in on copymaster 1\n",
      "Wall time: 720 ms\n",
      "buffering Developed_Woodlands\n",
      "Wall time: 70.8 ms\n",
      "erasing Developed_Woodlands\n",
      "Wall time: 431 ms\n",
      "unioning back in on copymaster 1\n",
      "Wall time: 708 ms\n",
      "buffering Open_Space\n",
      "Wall time: 125 ms\n",
      "erasing Open_Space\n",
      "Wall time: 384 ms\n",
      "unioning back in on copymaster 1\n",
      "Wall time: 712 ms\n",
      "buffering Impervious_Surfaces\n",
      "Wall time: 114 ms\n",
      "erasing Impervious_Surfaces\n",
      "Wall time: 421 ms\n",
      "unioning back in on copymaster 1\n",
      "Wall time: 727 ms\n",
      "buffering Buildings\n",
      "Wall time: 145 ms\n",
      "erasing Buildings\n",
      "Wall time: 387 ms\n",
      "unioning back in on copymaster 1\n",
      "Wall time: 729 ms\n"
     ]
    }
   ],
   "source": [
    "# at 10 m simplification\n",
    "\n",
    "copy_LU_shp = os.path.join(GIS_FOLDER,'Land_use', 'secretstash_can deletenow',  \"LU_test_file_small_simp10.shp\")\n",
    "\n",
    "\n",
    "type_list =     ['Agroforest', 'Cultivated_Land', 'Developed_Woodlands', 'Open_Space', 'Impervious_Surfaces', 'Buildings']\n",
    "Buf_dist_list = [5,             4,                 3,                     1,            0.2,                   0.5]\n",
    "\n",
    "# use geopandas to select each landuse independently\n",
    "dataSrc = gpd.read_file(copy_LU_shp)\n",
    "\n",
    "for idx, lutype in enumerate(type_list):\n",
    "    dataSrc_select = dataSrc[dataSrc['LBLCLASS'] == lutype]\n",
    "    dataSrc_select.to_file(os.path.join(workspace, 'tempselect.shp'))\n",
    "\n",
    "    # use OGR to create the buffer file \n",
    "    print(\"buffering {}\".format(lutype))\n",
    "    %time  createBuffer(os.path.join(workspace, 'tempselect.shp'), os.path.join(workspace, 'Buffer_{}.shp'.format(lutype)), Buf_dist_list[idx])\n",
    "    \n",
    "    print(\"erasing {}\".format(lutype))\n",
    "    Erasein1 = gpd.read_file(os.path.join(workspace, 'Buffer_{}.shp'.format('Buildings')))\n",
    "    Erasein2 = gpd.read_file(os.path.join(workspace, 'Buffer_{}.shp'.format('Impervious_Surfaces')))\n",
    "\n",
    "    %time erasestep1time = gpd.overlay(Erasein1, Erasein2, how='difference')\n",
    "    erasestep1time.to_file(os.path.join(workspace, 'Buffer_{}.shp'.format('testbong1')))\n",
    "\n",
    "    print(\"unioning back in on copymaster {}\".format('1'))\n",
    "    %time erasestep2time = gpd.overlay(Erasein1, Erasein2, how='union')   \n",
    "    erasestep1time.to_file(os.path.join(workspace, 'Buffer_{}.shp'.format('testbong2')))"
   ]
  },
  {
   "cell_type": "code",
   "execution_count": 0,
   "metadata": {
    "colab": {},
    "colab_type": "code",
    "id": "ivJ5mtJvAFow",
    "outputId": "5bd69374-5b5f-446b-8cac-f90e8564c6ee"
   },
   "outputs": [
    {
     "name": "stdout",
     "output_type": "stream",
     "text": [
      "buffering Agroforest\n",
      "Wall time: 33.9 ms\n",
      "erasing Agroforest\n",
      "Wall time: 397 ms\n",
      "unioning back in on copymaster 1\n",
      "Wall time: 706 ms\n",
      "buffering Cultivated_Land\n",
      "Wall time: 42.9 ms\n",
      "erasing Cultivated_Land\n",
      "Wall time: 396 ms\n",
      "unioning back in on copymaster 1\n",
      "Wall time: 723 ms\n",
      "buffering Developed_Woodlands\n",
      "Wall time: 117 ms\n",
      "erasing Developed_Woodlands\n",
      "Wall time: 389 ms\n",
      "unioning back in on copymaster 1\n",
      "Wall time: 769 ms\n",
      "buffering Open_Space\n",
      "Wall time: 173 ms\n",
      "erasing Open_Space\n",
      "Wall time: 376 ms\n",
      "unioning back in on copymaster 1\n",
      "Wall time: 657 ms\n",
      "buffering Impervious_Surfaces\n",
      "Wall time: 167 ms\n",
      "erasing Impervious_Surfaces\n",
      "Wall time: 500 ms\n",
      "unioning back in on copymaster 1\n",
      "Wall time: 926 ms\n",
      "buffering Buildings\n",
      "Wall time: 184 ms\n",
      "erasing Buildings\n",
      "Wall time: 518 ms\n",
      "unioning back in on copymaster 1\n",
      "Wall time: 859 ms\n"
     ]
    }
   ],
   "source": [
    "# at 2 m simplification\n",
    "\n",
    "copy_LU_shp = os.path.join(GIS_FOLDER,'Land_use', 'secretstash_can deletenow',  \"LU_test_file_small_simp2.shp\")\n",
    "\n",
    "\n",
    "type_list =     ['Agroforest', 'Cultivated_Land', 'Developed_Woodlands', 'Open_Space', 'Impervious_Surfaces', 'Buildings']\n",
    "Buf_dist_list = [5,             4,                 3,                     1,            0.2,                   0.5]\n",
    "\n",
    "# use geopandas to select each landuse independently\n",
    "dataSrc = gpd.read_file(copy_LU_shp)\n",
    "\n",
    "for idx, lutype in enumerate(type_list):\n",
    "    dataSrc_select = dataSrc[dataSrc['LBLCLASS'] == lutype]\n",
    "    dataSrc_select.to_file(os.path.join(workspace, 'tempselect.shp'))\n",
    "\n",
    "    # use OGR to create the buffer file \n",
    "    print(\"buffering {}\".format(lutype))\n",
    "    %time  createBuffer(os.path.join(workspace, 'tempselect.shp'), os.path.join(workspace, 'Buffer_{}.shp'.format(lutype)), Buf_dist_list[idx])\n",
    "    \n",
    "    print(\"erasing {}\".format(lutype))\n",
    "    Erasein1 = gpd.read_file(os.path.join(workspace, 'Buffer_{}.shp'.format('Buildings')))\n",
    "    Erasein2 = gpd.read_file(os.path.join(workspace, 'Buffer_{}.shp'.format('Impervious_Surfaces')))\n",
    "\n",
    "    %time erasestep1time = gpd.overlay(Erasein1, Erasein2, how='difference')\n",
    "    erasestep1time.to_file(os.path.join(workspace, 'Buffer_{}.shp'.format('testbong1')))\n",
    "\n",
    "    print(\"unioning back in on copymaster {}\".format('1'))\n",
    "    %time erasestep2time = gpd.overlay(Erasein1, Erasein2, how='union')   \n",
    "    erasestep1time.to_file(os.path.join(workspace, 'Buffer_{}.shp'.format('testbong2')))"
   ]
  },
  {
   "cell_type": "code",
   "execution_count": 0,
   "metadata": {
    "colab": {
     "base_uri": "https://localhost:8080/",
     "height": 85
    },
    "colab_type": "code",
    "id": "asaFi2oIAFoy",
    "outputId": "5ab2d7ee-6209-4502-d742-98bd48b144b4"
   },
   "outputs": [
    {
     "name": "stdout",
     "output_type": "stream",
     "text": [
      "buffering Agroforest\n",
      "CPU times: user 26.9 s, sys: 151 ms, total: 27.1 s\n",
      "Wall time: 27.2 s\n",
      "erasing Agroforest\n"
     ]
    }
   ],
   "source": [
    "# Point at BIG land use dataset at 2 m simplification\n",
    "\n",
    "copy_LU_shp = os.path.join(GIS_FOLDER,'Land_use', 'secretstash_can deletenow',  \"LU_BIG_simp2.shp\")\n",
    "\n",
    "\n",
    "type_list =     ['Agroforest', 'Cultivated_Land', 'Developed_Woodlands', 'Open_Space', 'Impervious_Surfaces', 'Buildings']\n",
    "Buf_dist_list = [5,             4,                 3,                     1,            0.2,                   0.5]\n",
    "\n",
    "# use geopandas to select each landuse independently\n",
    "dataSrc = gpd.read_file(LU_shp)\n",
    "\n",
    "for idx, lutype in enumerate(type_list):\n",
    "    dataSrc_select = dataSrc[dataSrc['LBLCLASS'] == lutype]\n",
    "    dataSrc_select.to_file(os.path.join(workspace, 'tempselect.shp'))\n",
    "\n",
    "    # use OGR to create the buffer file \n",
    "    print(\"buffering {}\".format(lutype))\n",
    "    %time  createBuffer(os.path.join(workspace, 'tempselect.shp'), os.path.join(workspace, 'Buffer_{}.shp'.format(lutype)), Buf_dist_list[idx])\n",
    "    \n",
    "    print(\"erasing {}\".format(lutype))\n",
    "    Erasein1 = gpd.read_file(os.path.join(workspace, 'Buffer_{}.shp'.format('Buildings')))\n",
    "    Erasein2 = gpd.read_file(os.path.join(workspace, 'Buffer_{}.shp'.format('Impervious_Surfaces')))\n",
    "\n",
    "    %time erasestep1time = gpd.overlay(Erasein1, Erasein2, how='difference')\n",
    "    erasestep1time.to_file(os.path.join(workspace, 'Buffer_{}.shp'.format('testbong1')))\n",
    "\n",
    "    print(\"unioning back in on copymaster {}\".format('1'))\n",
    "    %time erasestep2time = gpd.overlay(Erasein1, Erasein2, how='union')   \n",
    "    erasestep1time.to_file(os.path.join(workspace, 'Buffer_{}.shp'.format('testbong2')))"
   ]
  },
  {
   "cell_type": "code",
   "execution_count": 0,
   "metadata": {
    "colab": {},
    "colab_type": "code",
    "id": "6sr4xQ9FAFo1",
    "outputId": "7f319af7-eece-4a08-8f52-0f75045e1eae"
   },
   "outputs": [
    {
     "name": "stdout",
     "output_type": "stream",
     "text": [
      "buffering Agroforest\n",
      "Wall time: 4min 30s\n",
      "erasing Agroforest\n"
     ]
    }
   ],
   "source": [
    "# Point at BIG land use dataset at 3 m simplification\n",
    "\n",
    "copy_LU_shp = os.path.join(GIS_FOLDER,'Land_use', 'secretstash_can deletenow',  \"LU_BIG_simp3.shp\")\n",
    "\n",
    "\n",
    "type_list =     ['Agroforest', 'Cultivated_Land', 'Developed_Woodlands', 'Open_Space', 'Impervious_Surfaces', 'Buildings']\n",
    "Buf_dist_list = [5,             4,                 3,                     1,            0.2,                   0.5]\n",
    "\n",
    "# use geopandas to select each landuse independently\n",
    "dataSrc = gpd.read_file(copy_LU_shp)\n",
    "\n",
    "for idx, lutype in enumerate(type_list):\n",
    "    dataSrc_select = dataSrc[dataSrc['LBLCLASS'] == lutype]                # select and write desired land use type to its own file using Geopandas \n",
    "    dataSrc_select.to_file(os.path.join(workspace, 'tempselect.shp'))\n",
    "\n",
    "    # use OGR to create the buffer file \n",
    "    print(\"buffering {}\".format(lutype))\n",
    "    %time  createBuffer(os.path.join(workspace, 'tempselect.shp'), os.path.join(workspace, 'Buffer_{}.shp'.format(lutype)), Buf_dist_list[idx])\n",
    "    \n",
    "    print(\"erasing {}\".format(lutype))\n",
    "    Erasein1 = gpd.read_file(os.path.join(workspace, 'Buffer_{}.shp'.format('Buildings')))\n",
    "    Erasein2 = gpd.read_file(os.path.join(workspace, 'Buffer_{}.shp'.format('Impervious_Surfaces')))\n",
    "\n",
    "    %time erasestep1time = gpd.overlay(Erasein1, Erasein2, how='difference')\n",
    "    erasestep1time.to_file(os.path.join(workspace, 'Buffer_{}.shp'.format('testbong1')))\n",
    "\n",
    "    print(\"unioning back in on copymaster {}\".format('1'))\n",
    "    %time erasestep2time = gpd.overlay(Erasein1, Erasein2, how='union')   \n",
    "    erasestep1time.to_file(os.path.join(workspace, 'Buffer_{}.shp'.format('testbong2')))"
   ]
  },
  {
   "cell_type": "code",
   "execution_count": 0,
   "metadata": {
    "colab": {},
    "colab_type": "code",
    "id": "w_iRmEg1AFo5",
    "outputId": "9e3cbafc-f022-4eac-c968-4ad0797c7581"
   },
   "outputs": [
    {
     "name": "stdout",
     "output_type": "stream",
     "text": [
      "Wall time: 2.98 s\n",
      "Wall time: 9.63 s\n"
     ]
    }
   ],
   "source": [
    "# documenting the results of the tests\n",
    "copy_LU_shp = os.path.join(GIS_FOLDER,'Land_use', 'secretstash_can deletenow',  \"LU_BIG_simp3.shp\")\n",
    "\n",
    "\n",
    "type_list =     ['Agroforest', 'Cultivated_Land', 'Developed_Woodlands', 'Open_Space', 'Impervious_Surfaces', 'Buildings']\n",
    "Buf_dist_list = [5,             4,                 3,                     1,            0.2,                   0.5]\n",
    "\n",
    "%time dataSrc = gpd.read_file(copy_LU_shp)                         # Wall time: 2.9 s\n",
    "\n",
    "# Point at BIG land use dataset at 3 m TIMING TEST \n",
    "dataSrc_select = dataSrc[dataSrc['LBLCLASS'] == lutype]\n",
    "%time dataSrc_select.to_file(os.path.join(workspace, 'tempselect.shp'))   # Wall time: 3.5 s   - Wall time: 8.41 s   - Wall time: 18 s"
   ]
  },
  {
   "cell_type": "code",
   "execution_count": 0,
   "metadata": {
    "colab": {},
    "colab_type": "code",
    "id": "1VKo3FlyAFo7",
    "outputId": "0baf12ed-280b-462e-e9f8-c4fb8b94f431"
   },
   "outputs": [
    {
     "name": "stdout",
     "output_type": "stream",
     "text": [
      "Wall time: 2.87 s\n"
     ]
    }
   ],
   "source": [
    "\n",
    "%time dataSrc = gpd.read_file(copy_LU_shp)                         # Wall time: 2.9 s"
   ]
  },
  {
   "cell_type": "code",
   "execution_count": 0,
   "metadata": {
    "colab": {},
    "colab_type": "code",
    "id": "vBFV52FqAFo-",
    "outputId": "7916f602-59fc-4580-8246-d91177d47644"
   },
   "outputs": [
    {
     "name": "stdout",
     "output_type": "stream",
     "text": [
      "Wall time: 2min 50s\n"
     ]
    },
    {
     "name": "stderr",
     "output_type": "stream",
     "text": [
      "<timed exec>:1: SettingWithCopyWarning: \n",
      "A value is trying to be set on a copy of a slice from a DataFrame.\n",
      "Try using .loc[row_indexer,col_indexer] = value instead\n",
      "\n",
      "See the caveats in the documentation: http://pandas.pydata.org/pandas-docs/stable/user_guide/indexing.html#returning-a-view-versus-a-copy\n"
     ]
    }
   ],
   "source": [
    "### Geopandas buffer test   12 min 53 sec 1st try  \n",
    "type_list =     ['Agroforest', 'Cultivated_Land', 'Developed_Woodlands', 'Open_Space', 'Impervious_Surfaces', 'Buildings']\n",
    "Buf_dist_list = [5,             4,                 3,                     1,            0.2,                   0.5]\n",
    "idx = 0\n",
    "lutype = 'Agroforest'\n",
    "\n",
    "# use Gepandas  to create the buffer file     (OGR was running around 4 minutes for this, thus it this is comporable then its better because dont have to convert back from and to shapefiles? )\n",
    "%time dataSrc_select['geometry'] = dataSrc_select.geometry.buffer(5)   # use geopandas instead of (OGR = Stupid_)"
   ]
  },
  {
   "cell_type": "markdown",
   "metadata": {
    "colab_type": "text",
    "id": "CBnST9Z7AFpB"
   },
   "source": [
    "# NEW MWTHOD"
   ]
  },
  {
   "cell_type": "code",
   "execution_count": 0,
   "metadata": {
    "colab": {},
    "colab_type": "code",
    "id": "btpmJJJ1AFpC",
    "outputId": "5f1685a5-5ed0-4658-ba73-532f5e5fe086"
   },
   "outputs": [
    {
     "name": "stdout",
     "output_type": "stream",
     "text": [
      "Wall time: 11h 56min 39s\n",
      "Wall time: 0 ns\n",
      "Wall time: 14h 31min 34s\n",
      "Wall time: 0 ns\n",
      "Wall time: 11h 53min 45s\n",
      "Wall time: 0 ns\n"
     ]
    }
   ],
   "source": [
    "copy_LU_shp = os.path.join(GIS_FOLDER,'Land_use', 'secretstash_can deletenow',  \"LU_BIG_simp3.shp\")\n",
    "\n",
    "dataSrc = gpd.read_file(copy_LU_shp)  # Read in lad use data\n",
    "\n",
    "# Step 1 buffer files \n",
    "Agroforest_select = dataSrc[dataSrc['LBLCLASS'] == 'Agroforest'].copy()\n",
    "Agroforest_select['geometry'] = Agroforest_select.geometry.buffer(5)\n",
    "\n",
    "Cultivated_Land_select = dataSrc[dataSrc['LBLCLASS'] == 'Cultivated_Land'].copy()\n",
    "Cultivated_Land_select['geometry'] = Cultivated_Land_select.geometry.buffer(4)\n",
    "\n",
    "Developed_Woodlands_select = dataSrc[dataSrc['LBLCLASS'] == 'Developed_Woodlands'].copy()\n",
    "Developed_Woodlands_select['geometry'] = Developed_Woodlands_select.geometry.buffer(3)\n",
    "\n",
    "Open_Space_select = dataSrc[dataSrc['LBLCLASS'] == 'Open_Space'].copy()\n",
    "Open_Space_select['geometry'] = Open_Space_select.geometry.buffer(1)\n",
    "\n",
    "Impervious_Surfaces_select = dataSrc[dataSrc['LBLCLASS'] == 'Impervious_Surfaces'].copy()\n",
    "Impervious_Surfaces_select['geometry'] = Impervious_Surfaces_select.geometry.buffer(0.2)\n",
    "\n",
    "Buildings_select = dataSrc[dataSrc['LBLCLASS'] == 'Buildings'].copy()\n",
    "Buildings_select['geometry'] = Buildings_select.geometry.buffer(0.5)\n",
    "\n",
    "\n",
    "# Step 2 Create erase unions \n",
    "LU_frame_expanded = dataSrc.copy()   # copy the dataset \n",
    "\n",
    "%time erase_step1 = gpd.overlay(LU_frame_expanded, Agroforest_select, how='difference')           # difference them both  (listed as inner then outer)\n",
    "%time LU_frame_expanded = gpd.GeoDataFrame( pd.concat( [Agroforest_select, erase_step1], ignore_index=True) )    # Keep the inner one \n",
    "\n",
    "%time erase_step2 = gpd.overlay(LU_frame_expanded, Cultivated_Land_select, how='difference')           # difference them both  (listed as inner then outer)\n",
    "%time LU_frame_expanded = gpd.GeoDataFrame( pd.concat( [Cultivated_Land_select, erase_step2], ignore_index=True) )    # Keep the inner one \n",
    "\n",
    "%time erase_step3 = gpd.overlay(LU_frame_expanded, Developed_Woodlands_select, how='difference')           # difference them both  (listed as inner then outer)\n",
    "%time LU_frame_expanded = gpd.GeoDataFrame( pd.concat( [Developed_Woodlands_select, erase_step3], ignore_index=True) )    # Keep the inner one \n",
    "\n",
    "%time erase_step4 = gpd.overlay(LU_frame_expanded, Open_Space_select, how='difference')           # difference them both  (listed as inner then outer)\n",
    "%time LU_frame_expanded = gpd.GeoDataFrame( pd.concat( [Open_Space_select, erase_step4], ignore_index=True) )    # Keep the inner one \n",
    "\n",
    "%time erase_step5 = gpd.overlay(LU_frame_expanded, Impervious_Surfaces_select, how='difference')           # difference them both  (listed as inner then outer)\n",
    "%time LU_frame_expanded = gpd.GeoDataFrame( pd.concat( [Impervious_Surfaces_select, erase_step5], ignore_index=True) )    # Keep the inner one \n",
    "\n",
    "%time erase_step6 = gpd.overlay(LU_frame_expanded, Buildings_select, how='difference')           # difference them both  (listed as inner then outer)\n",
    "%time LU_frame_expanded = gpd.GeoDataFrame( pd.concat( [Buildings_select, erase_step6], ignore_index=True) )    # Keep the inner one \n",
    "\n",
    "LU_frame_expanded.to_file(os.path.join(workspace, 'Finished_dataframetest1.shp'))\n"
   ]
  },
  {
   "cell_type": "code",
   "execution_count": 0,
   "metadata": {
    "colab": {},
    "colab_type": "code",
    "collapsed": true,
    "id": "ua5ndS6lAFpF"
   },
   "outputs": [],
   "source": []
  },
  {
   "cell_type": "code",
   "execution_count": 0,
   "metadata": {
    "colab": {},
    "colab_type": "code",
    "collapsed": true,
    "id": "qZFOVFKSAFpI"
   },
   "outputs": [],
   "source": []
  },
  {
   "cell_type": "code",
   "execution_count": 0,
   "metadata": {
    "colab": {},
    "colab_type": "code",
    "collapsed": true,
    "id": "lelsWKqYAFpK"
   },
   "outputs": [],
   "source": [
    "\n"
   ]
  },
  {
   "cell_type": "code",
   "execution_count": 0,
   "metadata": {
    "colab": {},
    "colab_type": "code",
    "collapsed": true,
    "id": "0vQ_HCXsAFpN"
   },
   "outputs": [],
   "source": []
  },
  {
   "cell_type": "code",
   "execution_count": 0,
   "metadata": {
    "colab": {},
    "colab_type": "code",
    "collapsed": true,
    "id": "yzUnMxrXAFpQ"
   },
   "outputs": [],
   "source": []
  },
  {
   "cell_type": "code",
   "execution_count": 0,
   "metadata": {
    "colab": {},
    "colab_type": "code",
    "collapsed": true,
    "id": "H1s_TaIYAFpT"
   },
   "outputs": [],
   "source": [
    "# old syntax \n",
    "Erasein1 = gpd.read_file(os.path.join(workspace, 'Buffer_{}.shp'.format('Buildings')))\n",
    "Erasein2 = gpd.read_file(os.path.join(workspace, 'Buffer_{}.shp'.format('Impervious_Surfaces')))\n",
    "\n",
    "%time erasestep1time = gpd.overlay(Erasein1, Erasein2, how='difference')\n",
    "erasestep1time.to_file(os.path.join(workspace, 'Buffer_{}.shp'.format('testbong1')))\n",
    "                       \n",
    "print(\"unioning back in on copymaster {}\".format('1'))\n",
    "%time erasestep2time = gpd.overlay(Erasein1, Erasein2, how='union')   \n",
    "erasestep1time.to_file(os.path.join(workspace, 'Buffer_{}.shp'.format('testbong2')))"
   ]
  },
  {
   "cell_type": "code",
   "execution_count": 0,
   "metadata": {
    "colab": {},
    "colab_type": "code",
    "collapsed": true,
    "id": "RyX45CN-AFpV"
   },
   "outputs": [],
   "source": [
    "for idx, lutype in enumerate(type_list):\n",
    "    print(\"erasing on copymaster {}\".format(lutype))\n",
    "    Erasein1 = gpd.read_file(os.path.join(workspace, 'Buffer_{}.shp'.format(lutype)))\n",
    "    Erasein2 = gpd.read_file(os.path.join(workspace, 'Buffer_{}.shp'.format(type_list[idx+1])))\n",
    "    \n",
    "    %time newlandusefile = gpd.overlay(Erasein1, Erasein2, how='difference')\n",
    "    newlandusefile.to_file(copy_LU_shp)\n",
    "       \n",
    "    print(\"unioning back in on copymaster {}\".format(lutype))\n",
    "    %time newlandusefile2 = gpd.overlay(Erasein1, Erasein2, how='union')   \n",
    "    newlandusefile2.to_file(copy_LU_shp)"
   ]
  },
  {
   "cell_type": "code",
   "execution_count": 0,
   "metadata": {
    "colab": {},
    "colab_type": "code",
    "collapsed": true,
    "id": "fYkg_71DAFpY"
   },
   "outputs": [],
   "source": []
  },
  {
   "cell_type": "code",
   "execution_count": 0,
   "metadata": {
    "colab": {},
    "colab_type": "code",
    "collapsed": true,
    "id": "ynlVtbDrAFpb"
   },
   "outputs": [],
   "source": []
  },
  {
   "cell_type": "code",
   "execution_count": 0,
   "metadata": {
    "colab": {},
    "colab_type": "code",
    "collapsed": true,
    "id": "8rrkC6axAFpd"
   },
   "outputs": [],
   "source": []
  },
  {
   "cell_type": "code",
   "execution_count": 0,
   "metadata": {
    "colab": {},
    "colab_type": "code",
    "collapsed": true,
    "id": "oOGdO7g7AFpi"
   },
   "outputs": [],
   "source": [
    "Process: \n",
    "    - project the land use file \n",
    "    - define the buffer distances for each land use type\n",
    "    - for each land use type: \n",
    "        - create stand alone shapefile of desired type\n",
    "        - buffer it by desired amount \n",
    "        - \n",
    "        \n",
    "        \n",
    "        \n",
    "############## eratly attempts to do an erase with ogr\n",
    "\n",
    "driver = ogr.GetDriverByName('ESRI Shapefile')\n",
    "outDriver = ogr.GetDriverByName(\"ESRI Shapefile\")  \n",
    "\n",
    "inlayer = driver.Open(os.path.join(workspace, 'Buffer_Open_Space.shp'), 0)\n",
    "eraselayer = driver.Open(os.path.join(workspace, 'Buffer_Buildings.shp'), 0)\n",
    "outDataSource = outDriver.CreateDataSource(os.path.join(workspace, 'trashfaceman.shp'))\n",
    "\n",
    "\n",
    "feat1.Erase(eraselayer, outDataSource)"
   ]
  },
  {
   "cell_type": "code",
   "execution_count": 0,
   "metadata": {
    "colab": {},
    "colab_type": "code",
    "id": "f_uHhMY4AFpl",
    "outputId": "978d212b-11d4-4df0-aa99-3602bf0a4c71"
   },
   "outputs": [
    {
     "data": {
      "text/plain": [
       "<osgeo.ogr.DataSource; proxy of <Swig Object of type 'OGRDataSourceShadow *' at 0x000001881365D810> >"
      ]
     },
     "execution_count": 39,
     "metadata": {
      "tags": []
     },
     "output_type": "execute_result"
    }
   ],
   "source": []
  },
  {
   "cell_type": "code",
   "execution_count": 0,
   "metadata": {
    "colab": {},
    "colab_type": "code",
    "collapsed": true,
    "id": "EkQexZ-dAFpo"
   },
   "outputs": [],
   "source": []
  },
  {
   "cell_type": "code",
   "execution_count": 0,
   "metadata": {
    "colab": {},
    "colab_type": "code",
    "collapsed": true,
    "id": "a9HDfkVdAFpq"
   },
   "outputs": [],
   "source": [
    "good links \n",
    "https://gis.stackexchange.com/questions/113799/how-to-read-a-shapefile-in-python\n",
    "    https://gis.stackexchange.com/questions/163040/erasing-features-using-python-gdal-ogr\n",
    "    "
   ]
  }
 ],
 "metadata": {
  "accelerator": "GPU",
  "colab": {
   "name": "Death_to_ESRI_v1-Copy_testing.ipynb",
   "provenance": []
  },
  "kernelspec": {
   "display_name": "Python 3",
   "language": "python",
   "name": "python3"
  },
  "language_info": {
   "codemirror_mode": {
    "name": "ipython",
    "version": 3
   },
   "file_extension": ".py",
   "mimetype": "text/x-python",
   "name": "python",
   "nbconvert_exporter": "python",
   "pygments_lexer": "ipython3",
   "version": "3.6.2"
  }
 },
 "nbformat": 4,
 "nbformat_minor": 1
}
