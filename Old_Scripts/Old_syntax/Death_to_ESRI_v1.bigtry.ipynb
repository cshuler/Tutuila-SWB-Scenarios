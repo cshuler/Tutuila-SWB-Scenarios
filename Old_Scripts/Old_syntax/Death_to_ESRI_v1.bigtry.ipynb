{
 "cells": [
  {
   "cell_type": "code",
   "execution_count": 35,
   "metadata": {},
   "outputs": [
    {
     "data": {
      "text/html": [
       " <style>\n",
       "    div#notebook-container    { width: 95%; }\n",
       "    div#menubar-container     { width: 85%; }\n",
       "    div#maintoolbar-container { width: 99%; } </style> "
      ],
      "text/plain": [
       "<IPython.core.display.HTML object>"
      ]
     },
     "metadata": {},
     "output_type": "display_data"
    }
   ],
   "source": [
    "# make the screen bigger!\n",
    "from IPython.display import display, HTML\n",
    "display(HTML(data=\"\"\" <style>\n",
    "    div#notebook-container    { width: 95%; }\n",
    "    div#menubar-container     { width: 85%; }\n",
    "    div#maintoolbar-container { width: 99%; } </style> \"\"\"))\n",
    "\n",
    "import os\n",
    "import numpy as np\n",
    "import pandas as pd\n",
    "import gdal\n",
    "import ogr\n",
    "import geopandas as gpd"
   ]
  },
  {
   "cell_type": "code",
   "execution_count": 36,
   "metadata": {},
   "outputs": [],
   "source": [
    "def createBuffer(inputfn, outputBufferfn, bufferDist):\n",
    "    inputds = ogr.Open(inputfn)\n",
    "    inputlyr = inputds.GetLayer()\n",
    "\n",
    "    shpdriver = ogr.GetDriverByName('ESRI Shapefile')\n",
    "    if os.path.exists(outputBufferfn):\n",
    "        shpdriver.DeleteDataSource(outputBufferfn)\n",
    "    outputBufferds = shpdriver.CreateDataSource(outputBufferfn)\n",
    "    bufferlyr = outputBufferds.CreateLayer(outputBufferfn, geom_type=ogr.wkbPolygon)\n",
    "    featureDefn = bufferlyr.GetLayerDefn()\n",
    "\n",
    "    for feature in inputlyr:\n",
    "        ingeom = feature.GetGeometryRef()\n",
    "        geomBuffer = ingeom.Buffer(bufferDist)\n",
    "\n",
    "        outFeature = ogr.Feature(featureDefn)\n",
    "        outFeature.SetGeometry(geomBuffer)\n",
    "        bufferlyr.CreateFeature(outFeature)\n",
    "        outFeature = None"
   ]
  },
  {
   "cell_type": "code",
   "execution_count": 45,
   "metadata": {},
   "outputs": [],
   "source": [
    "# set/create GENeral workspace\n",
    "workspace = os.path.join('.', 'workspace')\n",
    "if not os.path.exists(workspace):\n",
    "    os.makedirs(workspace)\n",
    "\n",
    "# Paths to data\n",
    "GIS_FOLDER = os.path.join('..', 'Raw_GIS_Data')\n",
    "\n",
    "# path to the grid bound\n",
    "Grid_shp = os.path.join(GIS_FOLDER, 'grid_bound.shp')\n",
    "\n",
    "# path to the raw land use data set\n",
    "LU_shp = os.path.join(GIS_FOLDER, 'Land_use', 'LU_test_file.shp')\n",
    "LU_shp_GIANT = os.path.join(GIS_FOLDER, 'Land_use', 'Land_use_WGS84.shp')\n",
    "\n",
    "if not os.path.exists(os.path.join('.', 'output//')):\n",
    "    os.makedirs(os.path.join('.', 'output//'))\n",
    "                        \n",
    "if not os.path.exists(os.path.join('.', 'output//Figures//')):\n",
    "    os.makedirs(os.path.join('.', 'output//Figures//'))\n",
    "fig_path =  (os.path.join('.', 'output//Figures//'))\n",
    "\n",
    "# define where the land is too steep to build\n",
    "steep_land = os.path.join(GIS_FOLDER, 'Slopes', 'steep_land_25deg.shp')"
   ]
  },
  {
   "cell_type": "code",
   "execution_count": null,
   "metadata": {},
   "outputs": [],
   "source": []
  },
  {
   "cell_type": "code",
   "execution_count": null,
   "metadata": {},
   "outputs": [],
   "source": []
  },
  {
   "cell_type": "code",
   "execution_count": 55,
   "metadata": {},
   "outputs": [],
   "source": [
    "\n",
    "# use geopandas to select each landuse independently\n",
    "dataSrc = gpd.read_file(LU_shp_GIANT)\n",
    "dataSrc_select = dataSrc[dataSrc['LBLCLASS'] == 'Agroforest']\n",
    "dataSrc_select.to_file(os.path.join(workspace, 'tempselect2.shp'))"
   ]
  },
  {
   "cell_type": "code",
   "execution_count": 58,
   "metadata": {},
   "outputs": [
    {
     "name": "stdout",
     "output_type": "stream",
     "text": [
      "Wall time: 19min 20s\n"
     ]
    }
   ],
   "source": [
    "%time createBuffer(os.path.join(workspace, 'tempselect2.shp'), os.path.join(workspace, 'time_the_buff.shp'), 5)"
   ]
  },
  {
   "cell_type": "code",
   "execution_count": 53,
   "metadata": {},
   "outputs": [],
   "source": []
  },
  {
   "cell_type": "code",
   "execution_count": 22,
   "metadata": {},
   "outputs": [],
   "source": [
    "\n",
    "# use geopandas to select each landuse independently\n",
    "dataSrc = gpd.read_file(LU_shp_GIANT)\n",
    "dataSrc_select = dataSrc[dataSrc['LBLCLASS'] == 'Agroforest']\n",
    "dataSrc_select.to_file(os.path.join(workspace, 'tempselect2.shp'))\n",
    "\n",
    "# use OGR to create the buffer file \n",
    " createBuffer(os.path.join(workspace, 'tempselect2.shp'), os.path.join(workspace, 'bufomomn2.shp'), 1)\n",
    "\n"
   ]
  },
  {
   "cell_type": "code",
   "execution_count": 59,
   "metadata": {},
   "outputs": [
    {
     "name": "stdout",
     "output_type": "stream",
     "text": [
      "buffering Agroforest\n",
      "Wall time: 23min 10s\n",
      "buffering Cultivated_Land\n",
      "Wall time: 44min 50s\n",
      "buffering Developed_Woodlands\n",
      "Wall time: 1h 40min 9s\n",
      "buffering Open_Space\n"
     ]
    },
    {
     "ename": "AttributeError",
     "evalue": "'NoneType' object has no attribute 'CreateLayer'",
     "output_type": "error",
     "traceback": [
      "\u001b[1;31m---------------------------------------------------------------------------\u001b[0m",
      "\u001b[1;31mAttributeError\u001b[0m                            Traceback (most recent call last)",
      "\u001b[1;32m<timed eval>\u001b[0m in \u001b[0;36m<module>\u001b[1;34m\u001b[0m\n",
      "\u001b[1;32m<ipython-input-36-6e622e3014e2>\u001b[0m in \u001b[0;36mcreateBuffer\u001b[1;34m(inputfn, outputBufferfn, bufferDist)\u001b[0m\n\u001b[0;32m      7\u001b[0m         \u001b[0mshpdriver\u001b[0m\u001b[1;33m.\u001b[0m\u001b[0mDeleteDataSource\u001b[0m\u001b[1;33m(\u001b[0m\u001b[0moutputBufferfn\u001b[0m\u001b[1;33m)\u001b[0m\u001b[1;33m\u001b[0m\u001b[1;33m\u001b[0m\u001b[0m\n\u001b[0;32m      8\u001b[0m     \u001b[0moutputBufferds\u001b[0m \u001b[1;33m=\u001b[0m \u001b[0mshpdriver\u001b[0m\u001b[1;33m.\u001b[0m\u001b[0mCreateDataSource\u001b[0m\u001b[1;33m(\u001b[0m\u001b[0moutputBufferfn\u001b[0m\u001b[1;33m)\u001b[0m\u001b[1;33m\u001b[0m\u001b[1;33m\u001b[0m\u001b[0m\n\u001b[1;32m----> 9\u001b[1;33m     \u001b[0mbufferlyr\u001b[0m \u001b[1;33m=\u001b[0m \u001b[0moutputBufferds\u001b[0m\u001b[1;33m.\u001b[0m\u001b[0mCreateLayer\u001b[0m\u001b[1;33m(\u001b[0m\u001b[0moutputBufferfn\u001b[0m\u001b[1;33m,\u001b[0m \u001b[0mgeom_type\u001b[0m\u001b[1;33m=\u001b[0m\u001b[0mogr\u001b[0m\u001b[1;33m.\u001b[0m\u001b[0mwkbPolygon\u001b[0m\u001b[1;33m)\u001b[0m\u001b[1;33m\u001b[0m\u001b[1;33m\u001b[0m\u001b[0m\n\u001b[0m\u001b[0;32m     10\u001b[0m     \u001b[0mfeatureDefn\u001b[0m \u001b[1;33m=\u001b[0m \u001b[0mbufferlyr\u001b[0m\u001b[1;33m.\u001b[0m\u001b[0mGetLayerDefn\u001b[0m\u001b[1;33m(\u001b[0m\u001b[1;33m)\u001b[0m\u001b[1;33m\u001b[0m\u001b[1;33m\u001b[0m\u001b[0m\n\u001b[0;32m     11\u001b[0m \u001b[1;33m\u001b[0m\u001b[0m\n",
      "\u001b[1;31mAttributeError\u001b[0m: 'NoneType' object has no attribute 'CreateLayer'"
     ]
    },
    {
     "name": "stdout",
     "output_type": "stream",
     "text": [
      "buffering Impervious_Surfaces\n",
      "Wall time: 3h 51min 44s\n",
      "buffering Buildings\n"
     ]
    },
    {
     "ename": "AttributeError",
     "evalue": "'NoneType' object has no attribute 'CreateLayer'",
     "output_type": "error",
     "traceback": [
      "\u001b[1;31m---------------------------------------------------------------------------\u001b[0m",
      "\u001b[1;31mAttributeError\u001b[0m                            Traceback (most recent call last)",
      "\u001b[1;32m<timed eval>\u001b[0m in \u001b[0;36m<module>\u001b[1;34m\u001b[0m\n",
      "\u001b[1;32m<ipython-input-36-6e622e3014e2>\u001b[0m in \u001b[0;36mcreateBuffer\u001b[1;34m(inputfn, outputBufferfn, bufferDist)\u001b[0m\n\u001b[0;32m      7\u001b[0m         \u001b[0mshpdriver\u001b[0m\u001b[1;33m.\u001b[0m\u001b[0mDeleteDataSource\u001b[0m\u001b[1;33m(\u001b[0m\u001b[0moutputBufferfn\u001b[0m\u001b[1;33m)\u001b[0m\u001b[1;33m\u001b[0m\u001b[1;33m\u001b[0m\u001b[0m\n\u001b[0;32m      8\u001b[0m     \u001b[0moutputBufferds\u001b[0m \u001b[1;33m=\u001b[0m \u001b[0mshpdriver\u001b[0m\u001b[1;33m.\u001b[0m\u001b[0mCreateDataSource\u001b[0m\u001b[1;33m(\u001b[0m\u001b[0moutputBufferfn\u001b[0m\u001b[1;33m)\u001b[0m\u001b[1;33m\u001b[0m\u001b[1;33m\u001b[0m\u001b[0m\n\u001b[1;32m----> 9\u001b[1;33m     \u001b[0mbufferlyr\u001b[0m \u001b[1;33m=\u001b[0m \u001b[0moutputBufferds\u001b[0m\u001b[1;33m.\u001b[0m\u001b[0mCreateLayer\u001b[0m\u001b[1;33m(\u001b[0m\u001b[0moutputBufferfn\u001b[0m\u001b[1;33m,\u001b[0m \u001b[0mgeom_type\u001b[0m\u001b[1;33m=\u001b[0m\u001b[0mogr\u001b[0m\u001b[1;33m.\u001b[0m\u001b[0mwkbPolygon\u001b[0m\u001b[1;33m)\u001b[0m\u001b[1;33m\u001b[0m\u001b[1;33m\u001b[0m\u001b[0m\n\u001b[0m\u001b[0;32m     10\u001b[0m     \u001b[0mfeatureDefn\u001b[0m \u001b[1;33m=\u001b[0m \u001b[0mbufferlyr\u001b[0m\u001b[1;33m.\u001b[0m\u001b[0mGetLayerDefn\u001b[0m\u001b[1;33m(\u001b[0m\u001b[1;33m)\u001b[0m\u001b[1;33m\u001b[0m\u001b[1;33m\u001b[0m\u001b[0m\n\u001b[0;32m     11\u001b[0m \u001b[1;33m\u001b[0m\u001b[0m\n",
      "\u001b[1;31mAttributeError\u001b[0m: 'NoneType' object has no attribute 'CreateLayer'"
     ]
    }
   ],
   "source": [
    "type_list =     ['Agroforest', 'Cultivated_Land', 'Developed_Woodlands', 'Open_Space', 'Impervious_Surfaces', 'Buildings']\n",
    "Buf_dist_list = [5,             4,                 3,                     1,            0.2,                   0.5]\n",
    "\n",
    "# use geopandas to select each landuse independently\n",
    "dataSrc = gpd.read_file(LU_shp_GIANT)\n",
    "\n",
    "\n",
    "\n",
    "for idx, lutype in enumerate(type_list):\n",
    "    dataSrc_select = dataSrc[dataSrc['LBLCLASS'] == lutype]\n",
    "    dataSrc_select.to_file(os.path.join(workspace, 'tempselect.shp'))\n",
    "\n",
    "    # use OGR to create the buffer file \n",
    "    print(\"buffering {}\".format(lutype))\n",
    "    %time  createBuffer(os.path.join(workspace, 'tempselect.shp'), os.path.join(workspace, 'Buffer_{}.shp'.format(lutype)), Buf_dist_list[idx])"
   ]
  },
  {
   "cell_type": "code",
   "execution_count": null,
   "metadata": {},
   "outputs": [],
   "source": []
  },
  {
   "cell_type": "code",
   "execution_count": null,
   "metadata": {},
   "outputs": [],
   "source": []
  },
  {
   "cell_type": "code",
   "execution_count": null,
   "metadata": {},
   "outputs": [],
   "source": []
  }
 ],
 "metadata": {
  "kernelspec": {
   "display_name": "Python 3",
   "language": "python",
   "name": "python3"
  },
  "language_info": {
   "codemirror_mode": {
    "name": "ipython",
    "version": 3
   },
   "file_extension": ".py",
   "mimetype": "text/x-python",
   "name": "python",
   "nbconvert_exporter": "python",
   "pygments_lexer": "ipython3",
   "version": "3.8.0"
  }
 },
 "nbformat": 4,
 "nbformat_minor": 2
}
