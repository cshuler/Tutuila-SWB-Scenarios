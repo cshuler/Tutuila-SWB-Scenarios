{
 "cells": [
  {
   "cell_type": "code",
   "execution_count": 3,
   "metadata": {},
   "outputs": [
    {
     "data": {
      "text/html": [
       " <style>\n",
       "    div#notebook-container    { width: 95%; }\n",
       "    div#menubar-container     { width: 85%; }\n",
       "    div#maintoolbar-container { width: 99%; } </style> "
      ],
      "text/plain": [
       "<IPython.core.display.HTML object>"
      ]
     },
     "metadata": {},
     "output_type": "display_data"
    }
   ],
   "source": [
    "# make the screen bigger!\n",
    "from IPython.display import display, HTML\n",
    "display(HTML(data=\"\"\" <style>\n",
    "    div#notebook-container    { width: 95%; }\n",
    "    div#menubar-container     { width: 85%; }\n",
    "    div#maintoolbar-container { width: 99%; } </style> \"\"\"))\n",
    "\n",
    "\n",
    "import numpy as np\n",
    "import arcpy\n",
    "import os\n",
    "from arcpy.sa import *\n",
    "import pandas as pd\n",
    "import gdal\n",
    "from arcpy import env\n",
    "import arcpy.cartography as CA\n",
    "\n",
    "\n",
    "arcpy.env.overwriteOutput = True # make sure overwrite files is on\n",
    "\n",
    "cel_size = 50     # in m \n",
    "# projection definition \n",
    "sr_project = arcpy.SpatialReference(32702)   # Project dataset into WGS84"
   ]
  },
  {
   "cell_type": "code",
   "execution_count": 2,
   "metadata": {},
   "outputs": [],
   "source": [
    "GIS_FOLDER = os.path.join('..', 'Raw_GIS_Data')\n",
    "\n",
    "# path to the grid bound\n",
    "Grid_shp = os.path.join(GIS_FOLDER, 'grid_bound.shp')\n",
    "\n",
    "if not os.path.exists(os.path.join('.', 'output//')):\n",
    "    os.makedirs(os.path.join('.', 'output//'))\n",
    "                        \n",
    "if not os.path.exists(os.path.join('.', 'output//Figures//')):\n",
    "    os.makedirs(os.path.join('.', 'output//Figures//'))\n",
    "fig_path =  (os.path.join('.', 'output//Figures//'))\n",
    "\n",
    "\n",
    "# define where the land is too steep to build\n",
    "steep_land = os.path.join(GIS_FOLDER, 'Slopes', 'steep_land_25deg.shp')"
   ]
  },
  {
   "cell_type": "code",
   "execution_count": null,
   "metadata": {},
   "outputs": [],
   "source": [
    "# project file \n",
    "arcpy.Project_management(os.path.join(GIS_FOLDER, \"Land_use\\\\Land_use_wRO_codes2.shp\"), os.path.join('.', \"WorkSpaces\", 'LU_shp_projected.shp'), sr_project)\n",
    "CA.SimplifyPolygon(os.path.join('.', \"WorkSpaces\", 'LU_shp_projected.shp'), os.path.join('.', \"WorkSpaces\", 'LU_shp_projected_simplify.shp'), \"POINT_REMOVE\", 10, error_option = \"RESOLVE_ERRORS\")"
   ]
  },
  {
   "cell_type": "markdown",
   "metadata": {},
   "source": [
    "# Start clipping stuff"
   ]
  },
  {
   "cell_type": "code",
   "execution_count": 6,
   "metadata": {},
   "outputs": [],
   "source": [
    "Agroforest_buffer = 5\n",
    "Cultivated_Land_buffer = 4\n",
    "Developed_Woodlands_buffer = 3\n",
    "Open_Space_buffer = 1\n",
    "Impervious_Surfaces_buffer = 0.2 \n",
    "Buildings_buffer = .5 "
   ]
  },
  {
   "cell_type": "code",
   "execution_count": 7,
   "metadata": {},
   "outputs": [],
   "source": [
    "def clip_da_use(maptoclip, orig_map_to_buffer, LU_type, buffer_dist_m, steep_land, iteration_num):\n",
    "    \n",
    "    tempselect = os.path.join('.', \"WorkSpaces\\\\temp.shp\") \n",
    "    tempbuffer = os.path.join('.', \"WorkSpaces\\\\temp_buffer.shp\")\n",
    "    buffer_clipped_slopes = os.path.join('.', \"WorkSpaces\\\\temp_buffer_clipped.shp\")\n",
    "    clipped_Map = os.path.join('.', \"WorkSpaces\\\\LU_shp_erased.shp\")\n",
    "    output = os.path.join('.', \"WorkSpaces\\\\intermediate_LU_new_{}.shp\".format(iteration_num))\n",
    "    \n",
    "    # Buffer the features of interest\n",
    "    arcpy.Select_analysis(orig_map_to_buffer, tempselect, \"LBLCLASS = '{}'\".format(LU_type))     # select just the LU type desired\n",
    "    arcpy.Buffer_analysis(tempselect, tempbuffer, buffer_dist_m, dissolve_option=\"NONE\")\n",
    "    arcpy.RepairGeometry_management(tempbuffer)\n",
    "    \n",
    "    # erase out areas where there are large slopes\n",
    "    arcpy.Erase_analysis(tempbuffer, steep_land,  buffer_clipped_slopes)\n",
    "    \n",
    "    # erase out the new cultivated land zones\n",
    "    arcpy.Erase_analysis(maptoclip, buffer_clipped_slopes, clipped_Map)    \n",
    "    \n",
    "    # add the new land use type back to the big LU map \n",
    "    arcpy.Merge_management([buffer_clipped_slopes, clipped_Map], output)"
   ]
  },
  {
   "cell_type": "code",
   "execution_count": 9,
   "metadata": {},
   "outputs": [],
   "source": [
    "# Agroforest\n",
    "iteration_num      = 1\n",
    "maptoclip          = os.path.join('.', \"WorkSpaces\", 'LU_shp_projected.shp')   # this is where you put in the map from the lst iteration\n",
    "orig_map_to_buffer = os.path.join('.', \"WorkSpaces\", 'LU_shp_projected.shp')\n",
    "LU_type            = 'Agroforest'\n",
    "buffer_dist_m      = Agroforest_buffer\n",
    "steep_land         = steep_land\n",
    "\n",
    "clip_da_use(maptoclip, orig_map_to_buffer, LU_type, buffer_dist_m, steep_land, iteration_num)"
   ]
  },
  {
   "cell_type": "code",
   "execution_count": null,
   "metadata": {},
   "outputs": [],
   "source": [
    "# Cultivated Land\n",
    "iteration_num      = 2\n",
    "maptoclip          = os.path.join('.', \"WorkSpaces\\\\intermediate_LU_new_{}.shp\".format(iteration_num-1))\n",
    "orig_map_to_buffer = os.path.join('.', \"WorkSpaces\", 'LU_shp_projected.shp')\n",
    "LU_type            = 'Cultivated Land'\n",
    "buffer_dist_m      = Cultivated_Land_buffer\n",
    "steep_land         = steep_land\n",
    "\n",
    "clip_da_use(maptoclip, orig_map_to_buffer, LU_type, buffer_dist_m, steep_land, iteration_num)"
   ]
  },
  {
   "cell_type": "code",
   "execution_count": null,
   "metadata": {},
   "outputs": [],
   "source": [
    "# Developed Woodlands\n",
    "iteration_num      = 3\n",
    "maptoclip          = os.path.join('.', \"WorkSpaces\\\\intermediate_LU_new_{}.shp\".format(iteration_num-1))\n",
    "orig_map_to_buffer = os.path.join('.', \"WorkSpaces\", 'LU_shp_projected.shp')\n",
    "LU_type            = 'Developed Woodlands'\n",
    "buffer_dist_m      = Developed_Woodlands_buffer\n",
    "steep_land         = steep_land\n",
    "\n",
    "clip_da_use(maptoclip, orig_map_to_buffer, LU_type, buffer_dist_m, steep_land, iteration_num)"
   ]
  },
  {
   "cell_type": "code",
   "execution_count": null,
   "metadata": {},
   "outputs": [],
   "source": [
    "# Open Space\n",
    "iteration_num      = 4\n",
    "maptoclip          = os.path.join('.', \"WorkSpaces\\\\intermediate_LU_new_{}.shp\".format(iteration_num-1))\n",
    "orig_map_to_buffer = os.path.join('.', \"WorkSpaces\", 'LU_shp_projected.shp')\n",
    "LU_type            = 'Open Space'\n",
    "buffer_dist_m      = Open_Space_buffer\n",
    "steep_land         = steep_land\n",
    "\n",
    "clip_da_use(maptoclip, orig_map_to_buffer, LU_type, buffer_dist_m, steep_land, iteration_num)"
   ]
  },
  {
   "cell_type": "code",
   "execution_count": null,
   "metadata": {},
   "outputs": [],
   "source": [
    "# Impervious Surfaces\n",
    "iteration_num      = 5\n",
    "maptoclip          = os.path.join('.', \"WorkSpaces\\\\intermediate_LU_new_{}.shp\".format(iteration_num-1))\n",
    "orig_map_to_buffer = os.path.join('.', \"WorkSpaces\", 'LU_shp_projected.shp')\n",
    "LU_type            = 'Impervious Surfaces'\n",
    "buffer_dist_m      = Impervious_Surfaces_buffer\n",
    "steep_land         = steep_land\n",
    "\n",
    "clip_da_use(maptoclip, orig_map_to_buffer, LU_type, buffer_dist_m, steep_land, iteration_num)"
   ]
  },
  {
   "cell_type": "code",
   "execution_count": null,
   "metadata": {},
   "outputs": [],
   "source": [
    "# Buildings\n",
    "iteration_num      = 6\n",
    "maptoclip          = os.path.join('.', \"WorkSpaces\\\\intermediate_LU_new_{}.shp\".format(iteration_num-1))\n",
    "orig_map_to_buffer = os.path.join('.', \"WorkSpaces\", 'LU_shp_projected.shp')\n",
    "LU_type            = 'Buildings'\n",
    "buffer_dist_m      = Buildings_buffer\n",
    "steep_land         = steep_land\n",
    "\n",
    "clip_da_use(maptoclip, orig_map_to_buffer, LU_type, buffer_dist_m, steep_land, iteration_num)"
   ]
  },
  {
   "cell_type": "code",
   "execution_count": 20,
   "metadata": {},
   "outputs": [
    {
     "data": {
      "text/plain": [
       "<Result '.\\\\input\\\\General\\\\original_LU_grid.asc'>"
      ]
     },
     "execution_count": 20,
     "metadata": {},
     "output_type": "execute_result"
    }
   ],
   "source": [
    "\n",
    "#  Merge in the grid bound into the shapefile to create accurate grid coverage \n",
    "arcpy.Erase_analysis(Grid_shp ,maptoclip,  os.path.join('.', \"WorkSpaces\", 'LU_shp_bound.shp'))\n",
    "arcpy.Merge_management([os.path.join('.', \"WorkSpaces\", 'LU_shp_bound.shp'), maptoclip], os.path.join('.', \"WorkSpaces\", 'LU_shp_ready.shp'))\n",
    "\n",
    "# convert to raster.asc\n",
    "arcpy.PolygonToRaster_conversion(os.path.join('.', \"WorkSpaces\", 'LU_shp_ready.shp'), \"LU2\", os.path.join('.', \"WorkSpaces\", \"LU_raster\"), cell_assignment=\"MAXIMUM_AREA\",  cellsize=cel_size)\n",
    "arcpy.RasterToASCII_conversion(os.path.join('.', \"WorkSpaces\", \"LU_raster\"), os.path.join('.', \"WorkSpaces\", \"new_LU_grid.asc\"))\n",
    "\n",
    "\n",
    "\n",
    "#  Merge in the grid bound into the shapefile to create accurate grid coverage \n",
    "arcpy.Erase_analysis(Grid_shp ,orig_map_to_buffer,  os.path.join('.', \"WorkSpaces\", 'LU_shp_bound.shp'))\n",
    "arcpy.Merge_management([os.path.join('.', \"WorkSpaces\", 'LU_shp_bound.shp'), orig_map_to_buffer], os.path.join('.', \"WorkSpaces\", 'LU_shp_ready.shp'))\n",
    "\n",
    "# convert to raster.asc\n",
    "arcpy.PolygonToRaster_conversion(os.path.join('.', \"WorkSpaces\", 'LU_shp_ready.shp'), \"LU2\", os.path.join('.', \"WorkSpaces\", \"LU_raster\"), cell_assignment=\"MAXIMUM_AREA\",  cellsize=cel_size)\n",
    "arcpy.RasterToASCII_conversion(os.path.join('.', \"WorkSpaces\", \"LU_raster\"), os.path.join('.', \"WorkSpaces\", \"original_LU_grid.asc\"))"
   ]
  },
  {
   "cell_type": "code",
   "execution_count": 21,
   "metadata": {},
   "outputs": [
    {
     "data": {
      "text/plain": [
       "'.\\\\input/General'"
      ]
     },
     "execution_count": 21,
     "metadata": {},
     "output_type": "execute_result"
    }
   ],
   "source": []
  },
  {
   "cell_type": "code",
   "execution_count": null,
   "metadata": {},
   "outputs": [],
   "source": []
  },
  {
   "cell_type": "code",
   "execution_count": null,
   "metadata": {},
   "outputs": [],
   "source": []
  },
  {
   "cell_type": "code",
   "execution_count": 16,
   "metadata": {},
   "outputs": [
    {
     "name": "stdout",
     "output_type": "stream",
     "text": [
      "LU type_0 is -0.03% different\n",
      "LU type_400 is 15.12% different\n",
      "LU type_500 is -44.77% different\n",
      "LU type_700 is 207.08% different\n",
      "LU type_800 is -56.14% different\n",
      "LU type_1000 is -49.55% different\n",
      "LU type_1200 is -18.37% different\n",
      "LU type_1300 is -20.07% different\n",
      "LU type_1400 is -40.03% different\n",
      "LU type_1500 is -2.44% different\n",
      "LU type_1600 is -2.48% different\n",
      "LU type_1700 is -32.01% different\n",
      "LU type_2100 is 0.00% different\n"
     ]
    }
   ],
   "source": [
    "arr = arcpy.RasterToNumPyArray(os.path.join('.', \"WorkSpaces\", \"original_LU_grid.asc\"),  nodata_to_value=-999)\n",
    "unique, counts = np.unique(arr, return_counts=True)\n",
    "arr_stats_original = np.asarray((unique, counts)).T\n",
    "\n",
    "arr = arcpy.RasterToNumPyArray(os.path.join('.', \"WorkSpaces\", \"new_LU_grid.asc\"),  nodata_to_value=-999)\n",
    "unique, counts = np.unique(arr, return_counts=True)\n",
    "arr_stats_new = np.asarray((unique, counts)).T\n",
    "\n",
    "for idx, val in enumerate(arr_stats_original):\n",
    "    oabs = arr_stats_original[idx][1]\n",
    "    nabs = arr_stats_new[idx][1]\n",
    "    \n",
    "    pctchange = ((nabs/oabs)-1)*100\n",
    "    print(\"LU type_{:.0f} is {:.2f}% different\".format(val[0], pctchange))\n",
    "   \n",
    "    "
   ]
  },
  {
   "cell_type": "code",
   "execution_count": 19,
   "metadata": {},
   "outputs": [
    {
     "data": {
      "text/html": [
       "<div>\n",
       "<style scoped>\n",
       "    .dataframe tbody tr th:only-of-type {\n",
       "        vertical-align: middle;\n",
       "    }\n",
       "\n",
       "    .dataframe tbody tr th {\n",
       "        vertical-align: top;\n",
       "    }\n",
       "\n",
       "    .dataframe thead th {\n",
       "        text-align: right;\n",
       "    }\n",
       "</style>\n",
       "<table border=\"1\" class=\"dataframe\">\n",
       "  <thead>\n",
       "    <tr style=\"text-align: right;\">\n",
       "      <th></th>\n",
       "      <th>Tutuila Description</th>\n",
       "      <th>Land Use Code</th>\n",
       "    </tr>\n",
       "  </thead>\n",
       "  <tbody>\n",
       "    <tr>\n",
       "      <th>0</th>\n",
       "      <td>Cultivated Land</td>\n",
       "      <td>400</td>\n",
       "    </tr>\n",
       "    <tr>\n",
       "      <th>1</th>\n",
       "      <td>Agroforest</td>\n",
       "      <td>500</td>\n",
       "    </tr>\n",
       "    <tr>\n",
       "      <th>2</th>\n",
       "      <td>Open Space</td>\n",
       "      <td>700</td>\n",
       "    </tr>\n",
       "    <tr>\n",
       "      <th>3</th>\n",
       "      <td>Developed Woodlands</td>\n",
       "      <td>800</td>\n",
       "    </tr>\n",
       "    <tr>\n",
       "      <th>4</th>\n",
       "      <td>Buildings, Impervious Surfaces</td>\n",
       "      <td>1000</td>\n",
       "    </tr>\n",
       "    <tr>\n",
       "      <th>5</th>\n",
       "      <td>Marsh, Mangroves, Swamp</td>\n",
       "      <td>1200</td>\n",
       "    </tr>\n",
       "    <tr>\n",
       "      <th>6</th>\n",
       "      <td>Landslips/Clearcuts, Landfill, Quarries and Gr...</td>\n",
       "      <td>1300</td>\n",
       "    </tr>\n",
       "    <tr>\n",
       "      <th>7</th>\n",
       "      <td>Grassland/Herbaceous</td>\n",
       "      <td>1400</td>\n",
       "    </tr>\n",
       "    <tr>\n",
       "      <th>8</th>\n",
       "      <td>Upland Scrub, Coastal Scrub</td>\n",
       "      <td>1500</td>\n",
       "    </tr>\n",
       "    <tr>\n",
       "      <th>9</th>\n",
       "      <td>Lowland Rainforest, Coastal Forest</td>\n",
       "      <td>1600</td>\n",
       "    </tr>\n",
       "    <tr>\n",
       "      <th>10</th>\n",
       "      <td>Successional Scrub Vegetation</td>\n",
       "      <td>1700</td>\n",
       "    </tr>\n",
       "    <tr>\n",
       "      <th>11</th>\n",
       "      <td>Montane Rainforest</td>\n",
       "      <td>2100</td>\n",
       "    </tr>\n",
       "  </tbody>\n",
       "</table>\n",
       "</div>"
      ],
      "text/plain": [
       "                                  Tutuila Description  Land Use Code\n",
       "0                                     Cultivated Land            400\n",
       "1                                          Agroforest            500\n",
       "2                                          Open Space            700\n",
       "3                                 Developed Woodlands            800\n",
       "4                      Buildings, Impervious Surfaces           1000\n",
       "5                             Marsh, Mangroves, Swamp           1200\n",
       "6   Landslips/Clearcuts, Landfill, Quarries and Gr...           1300\n",
       "7                                Grassland/Herbaceous           1400\n",
       "8                         Upland Scrub, Coastal Scrub           1500\n",
       "9                  Lowland Rainforest, Coastal Forest           1600\n",
       "10                      Successional Scrub Vegetation           1700\n",
       "11                                 Montane Rainforest           2100"
      ]
     },
     "execution_count": 19,
     "metadata": {},
     "output_type": "execute_result"
    }
   ],
   "source": [
    "LK = pd.read_csv(os.path.join(GIS_FOLDER, 'Land_use', 'Lookup_num_to_name.csv'))\n",
    "LK\n"
   ]
  },
  {
   "cell_type": "code",
   "execution_count": 22,
   "metadata": {},
   "outputs": [
    {
     "name": "stdout",
     "output_type": "stream",
     "text": [
      "LU type_0 is -0.03% different\n",
      "LU type_400 is 15.12% different\n",
      "LU type_500 is -44.77% different\n",
      "LU type_700 is 207.08% different\n",
      "LU type_800 is -56.14% different\n",
      "LU type_1000 is -49.55% different\n",
      "LU type_1200 is -18.37% different\n",
      "LU type_1300 is -20.07% different\n",
      "LU type_1400 is -40.03% different\n",
      "LU type_1500 is -2.44% different\n",
      "LU type_1600 is -2.48% different\n",
      "LU type_1700 is -32.01% different\n",
      "LU type_2100 is 0.00% different\n"
     ]
    }
   ],
   "source": [
    "LU type_0 is -0.03% different\n",
    "LU type_400 is 15.12% different\n",
    "LU type_500 is -44.77% different\n",
    "LU type_700 is 207.08% different\n",
    "LU type_800 is -56.14% different\n",
    "LU type_1000 is -49.55% different\n",
    "LU type_1200 is -18.37% different\n",
    "LU type_1300 is -20.07% different\n",
    "LU type_1400 is -40.03% different\n",
    "LU type_1500 is -2.44% different\n",
    "LU type_1600 is -2.48% different\n",
    "LU type_1700 is -32.01% different\n",
    "LU type_2100 is 0.00% different"
   ]
  },
  {
   "cell_type": "code",
   "execution_count": null,
   "metadata": {},
   "outputs": [],
   "source": []
  }
 ],
 "metadata": {
  "kernelspec": {
   "display_name": "Python 3",
   "language": "python",
   "name": "python3"
  },
  "language_info": {
   "codemirror_mode": {
    "name": "ipython",
    "version": 3
   },
   "file_extension": ".py",
   "mimetype": "text/x-python",
   "name": "python",
   "nbconvert_exporter": "python",
   "pygments_lexer": "ipython3",
   "version": "3.8.0"
  }
 },
 "nbformat": 4,
 "nbformat_minor": 2
}
