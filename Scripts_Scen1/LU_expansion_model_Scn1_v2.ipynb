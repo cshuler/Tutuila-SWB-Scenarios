{
 "cells": [
  {
   "cell_type": "code",
   "execution_count": 1,
   "metadata": {},
   "outputs": [
    {
     "data": {
      "text/html": [
       " <style>\n",
       "    div#notebook-container    { width: 95%; }\n",
       "    div#menubar-container     { width: 85%; }\n",
       "    div#maintoolbar-container { width: 99%; } </style> "
      ],
      "text/plain": [
       "<IPython.core.display.HTML object>"
      ]
     },
     "metadata": {},
     "output_type": "display_data"
    }
   ],
   "source": [
    "# make the screen bigger!\n",
    "from IPython.display import display, HTML\n",
    "display(HTML(data=\"\"\" <style>\n",
    "    div#notebook-container    { width: 95%; }\n",
    "    div#menubar-container     { width: 85%; }\n",
    "    div#maintoolbar-container { width: 99%; } </style> \"\"\"))\n",
    "\n",
    "import numpy as np\n",
    "import arcpy\n",
    "import os\n",
    "from arcpy.sa import *\n",
    "import pandas as pd\n",
    "#import gdal\n",
    "from arcpy import env\n",
    "\n",
    "arcpy.env.overwriteOutput = True # make sure overwrite files is on\n",
    "\n",
    "cel_size = 5     # in m   Note that a cell size any smaller than 5 is going to push the files over the 100 mb limit on Github\n",
    "# projection definition \n",
    "sr_project = arcpy.SpatialReference(32702)   # Project dataset into WGS84\n",
    "\n",
    "# LU Dictionary for later\n",
    "\n",
    "Lukeys = {400:'Cultivated_Land', \n",
    "500:'Agroforest', \n",
    "700:'Open_Space', \n",
    "800:'Developed_Woodlands', \n",
    "1000:'Buildings', \n",
    "1000:'Impervious_Surfaces', \n",
    "1200:'Mangroves', \n",
    "1300:'Exposed_Rock', \n",
    "1400:'Grassland', \n",
    "1500:'Upland_Scrub', \n",
    "1600:'Lowland_Rainforest', \n",
    "1700:'Successional_Scrub', \n",
    "2100:'Montane_Rainforest', \n",
    "-999:\"no Data\",0:\"no Data\"}"
   ]
  },
  {
   "cell_type": "code",
   "execution_count": 2,
   "metadata": {
    "collapsed": true
   },
   "outputs": [],
   "source": [
    "GIS_FOLDER = os.path.join('..', 'Raw_GIS_Data')\n",
    "\n",
    "# path to the grid bound\n",
    "Grid_shp = os.path.join(GIS_FOLDER, 'grid_bound.shp')\n",
    "\n",
    "if not os.path.exists(os.path.join('.', 'output//')):\n",
    "    os.makedirs(os.path.join('.', 'output//'))\n",
    "                        \n",
    "if not os.path.exists(os.path.join('.', 'output//Figures//')):\n",
    "    os.makedirs(os.path.join('.', 'output//Figures//'))\n",
    "fig_path =  (os.path.join('.', 'output//Figures//'))\n",
    "\n",
    "if not os.path.exists(os.path.join('.', \"WorkSpaces\")):\n",
    "    os.makedirs(os.path.join('.', \"WorkSpaces\"))\n",
    "workspace =  os.path.join('.', \"WorkSpaces\")\n",
    "\n",
    "# define where the land is too steep to build\n",
    "steep_land = os.path.join(GIS_FOLDER, 'Slopes', 'steep_land_25deg.shp')"
   ]
  },
  {
   "cell_type": "code",
   "execution_count": 14,
   "metadata": {
    "collapsed": true
   },
   "outputs": [],
   "source": [
    "\"\"\" This is the function that selects a land use, then bufferes it, then adds it back to the map. It will be repeated below for multiple nested land uses\n",
    "\n",
    "    maptoclip is the working version of the land use map, on iteration 1 its the original map, then its the ones that have the buffered areas added in incrementally\n",
    "    orig_map_to_buffer is the original unadulterated map\n",
    "    LU_type is the land use getting worked on each iteration\n",
    "    buffer_dist_m isthe distance of buffering to change, main parameter to modify\n",
    "\"\"\"\n",
    "\n",
    "def clip_da_use(maptoclip, orig_map_to_buffer, LU_type, buffer_dist_m, steep_land, iteration_num):\n",
    "    \n",
    "    tempselect = os.path.join(workspace, \"temp.shp\") \n",
    "    tempbuffer = os.path.join(workspace, \"temp_buffer.shp\")\n",
    "    buffer_clipped_slopes = os.path.join(workspace, \"temp_buffer_clipped.shp\")\n",
    "    clipped_Map = os.path.join(workspace, \"LU_shp_erased.shp\")\n",
    "    output_file = os.path.join(workspace, \"intermediate_LU_new_{}.shp\".format(iteration_num))\n",
    "    \n",
    "    # Buffer the features of interest\n",
    "    arcpy.Select_analysis(orig_map_to_buffer, tempselect, \"LBLCLASS = '{}'\".format(LU_type))     # select just the LU type desired save as tempselect.shp\n",
    "    arcpy.Buffer_analysis(tempselect, tempbuffer, buffer_dist_m, dissolve_option=\"NONE\")         # Make a tenporary buffer file of that land use bit \n",
    "    arcpy.RepairGeometry_management(tempbuffer)                                                  # fix broken things\n",
    "    \n",
    "    # erase out areas where there are large slopes\n",
    "    arcpy.Erase_analysis(tempbuffer, steep_land,  buffer_clipped_slopes)              \n",
    "    \n",
    "    # erase out the new cultivated land zones\n",
    "    arcpy.Erase_analysis(maptoclip, buffer_clipped_slopes, clipped_Map)    \n",
    "    \n",
    "    # add the new land use type back to the big LU map \n",
    "    arcpy.Merge_management([buffer_clipped_slopes, clipped_Map], output_file)"
   ]
  },
  {
   "cell_type": "code",
   "execution_count": null,
   "metadata": {
    "collapsed": true
   },
   "outputs": [],
   "source": [
    "LU -999 does not exist in one coverage\n",
    "LU type_0, no Data, is 0.08% different\n",
    "LU type_400, Cultivated_Land, is 7.11% different\n",
    "LU type_500, Agroforest, is 43.88% different\n",
    "LU type_700, Open_Space, is -12.89% different\n",
    "LU type_800, Developed_Woodlands, is -62.80% different\n",
    "LU type_1000, Impervious_Surfaces, is 96.45% different\n",
    "LU type_1200, Mangroves, is 219.24% different\n",
    "LU type_1300, Exposed_Rock, is -30.79% different\n",
    "LU type_1400, Grassland, is -46.72% different\n",
    "LU type_1500, Upland_Scrub, is -9.91% different\n",
    "LU type_1600, Lowland_Rainforest, is -7.15% different\n",
    "LU type_1700, Successional_Scrub, is -34.05% different\n",
    "LU type_2100, Montane_Rainforest, is -0.63% different"
   ]
  },
  {
   "cell_type": "code",
   "execution_count": 15,
   "metadata": {
    "collapsed": true
   },
   "outputs": [],
   "source": [
    "# hyperparameters\n",
    "Agroforest_buffer = 55\n",
    "Cultivated_Land_buffer = 3\n",
    "Developed_Woodlands_buffer = 5\n",
    "Open_Space_buffer = 5\n",
    "Impervious_Surfaces_buffer = 6 \n",
    "Buildings_buffer = 5\n",
    "\n",
    "LU_list =         ['Agroforest',      'Cultivated_Land',     'Developed_Woodlands',      'Open_Space',      'Impervious_Surfaces',      'Buildings']\n",
    "bufferdist_list = [Agroforest_buffer, Cultivated_Land_buffer, Developed_Woodlands_buffer, Open_Space_buffer, Impervious_Surfaces_buffer, Buildings_buffer]"
   ]
  },
  {
   "cell_type": "code",
   "execution_count": 16,
   "metadata": {
    "scrolled": true
   },
   "outputs": [
    {
     "name": "stdout",
     "output_type": "stream",
     "text": [
      "Working on shed No. 0..................................................\n",
      "now buffering Agroforest\n",
      "now buffering Cultivated_Land\n",
      "now buffering Developed_Woodlands\n",
      "now buffering Open_Space\n",
      "now buffering Impervious_Surfaces\n",
      "now buffering Buildings\n",
      "Working on shed No. 1..................................................\n",
      "now buffering Agroforest\n",
      "now buffering Cultivated_Land\n",
      "now buffering Developed_Woodlands\n",
      "now buffering Open_Space\n",
      "now buffering Impervious_Surfaces\n",
      "now buffering Buildings\n",
      "Working on shed No. 2..................................................\n",
      "now buffering Agroforest\n",
      "now buffering Cultivated_Land\n",
      "now buffering Developed_Woodlands\n",
      "now buffering Open_Space\n",
      "now buffering Impervious_Surfaces\n",
      "now buffering Buildings\n",
      "Working on shed No. 3..................................................\n",
      "now buffering Agroforest\n",
      "now buffering Cultivated_Land\n",
      "now buffering Developed_Woodlands\n",
      "now buffering Open_Space\n",
      "now buffering Impervious_Surfaces\n",
      "now buffering Buildings\n",
      "Working on shed No. 4..................................................\n",
      "now buffering Agroforest\n",
      "now buffering Cultivated_Land\n",
      "now buffering Developed_Woodlands\n",
      "now buffering Open_Space\n",
      "now buffering Impervious_Surfaces\n",
      "now buffering Buildings\n",
      "Working on shed No. 5..................................................\n",
      "now buffering Agroforest\n",
      "now buffering Cultivated_Land\n",
      "now buffering Developed_Woodlands\n",
      "now buffering Open_Space\n",
      "now buffering Impervious_Surfaces\n",
      "now buffering Buildings\n",
      "Working on shed No. 6..................................................\n",
      "now buffering Agroforest\n",
      "now buffering Cultivated_Land\n",
      "now buffering Developed_Woodlands\n",
      "now buffering Open_Space\n",
      "now buffering Impervious_Surfaces\n",
      "now buffering Buildings\n",
      "Working on shed No. 7..................................................\n",
      "now buffering Agroforest\n",
      "now buffering Cultivated_Land\n",
      "now buffering Developed_Woodlands\n",
      "now buffering Open_Space\n",
      "now buffering Impervious_Surfaces\n",
      "now buffering Buildings\n",
      "Working on shed No. 8..................................................\n",
      "now buffering Agroforest\n",
      "now buffering Cultivated_Land\n",
      "now buffering Developed_Woodlands\n",
      "now buffering Open_Space\n",
      "now buffering Impervious_Surfaces\n",
      "now buffering Buildings\n",
      "Working on shed No. 9..................................................\n",
      "now buffering Agroforest\n",
      "now buffering Cultivated_Land\n",
      "now buffering Developed_Woodlands\n",
      "now buffering Open_Space\n",
      "now buffering Impervious_Surfaces\n",
      "now buffering Buildings\n",
      "Working on shed No. 10..................................................\n",
      "now buffering Agroforest\n",
      "now buffering Cultivated_Land\n",
      "now buffering Developed_Woodlands\n",
      "now buffering Open_Space\n",
      "now buffering Impervious_Surfaces\n",
      "now buffering Buildings\n",
      "Working on shed No. 11..................................................\n",
      "now buffering Agroforest\n",
      "now buffering Cultivated_Land\n",
      "now buffering Developed_Woodlands\n",
      "now buffering Open_Space\n",
      "now buffering Impervious_Surfaces\n",
      "now buffering Buildings\n",
      "Working on shed No. 12..................................................\n",
      "now buffering Agroforest\n",
      "now buffering Cultivated_Land\n",
      "now buffering Developed_Woodlands\n",
      "now buffering Open_Space\n",
      "now buffering Impervious_Surfaces\n",
      "now buffering Buildings\n",
      "Working on shed No. 13..................................................\n",
      "now buffering Agroforest\n",
      "now buffering Cultivated_Land\n",
      "now buffering Developed_Woodlands\n",
      "now buffering Open_Space\n",
      "now buffering Impervious_Surfaces\n",
      "now buffering Buildings\n",
      "Working on shed No. 14..................................................\n",
      "now buffering Agroforest\n",
      "now buffering Cultivated_Land\n",
      "now buffering Developed_Woodlands\n",
      "now buffering Open_Space\n",
      "now buffering Impervious_Surfaces\n",
      "now buffering Buildings\n",
      "Working on shed No. 15..................................................\n",
      "now buffering Agroforest\n",
      "now buffering Cultivated_Land\n",
      "now buffering Developed_Woodlands\n",
      "now buffering Open_Space\n",
      "now buffering Impervious_Surfaces\n",
      "now buffering Buildings\n",
      "Working on shed No. 16..................................................\n",
      "now buffering Agroforest\n",
      "now buffering Cultivated_Land\n",
      "now buffering Developed_Woodlands\n",
      "now buffering Open_Space\n",
      "now buffering Impervious_Surfaces\n",
      "now buffering Buildings\n",
      "Working on shed No. 17..................................................\n",
      "now buffering Agroforest\n",
      "now buffering Cultivated_Land\n",
      "now buffering Developed_Woodlands\n",
      "now buffering Open_Space\n",
      "now buffering Impervious_Surfaces\n",
      "now buffering Buildings\n",
      "Working on shed No. 18..................................................\n",
      "now buffering Agroforest\n",
      "now buffering Cultivated_Land\n",
      "now buffering Developed_Woodlands\n",
      "now buffering Open_Space\n",
      "now buffering Impervious_Surfaces\n",
      "now buffering Buildings\n",
      "Working on shed No. 19..................................................\n",
      "now buffering Agroforest\n",
      "now buffering Cultivated_Land\n",
      "now buffering Developed_Woodlands\n",
      "now buffering Open_Space\n",
      "now buffering Impervious_Surfaces\n",
      "now buffering Buildings\n",
      "Working on shed No. 20..................................................\n",
      "now buffering Agroforest\n",
      "now buffering Cultivated_Land\n",
      "now buffering Developed_Woodlands\n",
      "now buffering Open_Space\n",
      "now buffering Impervious_Surfaces\n",
      "now buffering Buildings\n",
      "Working on shed No. 21..................................................\n",
      "now buffering Agroforest\n",
      "now buffering Cultivated_Land\n",
      "now buffering Developed_Woodlands\n",
      "now buffering Open_Space\n",
      "now buffering Impervious_Surfaces\n",
      "now buffering Buildings\n",
      "Working on shed No. 22..................................................\n",
      "now buffering Agroforest\n",
      "now buffering Cultivated_Land\n",
      "now buffering Developed_Woodlands\n",
      "now buffering Open_Space\n",
      "now buffering Impervious_Surfaces\n",
      "now buffering Buildings\n",
      "Working on shed No. 23..................................................\n",
      "now buffering Agroforest\n",
      "now buffering Cultivated_Land\n",
      "now buffering Developed_Woodlands\n",
      "now buffering Open_Space\n",
      "now buffering Impervious_Surfaces\n",
      "now buffering Buildings\n",
      "Working on shed No. 24..................................................\n",
      "now buffering Agroforest\n",
      "now buffering Cultivated_Land\n",
      "now buffering Developed_Woodlands\n",
      "now buffering Open_Space\n",
      "now buffering Impervious_Surfaces\n",
      "now buffering Buildings\n",
      "Working on shed No. 25..................................................\n",
      "now buffering Agroforest\n",
      "now buffering Cultivated_Land\n",
      "now buffering Developed_Woodlands\n",
      "now buffering Open_Space\n",
      "now buffering Impervious_Surfaces\n",
      "now buffering Buildings\n",
      "Working on shed No. 26..................................................\n",
      "now buffering Agroforest\n",
      "now buffering Cultivated_Land\n",
      "now buffering Developed_Woodlands\n",
      "now buffering Open_Space\n",
      "now buffering Impervious_Surfaces\n",
      "now buffering Buildings\n",
      "Working on shed No. 27..................................................\n",
      "now buffering Agroforest\n",
      "now buffering Cultivated_Land\n",
      "now buffering Developed_Woodlands\n",
      "now buffering Open_Space\n",
      "now buffering Impervious_Surfaces\n",
      "now buffering Buildings\n",
      "Working on shed No. 28..................................................\n",
      "now buffering Agroforest\n",
      "now buffering Cultivated_Land\n",
      "now buffering Developed_Woodlands\n",
      "now buffering Open_Space\n",
      "now buffering Impervious_Surfaces\n",
      "now buffering Buildings\n",
      "Working on shed No. 29..................................................\n",
      "now buffering Agroforest\n",
      "now buffering Cultivated_Land\n",
      "now buffering Developed_Woodlands\n",
      "now buffering Open_Space\n",
      "now buffering Impervious_Surfaces\n",
      "now buffering Buildings\n",
      "Working on shed No. 30..................................................\n",
      "now buffering Agroforest\n",
      "now buffering Cultivated_Land\n",
      "now buffering Developed_Woodlands\n",
      "now buffering Open_Space\n",
      "now buffering Impervious_Surfaces\n",
      "now buffering Buildings\n",
      "Working on shed No. 31..................................................\n",
      "now buffering Agroforest\n",
      "now buffering Cultivated_Land\n",
      "now buffering Developed_Woodlands\n",
      "now buffering Open_Space\n",
      "now buffering Impervious_Surfaces\n",
      "now buffering Buildings\n",
      "Working on shed No. 32..................................................\n",
      "now buffering Agroforest\n",
      "now buffering Cultivated_Land\n",
      "now buffering Developed_Woodlands\n",
      "now buffering Open_Space\n",
      "now buffering Impervious_Surfaces\n",
      "now buffering Buildings\n"
     ]
    }
   ],
   "source": [
    "# Buffer each land use to expand it respective to the hyperparameters in the cells above\n",
    "\n",
    "for shed in range(0,33):                          # for each of the watershed clips\n",
    "    print(\"Working on shed No. {}..................................................\".format(shed))\n",
    "    \n",
    "    # Reset the starting map to the new watershed \n",
    "    arcpy.CopyFeatures_management(os.path.join(GIS_FOLDER, \"Land_use\", \"Split_into_watersheds\", 'Shed_fragments', 'LU_simp3_clipped_{}.shp'.format(shed)), os.path.join(workspace, \"intermediate_LU_new_0.shp\"))\n",
    "\n",
    "    Original_Map = os.path.join(workspace, 'intermediate_LU_new_0.shp')    # this is just for shorter syntax on calling the original map\n",
    "\n",
    "    for iteration_num in range(1,7):        # for each of the land use classes we want to buffer on  (references the lists above)\n",
    "        maptoclip          = os.path.join(workspace, \"intermediate_LU_new_{}.shp\".format(iteration_num-1))  # this is where you put in the map from the last iteration\n",
    "        orig_map_to_buffer = Original_Map\n",
    "        LU_type            = LU_list[iteration_num-1]\n",
    "        buffer_dist_m      = bufferdist_list[iteration_num-1]\n",
    "        print(\"now buffering {}\".format(LU_type))\n",
    "\n",
    "        clip_da_use(maptoclip, orig_map_to_buffer, LU_type, buffer_dist_m, steep_land, iteration_num)   # run the clip buffer erase merge function\n",
    "\n",
    "    # trim off any excess that has spilled out of the watershed\n",
    "    arcpy.Clip_analysis(os.path.join(workspace, \"intermediate_LU_new_6.shp\"), Original_Map, os.path.join(workspace, \"Finished_LU_{}.shp\".format(shed)))\n",
    "\n",
    "# Merge all the litte buffered watershed ones together\n",
    "# Create 99, the final merged set\n",
    "arcpy.CopyFeatures_management(os.path.join(workspace, 'Finished_LU_0.shp'), os.path.join(workspace, \"Finished_LU_99.shp\"))\n",
    "for p in range(1,33):\n",
    "    arcpy.Append_management(os.path.join(workspace, 'Finished_LU_{}.shp'.format(p)), os.path.join(workspace, \"Finished_LU_99.shp\"))  #agregate function"
   ]
  },
  {
   "cell_type": "code",
   "execution_count": 17,
   "metadata": {},
   "outputs": [
    {
     "name": "stdout",
     "output_type": "stream",
     "text": [
      "success\n"
     ]
    },
    {
     "data": {
      "text/plain": [
       "<Result '.\\\\WorkSpaces\\\\Finished_LU_99.shp'>"
      ]
     },
     "execution_count": 17,
     "metadata": {},
     "output_type": "execute_result"
    }
   ],
   "source": [
    "# Step added in to merge the new Aasu land use with the new bufferred land use file\n",
    "# erase out new area from buffered islandwide land use\n",
    "arcpy.Erase_analysis(os.path.join(workspace, \"Finished_LU_99.shp\"), os.path.join(GIS_FOLDER, 'LU_Scenarios', 'New_land_use500m.shp'),  os.path.join(workspace, \"temp2.shp\"))              \n",
    "print(\"success\")\n",
    "# add the new land use  back to the big LU map \n",
    "arcpy.Merge_management([os.path.join(workspace, \"temp2.shp\"), os.path.join(GIS_FOLDER, 'LU_Scenarios', 'New_land_use500m.shp')], os.path.join(workspace, \"Finished_LU_99.shp\"))"
   ]
  },
  {
   "cell_type": "code",
   "execution_count": 18,
   "metadata": {},
   "outputs": [
    {
     "data": {
      "text/plain": [
       "<Result '.\\\\WorkSpaces\\\\Finished_LU_99.shp'>"
      ]
     },
     "execution_count": 18,
     "metadata": {},
     "output_type": "execute_result"
    }
   ],
   "source": [
    "# add in efects of sea level rise based on 3 ft scenario (see references folder in github)   (from https://coast.noaa.gov/slrdata/)\n",
    "# in short this finds ares affected by 3ft SLR then turns them from other land uses to mangroves except if they were originally coastal bare rock, in which case it turns them back to bare rock\n",
    "  \n",
    "# first create a shapefile of wherer there is unconsolidated shore overlapped by SLR\n",
    "\n",
    "# buffer the coastline by 250 m\n",
    "arcpy.Buffer_analysis(os.path.join(GIS_FOLDER, \"SLR\", \"Present_day_coastline.shp\"), os.path.join(workspace, \"temp_buffer2.shp\"), 250, dissolve_option=\"ALL\") \n",
    "# select the rocky areas from the orignal LU map\n",
    "arcpy.Select_analysis(os.path.join(GIS_FOLDER, 'Land_use',  'LU_Big_simp_3.shp'), os.path.join(workspace, \"temp2.shp\"), '\"LBLCLASS\" = \\'Exposed_Rock\\'')\n",
    "# get only the rock coastal areas \n",
    "arcpy.Intersect_analysis([os.path.join(workspace, \"temp2.shp\"), os.path.join(workspace, \"temp_buffer2.shp\")], os.path.join(workspace, \"temp_Coastal_ROck.shp\"), \"ALL\")\n",
    "\n",
    "# Now take the final result from the big LU buffering process and clip out  ALLL areas where SLR will impact and turn them into mangroves\n",
    "\n",
    "arcpy.Erase_analysis(os.path.join(workspace, \"Finished_LU_99.shp\"), os.path.join(GIS_FOLDER, 'SLR', \"AS_Tutuila_SLR_3ft_man_Dissolve.shp\"), os.path.join(workspace, \"tempSLR.shp\"))\n",
    "# add the new mangrove areas back to the big LU map \n",
    "arcpy.Merge_management([os.path.join(workspace, \"tempSLR.shp\"), os.path.join(GIS_FOLDER, 'SLR', \"AS_Tutuila_SLR_3ft_man_Dissolve.shp\")], os.path.join(workspace, \"Finished_LU_99.shp\"))\n",
    "\n",
    "# Finally clip out the new mangrove areas that were on top of coastal rock and make them coasta rock once again.\n",
    "arcpy.Erase_analysis(os.path.join(workspace, \"Finished_LU_99.shp\"), os.path.join(workspace, \"temp_Coastal_ROck.shp\"), os.path.join(workspace, \"tempRock2wholeI.shp\"))\n",
    "# add the new mangrove areas back to the big LU map \n",
    "arcpy.Merge_management([os.path.join(workspace, \"tempRock2wholeI.shp\"), os.path.join(workspace, \"temp_Coastal_ROck.shp\")], os.path.join(workspace, \"Finished_LU_99.shp\"))"
   ]
  },
  {
   "cell_type": "code",
   "execution_count": 4,
   "metadata": {},
   "outputs": [
    {
     "name": "stdout",
     "output_type": "stream",
     "text": [
      "LU -999 does not exist in one coverage\n",
      "LU type_0, no Data, is 0.08% different from 563.68 km2 to 564.11 km2\n",
      "LU type_400, Cultivated_Land, is 7.11% different from 10.97 km2 to 11.76 km2\n",
      "LU type_500, Agroforest, is 43.88% different from 8.17 km2 to 11.75 km2\n",
      "LU type_700, Open_Space, is -12.89% different from 6.87 km2 to 5.99 km2\n",
      "LU type_800, Developed_Woodlands, is -62.80% different from 5.26 km2 to 1.96 km2\n",
      "LU type_1000, Impervious_Surfaces, is 96.45% different from 8.33 km2 to 16.37 km2\n",
      "LU type_1200, Mangroves, is 219.24% different from 0.35 km2 to 1.12 km2\n",
      "LU type_1300, Exposed_Rock, is -30.79% different from 2.13 km2 to 1.47 km2\n",
      "LU type_1400, Grassland, is -46.72% different from 1.79 km2 to 0.95 km2\n",
      "LU type_1500, Upland_Scrub, is -9.91% different from 1.41 km2 to 1.27 km2\n",
      "LU type_1600, Lowland_Rainforest, is -7.15% different from 85.86 km2 to 79.72 km2\n",
      "LU type_1700, Successional_Scrub, is -34.05% different from 4.83 km2 to 3.19 km2\n",
      "LU type_2100, Montane_Rainforest, is -0.63% different from 0.34 km2 to 0.34 km2\n"
     ]
    }
   ],
   "source": [
    "# Ultimately this should be run on the re-merged together shapefile of all watersheds\n",
    "\n",
    "# This converts the original and the new coverage to rasters to run the percentage calculation stats\n",
    "\n",
    "# just give a link to the shapefile of major watersheds\n",
    "Origlandusefile = os.path.join(GIS_FOLDER, 'Land_use',  'LU_Big_simp_3.shp')\n",
    "#  Merge in the grid boundary into the finished shapefile to create accurate grid coverage \n",
    "arcpy.Erase_analysis(Grid_shp, os.path.join(workspace, \"Finished_LU_99.shp\"),  os.path.join(workspace, 'LU_shp_bound.shp'))\n",
    "arcpy.Merge_management([os.path.join(workspace, 'LU_shp_bound.shp'), os.path.join(workspace, \"Finished_LU_99.shp\")], os.path.join(workspace, 'LU_shp_ready.shp'))\n",
    "\n",
    "# convert to raster.asc\n",
    "arcpy.PolygonToRaster_conversion(os.path.join(workspace, 'LU_shp_ready.shp'), \"LU2\", os.path.join(workspace, \"LU_raster\"), cell_assignment=\"MAXIMUM_AREA\",  cellsize=cel_size)\n",
    "arcpy.RasterToASCII_conversion(os.path.join(workspace, \"LU_raster\"), os.path.join(workspace, \"new_LU_grid.asc\"))\n",
    "\n",
    "# this deos the same with the original one for comparison\n",
    "#  Merge in the grid bound into the shapefile to create accurate grid coverage \n",
    "arcpy.Erase_analysis(Grid_shp, Origlandusefile,  os.path.join(workspace, 'LU_shp_bound.shp'))\n",
    "arcpy.Merge_management([os.path.join(workspace, 'LU_shp_bound.shp'), Origlandusefile], os.path.join(workspace, 'LU_shp_ready.shp'))\n",
    "\n",
    "# convert to raster.asc\n",
    "arcpy.PolygonToRaster_conversion(os.path.join(workspace, 'LU_shp_ready.shp'), \"LU2\", os.path.join(workspace, \"LU_raster\"), cell_assignment=\"MAXIMUM_AREA\",  cellsize=cel_size)\n",
    "arcpy.RasterToASCII_conversion(os.path.join(workspace, \"LU_raster\"), os.path.join(workspace, \"original_LU_grid.asc\"))\n",
    "\n",
    "arr = arcpy.RasterToNumPyArray(os.path.join(workspace, \"original_LU_grid.asc\"),  nodata_to_value=-999)\n",
    "unique, counts = np.unique(arr, return_counts=True)\n",
    "arr_stats_original = np.asarray((unique, counts)).T\n",
    "\n",
    "arr = arcpy.RasterToNumPyArray(os.path.join(workspace, \"new_LU_grid.asc\"),  nodata_to_value=-999)\n",
    "unique, counts = np.unique(arr, return_counts=True)\n",
    "arr_stats_new = np.asarray((unique, counts)).T\n",
    "\n",
    "# this takes the cell counts for each land use type in the new and old rasters and compares them percentage-wise\n",
    "new_dic = {}; old_dic = {}\n",
    "for i in arr_stats_new: \n",
    "    new_dic[i[0]] = i[1]\n",
    "for i in arr_stats_original: \n",
    "    old_dic[i[0]] = i[1]\n",
    "    \n",
    "for i in old_dic:\n",
    "    try:     \n",
    "        oabs = old_dic[i]\n",
    "        nabs = new_dic[i]\n",
    "        pctchange = ((nabs/oabs)-1)*100\n",
    "        oldarea = oabs*25*0.000001\n",
    "        newarea = nabs*25*0.000001\n",
    "        print(\"LU type_{:.0f}, {}, is {:.2f}% different from {:.2f} km2 to {:.2f} km2\".format(i, Lukeys[i], pctchange, oldarea, newarea))\n",
    "    except:\n",
    "        print(\"LU {} does not exist in one coverage\".format(i))"
   ]
  },
  {
   "cell_type": "code",
   "execution_count": null,
   "metadata": {
    "collapsed": true
   },
   "outputs": [],
   "source": [
    "LOG \n",
    "\n",
    "LU -999 does not exist in one coverage\n",
    "LU type_0, no Data, is 0.08% different\n",
    "LU type_400, Cultivated_Land, is 7.11% different\n",
    "LU type_500, Agroforest, is 43.88% different\n",
    "LU type_700, Open_Space, is -12.89% different\n",
    "LU type_800, Developed_Woodlands, is -62.80% different\n",
    "LU type_1000, Impervious_Surfaces, is 96.45% different\n",
    "LU type_1200, Mangroves, is 219.24% different\n",
    "LU type_1300, Exposed_Rock, is -30.79% different\n",
    "LU type_1400, Grassland, is -46.72% different\n",
    "LU type_1500, Upland_Scrub, is -9.91% different\n",
    "LU type_1600, Lowland_Rainforest, is -7.15% different\n",
    "LU type_1700, Successional_Scrub, is -34.05% different\n",
    "LU type_2100, Montane_Rainforest, is -0.63% different"
   ]
  },
  {
   "cell_type": "code",
   "execution_count": 8,
   "metadata": {},
   "outputs": [
    {
     "data": {
      "text/plain": [
       "6.140000000000001"
      ]
     },
     "execution_count": 8,
     "metadata": {},
     "output_type": "execute_result"
    }
   ],
   "source": [
    "85.86 - 79.72 "
   ]
  },
  {
   "cell_type": "code",
   "execution_count": null,
   "metadata": {
    "collapsed": true
   },
   "outputs": [],
   "source": []
  },
  {
   "cell_type": "code",
   "execution_count": null,
   "metadata": {
    "collapsed": true
   },
   "outputs": [],
   "source": []
  },
  {
   "cell_type": "code",
   "execution_count": null,
   "metadata": {
    "collapsed": true
   },
   "outputs": [],
   "source": [
    "this is the origina result\n",
    "\n",
    "LU -999 does not exist in one coverage\n",
    "LU type_0, no Data, is 0.08% different\n",
    "LU type_400, Cultivated_Land, is 7.11% different\n",
    "LU type_500, Agroforest, is 43.88% different\n",
    "LU type_700, Open_Space, is -12.89% different\n",
    "LU type_800, Developed_Woodlands, is -62.80% different\n",
    "LU type_1000, Impervious_Surfaces, is 96.45% different\n",
    "LU type_1200, Mangroves, is 219.24% different\n",
    "LU type_1300, Exposed_Rock, is -30.79% different\n",
    "LU type_1400, Grassland, is -46.72% different\n",
    "LU type_1500, Upland_Scrub, is -9.91% different\n",
    "LU type_1600, Lowland_Rainforest, is -7.15% different\n",
    "LU type_1700, Successional_Scrub, is -34.05% different\n",
    "LU type_2100, Montane_Rainforest, is -0.63% different"
   ]
  },
  {
   "cell_type": "code",
   "execution_count": null,
   "metadata": {
    "collapsed": true
   },
   "outputs": [],
   "source": []
  },
  {
   "cell_type": "code",
   "execution_count": 11,
   "metadata": {},
   "outputs": [
    {
     "data": {
      "text/plain": [
       "<Result 'true'>"
      ]
     },
     "execution_count": 11,
     "metadata": {},
     "output_type": "execute_result"
    }
   ],
   "source": [
    "# IMPORTANT! \n",
    "### When pushing to github uncoment and run this cell, this file is over 100 mb\n",
    "\n",
    "    \n",
    "# delete the Aggregated shapefile to push to GitHub (>100 mb) uncheck this to get the shapefile back\n",
    "\n",
    "#arcpy.Delete_management(os.path.join(workspace, \"Finished_LU_99.shp\"))"
   ]
  },
  {
   "cell_type": "code",
   "execution_count": 12,
   "metadata": {
    "collapsed": true
   },
   "outputs": [],
   "source": []
  },
  {
   "cell_type": "code",
   "execution_count": null,
   "metadata": {
    "collapsed": true
   },
   "outputs": [],
   "source": []
  },
  {
   "cell_type": "code",
   "execution_count": null,
   "metadata": {
    "collapsed": true
   },
   "outputs": [],
   "source": []
  },
  {
   "cell_type": "code",
   "execution_count": null,
   "metadata": {
    "collapsed": true
   },
   "outputs": [],
   "source": []
  },
  {
   "cell_type": "code",
   "execution_count": null,
   "metadata": {
    "collapsed": true
   },
   "outputs": [],
   "source": []
  },
  {
   "cell_type": "code",
   "execution_count": null,
   "metadata": {
    "collapsed": true
   },
   "outputs": [],
   "source": []
  },
  {
   "cell_type": "code",
   "execution_count": null,
   "metadata": {
    "collapsed": true
   },
   "outputs": [],
   "source": []
  },
  {
   "cell_type": "code",
   "execution_count": null,
   "metadata": {
    "collapsed": true
   },
   "outputs": [],
   "source": []
  },
  {
   "cell_type": "code",
   "execution_count": null,
   "metadata": {
    "collapsed": true
   },
   "outputs": [],
   "source": []
  }
 ],
 "metadata": {
  "kernelspec": {
   "display_name": "Python 3",
   "language": "python",
   "name": "python3"
  },
  "language_info": {
   "codemirror_mode": {
    "name": "ipython",
    "version": 3
   },
   "file_extension": ".py",
   "mimetype": "text/x-python",
   "name": "python",
   "nbconvert_exporter": "python",
   "pygments_lexer": "ipython3",
   "version": "3.6.2"
  }
 },
 "nbformat": 4,
 "nbformat_minor": 2
}
