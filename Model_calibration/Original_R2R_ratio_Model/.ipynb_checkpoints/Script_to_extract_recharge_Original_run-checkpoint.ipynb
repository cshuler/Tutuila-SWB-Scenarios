{
 "cells": [
  {
   "cell_type": "code",
   "execution_count": 3,
   "metadata": {
    "collapsed": true
   },
   "outputs": [],
   "source": [
    "import os\n",
    "import arcpy\n",
    "from arcpy.sa import *\n",
    "import pandas as pd\n",
    "arcpy.env.overwriteOutput = True # make sure overwrite files is on"
   ]
  },
  {
   "cell_type": "code",
   "execution_count": 4,
   "metadata": {},
   "outputs": [],
   "source": [
    "Cal_Results = os.path.join(\"output\", 'Calibration_results')\n",
    "if not os.path.exists(Cal_Results):\n",
    "    os.makedirs(Cal_Results)\n",
    "    \n",
    "sheds = os.path.join(\"..\", \"..\",  \"Raw_GIS_Data\", \"Watersheds\", \"Calibration_watersheds\",  \"Measured_watersheds.shp\")\n",
    "\n",
    "SWB_asc_file_path =    os.path.join(\"output\", \"post_prcessed_with_MFR\")\n",
    "\n",
    "DatasetsToRun = ['net_infiltration_annual.asc', 'rainfall_annual.asc', 'runoff_annual.asc']  # 1 for calibration, 2 for sanity check, 3 for see how runoff changes\n",
    "\n",
    "templist = []\n",
    "\n",
    "for i in DatasetsToRun:\n",
    "    outZSaT = ZonalStatisticsAsTable(sheds, \"gage_name\", os.path.join(SWB_asc_file_path, i), os.path.join(Cal_Results, \"temptab.dbf\"))  # in arc format\n",
    "    arcpy.TableToTable_conversion(outZSaT, Cal_Results, \"SWB_{}_MeasureSheds.csv\".format(i)) \n",
    "\n",
    "# this block takes the parameters of interests, reads them and calculates water volumnes (m3/d) for each watershed\n",
    "\n",
    "    data = pd.read_csv(os.path.join(Cal_Results, \"SWB_{}_MeasureSheds.csv\".format(i)))\n",
    "    keyname = \"obs\" + i.split(\".\")[0] + \"_m3pd\"\n",
    "    data[keyname] = (data['MEAN']*.0254/365) * data['AREA']   # Convert ave recharge in inches/yr to m3pd\n",
    "    temp_frame = data[[\"gage_name\", keyname]]\n",
    "    templist.append(temp_frame)\n",
    "\n",
    "summarry_frame = data[['gage_name']]                                        # this is just sticking them all together into one dataframe\n",
    "for i in templist:\n",
    "    summarry_frame = summarry_frame.merge(i, on ='gage_name', how='outer')\n",
    "    \n",
    "    # Now summarry_frame['net_infiltration_annual_m3pd'] are your clibration values.\n",
    "    summarry_frame.to_csv(\"Observed_R2R_type_recharge_cal_values.csv\")"
   ]
  },
  {
   "cell_type": "code",
   "execution_count": 5,
   "metadata": {},
   "outputs": [
    {
     "data": {
      "text/plain": [
       "'C:\\\\Users\\\\cshuler\\\\Desktop\\\\Github_repo_copies\\\\SWB2-Particapatory_Scenarios\\\\Model_calibration\\\\Original_R2R_ratio_Model'"
      ]
     },
     "execution_count": 5,
     "metadata": {},
     "output_type": "execute_result"
    }
   ],
   "source": [
    "pwd"
   ]
  },
  {
   "cell_type": "code",
   "execution_count": null,
   "metadata": {
    "collapsed": true
   },
   "outputs": [],
   "source": []
  }
 ],
 "metadata": {
  "kernelspec": {
   "display_name": "Python 3",
   "language": "python",
   "name": "python3"
  },
  "language_info": {
   "codemirror_mode": {
    "name": "ipython",
    "version": 3
   },
   "file_extension": ".py",
   "mimetype": "text/x-python",
   "name": "python",
   "nbconvert_exporter": "python",
   "pygments_lexer": "ipython3",
   "version": "3.6.2"
  }
 },
 "nbformat": 4,
 "nbformat_minor": 2
}
