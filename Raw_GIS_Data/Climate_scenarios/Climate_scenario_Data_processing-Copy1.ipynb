{
 "cells": [
  {
   "cell_type": "markdown",
   "metadata": {},
   "source": [
    "# This notebook takes in netCDF based climate model preditions and formats them for use in the SWB model \n",
    "Some notes: \n",
    "- The projection on these files seems messed up. Therefore I had to manually move them over somewhat to line them up with what I estimated to be the right spot\n",
    "- So far I have only done rainfall. If I wanted to do temperature too I would fhave to do the temp max and min..."
   ]
  },
  {
   "cell_type": "code",
   "execution_count": 5,
   "metadata": {},
   "outputs": [
    {
     "data": {
      "text/html": [
       " <style>\n",
       "    div#notebook-container    { width: 95%; }\n",
       "    div#menubar-container     { width: 85%; }\n",
       "    div#maintoolbar-container { width: 99%; } </style> "
      ],
      "text/plain": [
       "<IPython.core.display.HTML object>"
      ]
     },
     "metadata": {},
     "output_type": "display_data"
    }
   ],
   "source": [
    "# make the screen bigger!\n",
    "from IPython.display import display, HTML\n",
    "display(HTML(data=\"\"\" <style>\n",
    "    div#notebook-container    { width: 95%; }\n",
    "    div#menubar-container     { width: 85%; }\n",
    "    div#maintoolbar-container { width: 99%; } </style> \"\"\"))\n",
    "\n",
    "# modules\n",
    "import os\n",
    "import numpy as np\n",
    "import matplotlib.pyplot as plt\n",
    "import xarray as xr\n",
    "from pyproj import Proj, transform\n",
    "import pandas as pd\n",
    "%matplotlib inline\n",
    "\n",
    "# functions \n",
    "def writeArrayToArcGrid(arr,filename,xll,yll,cellsize,no_data_val):\n",
    "    \"\"\" this takes a 2d numpy array and turns it into an .asc file \"\"\"\n",
    "    arr                = np.copy(arr)\n",
    "    arr[np.isnan(arr)] = no_data_val\n",
    "    headerstring       = bytes('NCOLS %d\\nNROWS %d\\nXLLCENTER %f\\nYLLCENTER %f\\nCELLSIZE %f\\nNODATA_value %f\\n' % \n",
    "        (arr.shape[1], arr.shape[0], xll, yll, cellsize, no_data_val), 'UTF-8')\n",
    "\n",
    "    with open(filename,'wb') as fout:\n",
    "        fout.write(headerstring)\n",
    "        np.savetxt(fout,arr,'%5.2f')\n",
    "        \n",
    "# Paths\n",
    "Datapath = os.path.join(\".\", 'RawData')\n",
    "Outpath =  os.path.join(\".\", 'ProcessedData')\n",
    "\n",
    "Rain_present = Datapath +'\\\\'+'samoa_hourly_present_RAIN_1990-2009.nc'\n",
    "Rain_rcp45 = Datapath +'\\\\'+'samoa_hourly_rcp45_RAIN_1990-2009.nc'\n",
    "Rain_rcp85 = Datapath +'\\\\'+'samoa_hourly_rcp85_RAIN_1990-2009.nc'\n",
    "\n",
    "Temp_present = Datapath +'\\\\'+'samoa_hourly_present_T2_1990-2009.nc'\n",
    "Temp_rcp45 = Datapath +'\\\\'+'samoa_hourly_rcp45_T2_1990-2009.nc'\n",
    "Temp_rcp85 = Datapath +'\\\\'+'samoa_hourly_rcp85_T2_1990-2009.nc'"
   ]
  },
  {
   "cell_type": "code",
   "execution_count": 2,
   "metadata": {
    "scrolled": true
   },
   "outputs": [],
   "source": [
    "# load up all the rainfall data files \n",
    "\n",
    "data_R_p = xr.open_dataset(Rain_present)    # open up the nc file\n",
    "data_R_45 = xr.open_dataset(Rain_rcp45)    \n",
    "data_R_85 = xr.open_dataset(Rain_rcp85)    \n",
    "\n",
    "rain_variable_R_p = data_R_p['RAIN']            # select the rain variable (has time, lat and lon dimentions)\n",
    "rain_variable_R_45 = data_R_45['RAIN']  \n",
    "rain_variable_R_85 = data_R_85['RAIN']  \n",
    "\n",
    "#monthly_R_p = rain_variable.groupby('Time.month').sum(dim='Time')   # turn it into a set of 12 time arrays one for each month (all 20 years of data ADDED together for each month) \n",
    "#monthly_R_p = monthly/20    # this is because the dataset is 20 years long, now er have average monthly values from the 20 year dataset, but for one month\n",
    "\n",
    "yearly_R_p = rain_variable_R_p.groupby('Time.year').sum(dim='Time')    # turn it into 20 time arrays one for each year\n",
    "yearly_R_45 = rain_variable_R_45.groupby('Time.year').sum(dim='Time')\n",
    "yearly_R_85 = rain_variable_R_85.groupby('Time.year').sum(dim='Time')\n",
    "\n",
    "yearlyave_R_p = np.mean(yearly_R_p, 0)                                 # Average all the years together into a single average yearly dataset\n",
    "yearlyave_R_45 = np.mean(yearly_R_45, 0) \n",
    "yearlyave_R_85 = np.mean(yearly_R_85, 0) \n",
    "\n",
    "#yearlyave_R_p.plot(); plt.show()            # plot if want\n",
    "#yearlyave_R_45.plot() ; plt.show()\n",
    "#yearlyave_R_85.plot() ; plt.show()"
   ]
  },
  {
   "cell_type": "markdown",
   "metadata": {},
   "source": [
    "### Rainfall Data Yearly loop, also this defines some of the geometry attributes used in the monthly ones so need to run first"
   ]
  },
  {
   "cell_type": "code",
   "execution_count": 3,
   "metadata": {},
   "outputs": [],
   "source": [
    "scene_list = [yearlyave_R_p,  yearlyave_R_45,  yearlyave_R_85]     # list of the processed yearly average arrays from above\n",
    "name_list = [\"present\", \"rcp45\", \"rcp85\"]                          # names \n",
    "\n",
    "# this little block does some projection from WGS 84 to UTM2  but just for getting the corner values really, \n",
    "# projection definitions\n",
    "inProj = Proj(\"+proj=latlon +ellps=WGS84 + datum=WGS84 +no_defs +towgs84=0,0,0\")\n",
    "outProj = Proj(\"+proj=utm +zone=2 +south +ellps=WGS84 +datum=WGS84 +units=m +no_defs \")\n",
    "LonData = np.array(data_R_p['XLONG']).flatten()\n",
    "LatData = np.array(data_R_p['XLAT']).flatten()\n",
    "LonDataUTM, LatDataUTM = transform(inProj, outProj, LonData , LatData)\n",
    "MaxY = round(max(LatDataUTM))\n",
    "MinY = round(min(LatDataUTM))\n",
    "MaxX = round(max(LonDataUTM))\n",
    "MinX = round(min(LonDataUTM))\n",
    "Lx = MaxX - MinX\n",
    "Ly = MaxY - MinY\n",
    "Dy = Lx/50\n",
    "Dx = Ly/26\n",
    "XLLCORNER =  MinX+2800        # so the projection of the NETCDF file seems to be messed up. I Substituted these numbers in to transform it to more reasonable values\n",
    "YLLCORNER = MinY+400\n",
    "\n",
    "# this then writes the array to an asc file\n",
    "for ix in range(0,3):    \n",
    "    Why_upsidedown = np.flip(scene_list[ix], axis=0)\n",
    "    writeArrayToArcGrid(Why_upsidedown*0.0393701, os.path.join(Outpath,  \"yearly_rainfall_{}.asc\".format(name_list[ix])), XLLCORNER, YLLCORNER, 800, -999)"
   ]
  },
  {
   "cell_type": "code",
   "execution_count": null,
   "metadata": {},
   "outputs": [],
   "source": []
  },
  {
   "cell_type": "code",
   "execution_count": null,
   "metadata": {},
   "outputs": [],
   "source": []
  },
  {
   "cell_type": "markdown",
   "metadata": {},
   "source": [
    "### Rainfall Monthly Loop \n",
    "same as above but loops over each month to create monthyl files which the model will actually use. "
   ]
  },
  {
   "cell_type": "code",
   "execution_count": null,
   "metadata": {},
   "outputs": [],
   "source": [
    "monthly = rain_variable_R_p.groupby('Time.month').sum(dim='Time')   # turn it into a set of 12 time arrays one for each month (all 20 years of data ADDED together for each month) \n",
    "monthly_R_p = monthly/20    # this is because the dataset is 20 years long, now er have average monthly values from the 20 year dataset, but for one month\n",
    "\n",
    "monthly = rain_variable_R_45.groupby('Time.month').sum(dim='Time')   # turn it into a set of 12 time arrays one for each month (all 20 years of data ADDED together for each month) \n",
    "monthly_R_45 = monthly/20\n",
    "\n",
    "monthly = rain_variable_R_85.groupby('Time.month').sum(dim='Time')   # turn it into a set of 12 time arrays one for each month (all 20 years of data ADDED together for each month) \n",
    "monthly_R_85 = monthly/20\n",
    "\n",
    "scene_list = [monthly_R_p,  monthly_R_45,  monthly_R_85]\n",
    "Data_list = [data_R_p,  data_R_45,  data_R_85] \n",
    "name_list = [\"present\", \"rcp45\", \"rcp85\"]\n",
    "\n",
    "for ix in range(0,3):  \n",
    "    Why_upsidedown = scene_list[ix]\n",
    "    \n",
    "    for mo in range(1,13):       \n",
    "        writeArrayToArcGrid(np.flip(Why_upsidedown[mo-1]*0.0393701, axis=0), os.path.join(Outpath,  \"month_{}_rainfall_{}.asc\".format(mo, name_list[ix])), XLLCORNER, YLLCORNER, 800, -999)"
   ]
  },
  {
   "cell_type": "code",
   "execution_count": null,
   "metadata": {},
   "outputs": [],
   "source": []
  },
  {
   "cell_type": "code",
   "execution_count": null,
   "metadata": {},
   "outputs": [],
   "source": [
    "# eploratorty below"
   ]
  },
  {
   "cell_type": "code",
   "execution_count": null,
   "metadata": {},
   "outputs": [],
   "source": []
  },
  {
   "cell_type": "code",
   "execution_count": 36,
   "metadata": {},
   "outputs": [
    {
     "data": {
      "text/plain": [
       "7305.0"
      ]
     },
     "execution_count": 36,
     "metadata": {},
     "output_type": "execute_result"
    }
   ],
   "source": []
  },
  {
   "cell_type": "code",
   "execution_count": 6,
   "metadata": {},
   "outputs": [
    {
     "data": {
      "text/plain": [
       "7305.0"
      ]
     },
     "execution_count": 6,
     "metadata": {},
     "output_type": "execute_result"
    }
   ],
   "source": [
    "# Temp Data preparation\n",
    "data_T_p = xr.open_dataset(Temp_present)    # open up the nc file\n",
    "data_T_45 = xr.open_dataset(Temp_rcp45)    \n",
    "data_T_85 = xr.open_dataset(Temp_rcp85)  \n",
    "\n",
    "temp_variable_T_p = data_T_p['T2']            # select the rain variable (has time, lat and lon dimentions)\n",
    "temp_variable_T_45 = data_T_45['T2']  \n",
    "temp_variable_T_85 = data_T_85['T2']\n",
    "\n",
    "7305.0"
   ]
  },
  {
   "cell_type": "code",
   "execution_count": 29,
   "metadata": {},
   "outputs": [
    {
     "data": {
      "text/plain": [
       "(2, 26, 50)"
      ]
     },
     "execution_count": 29,
     "metadata": {},
     "output_type": "execute_result"
    }
   ],
   "source": [
    "sliceo = temp_variable_T_p[0:48,:,:]\n",
    "np.shape(sliceo)\n",
    "pogomin = sliceo.groupby('Time.day').min(dim='Time')\n",
    "np.shape(pogomin)\n"
   ]
  },
  {
   "cell_type": "code",
   "execution_count": null,
   "metadata": {},
   "outputs": [],
   "source": []
  },
  {
   "cell_type": "code",
   "execution_count": 19,
   "metadata": {},
   "outputs": [],
   "source": [
    "sliceo = temp_variable_T_p[0:100,:,:]\n",
    "pogomin = sliceo.groupby('Time.day').min(dim='Time')\n",
    "pogomax = sliceo.groupby('Time.day').max(dim='Time')\n",
    "\n",
    "\n",
    "writeArrayToArcGrid(pogomax[0,:,:], os.path.join(\".\", \"maxtemptest.asc\"), XLLCORNER, YLLCORNER, 800, -999)\n",
    "writeArrayToArcGrid(pogomin[0,:,:], os.path.join(\".\", \"mintemptest.asc\"), XLLCORNER, YLLCORNER, 800, -999)"
   ]
  },
  {
   "cell_type": "code",
   "execution_count": null,
   "metadata": {},
   "outputs": [],
   "source": []
  },
  {
   "cell_type": "code",
   "execution_count": null,
   "metadata": {},
   "outputs": [],
   "source": []
  },
  {
   "cell_type": "code",
   "execution_count": null,
   "metadata": {},
   "outputs": [],
   "source": []
  },
  {
   "cell_type": "code",
   "execution_count": null,
   "metadata": {},
   "outputs": [],
   "source": []
  },
  {
   "cell_type": "code",
   "execution_count": 9,
   "metadata": {},
   "outputs": [
    {
     "name": "stdout",
     "output_type": "stream",
     "text": [
      "0\n",
      "1\n",
      "2\n",
      "3\n",
      "4\n",
      "5\n",
      "6\n"
     ]
    }
   ],
   "source": [
    "dayminlist = []\n",
    "for i in range (0, 7):   # 7305 is number of days in 20 years\n",
    "    step = 24*i\n",
    "    day_arr = temp_variable_T_p[0+step:24+step,:,:]\n",
    "    day_min = day_arr.groupby('Time.day').min(dim='Time')\n",
    "    dayminlist.append(day_min)\n",
    "    \n",
    "    print(i)\n",
    "    \n",
    "daily_min =  xr.concat(dayminlist, dim='day')"
   ]
  },
  {
   "cell_type": "code",
   "execution_count": 10,
   "metadata": {},
   "outputs": [
    {
     "data": {
      "text/plain": [
       "xarray.core.dataarray.DataArray"
      ]
     },
     "execution_count": 10,
     "metadata": {},
     "output_type": "execute_result"
    }
   ],
   "source": [
    "type(daily_min)"
   ]
  },
  {
   "cell_type": "code",
   "execution_count": 17,
   "metadata": {},
   "outputs": [],
   "source": [
    "daily_min.to_netcdf(os.path.join(Outpath, \"shitdong.nc\"))"
   ]
  },
  {
   "cell_type": "code",
   "execution_count": 13,
   "metadata": {},
   "outputs": [
    {
     "data": {
      "text/plain": [
       "'C:\\\\Users\\\\WRRCuser\\\\Desktop\\\\NewWork\\\\SWB2_model\\\\Raw_GIS_Data\\\\Climate_scenarios'"
      ]
     },
     "execution_count": 13,
     "metadata": {},
     "output_type": "execute_result"
    }
   ],
   "source": [
    "pwd"
   ]
  },
  {
   "cell_type": "code",
   "execution_count": 11,
   "metadata": {},
   "outputs": [
    {
     "name": "stdout",
     "output_type": "stream",
     "text": [
      "<xarray.DataArray 'T2' (Time: 24, west_east: 50)>\n",
      "array([[ 300.640656,  300.638794,  300.63858 , ...,  300.712738,  300.717499,\n",
      "         300.714447],\n",
      "       [ 300.825165,  300.828766,  300.832947, ...,  300.716064,  300.671875,\n",
      "         300.696045],\n",
      "       [ 300.867126,  300.862274,  300.858185, ...,  300.822205,  300.817322,\n",
      "         300.81546 ],\n",
      "       ..., \n",
      "       [ 300.244202,  300.182739,  300.205841, ...,  299.690277,  299.882355,\n",
      "         299.920471],\n",
      "       [ 300.4021  ,  300.390289,  300.384125, ...,  300.54892 ,  300.529694,\n",
      "         300.517151],\n",
      "       [ 300.686218,  300.684723,  300.674866, ...,  300.772125,  300.76886 ,\n",
      "         300.762329]], dtype=float32)\n",
      "Coordinates:\n",
      "  * Time     (Time) datetime64[ns] 1990-01-03 1990-01-03T01:00:00 ...\n",
      "Dimensions without coordinates: west_east\n"
     ]
    }
   ],
   "source": [
    "for i in range (0, 7305):    # 7305 is number of days in 20 years\n",
    "    step = 24*i\n",
    "    arr =  np.amax(temp_variable_T_p[0+step:24+step,:,:],0)\n",
    "    arr_list.append(arr)\n",
    "\n",
    "daily_max =  xr.concat(arr_list, dim='time')"
   ]
  },
  {
   "cell_type": "code",
   "execution_count": 73,
   "metadata": {},
   "outputs": [
    {
     "data": {
      "text/plain": [
       "<xarray.DataArray 'T2' (time: 2, south_north: 26, west_east: 50)>\n",
       "array([[[ 299.953552,  299.870758, ...,  300.102478,  300.103333],\n",
       "        [ 299.987   ,  299.875183, ...,  300.110809,  300.106842],\n",
       "        ..., \n",
       "        [ 299.669952,  299.590088, ...,  299.801178,  299.828644],\n",
       "        [ 299.571808,  299.521912, ...,  299.857513,  299.866882]],\n",
       "\n",
       "       [[ 300.04361 ,  300.039124, ...,  299.686584,  299.70163 ],\n",
       "        [ 300.032684,  300.024689, ...,  299.937408,  299.938263],\n",
       "        ..., \n",
       "        [ 300.007965,  299.998291, ...,  299.905182,  299.973846],\n",
       "        [ 300.023621,  300.018097, ...,  299.858429,  299.917175]]], dtype=float32)\n",
       "Coordinates:\n",
       "    XLAT     (south_north, west_east) float32 -14.4063 -14.4063 -14.4063 ...\n",
       "    XLONG    (south_north, west_east) float32 -170.905 -170.898 -170.891 ...\n",
       "Dimensions without coordinates: time, south_north, west_east"
      ]
     },
     "execution_count": 73,
     "metadata": {},
     "output_type": "execute_result"
    }
   ],
   "source": [
    "times = pd.date_range('1990-01-01', periods=7305)\n",
    "\n",
    "da = xr.DataArray(arr, dims=['south_north', 'west_east']) \n",
    "da.dims\n",
    "bong = xr.concat([arr, arr2], dim='time')\n",
    "bong"
   ]
  },
  {
   "cell_type": "code",
   "execution_count": 81,
   "metadata": {},
   "outputs": [],
   "source": [
    "bong = xr.concat([arr, arr2], dim='time')"
   ]
  },
  {
   "cell_type": "code",
   "execution_count": null,
   "metadata": {},
   "outputs": [],
   "source": []
  },
  {
   "cell_type": "code",
   "execution_count": null,
   "metadata": {},
   "outputs": [],
   "source": []
  },
  {
   "cell_type": "code",
   "execution_count": null,
   "metadata": {},
   "outputs": [],
   "source": []
  },
  {
   "cell_type": "code",
   "execution_count": null,
   "metadata": {},
   "outputs": [],
   "source": []
  },
  {
   "cell_type": "code",
   "execution_count": null,
   "metadata": {},
   "outputs": [],
   "source": []
  },
  {
   "cell_type": "code",
   "execution_count": null,
   "metadata": {},
   "outputs": [],
   "source": []
  },
  {
   "cell_type": "code",
   "execution_count": null,
   "metadata": {},
   "outputs": [],
   "source": []
  },
  {
   "cell_type": "code",
   "execution_count": null,
   "metadata": {},
   "outputs": [],
   "source": [
    "data_T_p = xr.open_dataset(Temp_present)\n",
    "\n",
    "#step = 24*i\n",
    "#np.shape(data_T_p[\"T2\"][0+step:24+step,:,:])\n",
    "\n",
    "np.shape(data_T_p['T2'])\n",
    "20*365.25"
   ]
  },
  {
   "cell_type": "code",
   "execution_count": null,
   "metadata": {},
   "outputs": [],
   "source": []
  },
  {
   "cell_type": "markdown",
   "metadata": {},
   "source": [
    "### Temperature Monthly Loop \n",
    "same as above but loops over each month to create monthyl files which the model will actually use. "
   ]
  },
  {
   "cell_type": "code",
   "execution_count": null,
   "metadata": {},
   "outputs": [],
   "source": [
    "monthly = rain_variable_R_p.groupby('Time.month').sum(dim='Time')   # turn it into a set of 12 time arrays one for each month (all 20 years of data ADDED together for each month) \n",
    "monthly_R_p = monthly/20    # this is because the dataset is 20 years long, now er have average monthly values from the 20 year dataset, but for one month\n",
    "\n",
    "monthly = rain_variable_R_45.groupby('Time.month').sum(dim='Time')   # turn it into a set of 12 time arrays one for each month (all 20 years of data ADDED together for each month) \n",
    "monthly_R_45 = monthly/20\n",
    "\n",
    "monthly = rain_variable_R_85.groupby('Time.month').sum(dim='Time')   # turn it into a set of 12 time arrays one for each month (all 20 years of data ADDED together for each month) \n",
    "monthly_R_85 = monthly/20\n",
    "\n",
    "scene_list = [monthly_R_p,  monthly_R_45,  monthly_R_85]\n",
    "Data_list = [data_R_p,  data_R_45,  data_R_85] \n",
    "name_list = [\"present\", \"rcp45\", \"rcp85\"]\n",
    "\n",
    "for ix in range(0,3):  \n",
    "    Why_upsidedown = scene_list[ix]\n",
    "    \n",
    "    for mo in range(1,13):       \n",
    "        writeArrayToArcGrid(np.flip(Why_upsidedown[mo-1]*0.0393701, axis=0), os.path.join(Outpath,  \"month_{}_rainfall_{}.asc\".format(mo, name_list[ix])), XLLCORNER, YLLCORNER, 800, -999)"
   ]
  },
  {
   "cell_type": "code",
   "execution_count": null,
   "metadata": {},
   "outputs": [],
   "source": []
  },
  {
   "cell_type": "code",
   "execution_count": null,
   "metadata": {},
   "outputs": [],
   "source": []
  },
  {
   "cell_type": "code",
   "execution_count": null,
   "metadata": {},
   "outputs": [],
   "source": []
  },
  {
   "cell_type": "code",
   "execution_count": null,
   "metadata": {},
   "outputs": [],
   "source": []
  }
 ],
 "metadata": {
  "kernelspec": {
   "display_name": "Python 3",
   "language": "python",
   "name": "python3"
  },
  "language_info": {
   "codemirror_mode": {
    "name": "ipython",
    "version": 3
   },
   "file_extension": ".py",
   "mimetype": "text/x-python",
   "name": "python",
   "nbconvert_exporter": "python",
   "pygments_lexer": "ipython3",
   "version": "3.6.2"
  }
 },
 "nbformat": 4,
 "nbformat_minor": 2
}
